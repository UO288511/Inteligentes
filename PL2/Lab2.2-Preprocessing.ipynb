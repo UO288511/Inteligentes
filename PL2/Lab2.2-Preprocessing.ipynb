{
 "cells": [
  {
   "cell_type": "markdown",
   "metadata": {},
   "source": [
    "# **Lab 2.2: Preprocessing**\n",
    "\n",
    "<hr>\n",
    "\n",
    "## **1. Objective**\n",
    "In this lab, we will download a dataset, analyze it, and clean it for use in future labs.\n",
    "\n",
    "### **Pandas Library**\n",
    "It is considered the most popular data analysis library in Python.\n",
    "It performs all its operations using a *\"DataFrame\"* object.\n",
    "\n",
    "It allows, among other operations:  \n",
    "\n",
    "* Loading and storing data in different formats (csv, tsv, xlsx, txt...).  \n",
    "* Manipulating rows, columns, and cells.  \n",
    "* Filtering or grouping content.  \n",
    "* Performing intersection, concatenation, or merging of multiple DataFrames.  \n",
    "\n",
    "To install it:"
   ]
  },
  {
   "cell_type": "code",
   "execution_count": 2,
   "metadata": {},
   "outputs": [
    {
     "name": "stdout",
     "output_type": "stream",
     "text": [
      "Requirement already satisfied: pandas in c:\\users\\uo288511\\.conda\\envs\\ssii\\lib\\site-packages (2.2.3)\n",
      "Requirement already satisfied: numpy>=1.22.4 in c:\\users\\uo288511\\.conda\\envs\\ssii\\lib\\site-packages (from pandas) (2.2.2)\n",
      "Requirement already satisfied: python-dateutil>=2.8.2 in c:\\users\\uo288511\\.conda\\envs\\ssii\\lib\\site-packages (from pandas) (2.9.0.post0)\n",
      "Requirement already satisfied: pytz>=2020.1 in c:\\users\\uo288511\\.conda\\envs\\ssii\\lib\\site-packages (from pandas) (2025.1)\n",
      "Requirement already satisfied: tzdata>=2022.7 in c:\\users\\uo288511\\.conda\\envs\\ssii\\lib\\site-packages (from pandas) (2025.1)\n",
      "Requirement already satisfied: six>=1.5 in c:\\users\\uo288511\\.conda\\envs\\ssii\\lib\\site-packages (from python-dateutil>=2.8.2->pandas) (1.17.0)\n"
     ]
    }
   ],
   "source": [
    "! pip install pandas"
   ]
  },
  {
   "cell_type": "markdown",
   "metadata": {},
   "source": [
    "<div class=\"alert alert-block alert-warning\">  \n",
    "    <strong>NOTE:</strong> The exclamation mark before the code indicates to Jupyter that this is not Python and should be executed in the terminal. This allows us to install libraries directly from the notebook.\n",
    "</div>"
   ]
  },
  {
   "cell_type": "markdown",
   "metadata": {},
   "source": [
    "<hr>\n",
    "\n",
    "## **2. Exploratory Data Analysis (EDA)**\n",
    "\n",
    "The main objectives of this analysis are:\n",
    "* Understand the data we will be working with.\n",
    "* Clean the dataset:\n",
    "  * Remove empty rows or columns.\n",
    "  * Eliminate inconsistent values.\n",
    "\n",
    "Our dataset contains information about a race from the 2023 Formula 1 season.\n",
    "Next, we will download the data and analyze it using the Pandas library."
   ]
  },
  {
   "cell_type": "code",
   "execution_count": 3,
   "metadata": {},
   "outputs": [],
   "source": [
    "import pandas as pd\n",
    "\n",
    "url_data = 'https://raw.githubusercontent.com/AIC-Uniovi/Sistemas-Inteligentes/refs/heads/main/datasets/f1_23_monaco.csv'\n",
    "data = pd.read_csv(url_data)"
   ]
  },
  {
   "cell_type": "markdown",
   "metadata": {},
   "source": [
    "**Description of Dataset Columns**\n",
    "\n",
    "| Column               | Description |\n",
    "|----------------------|------------|\n",
    "| `Time`              | Total elapsed time in the session. |\n",
    "| `Driver`            | Three-letter driver code. |\n",
    "| `DriverNumber`      | Driver's race number. |\n",
    "| `LapTime`           | Total lap time. |\n",
    "| `LapNumber`         | Lap number in the session. |\n",
    "| `Stint`             | Current stint number (period between pit stops). |\n",
    "| `PitOutTime`        | Time when the driver exited the pit lane. |\n",
    "| `PitInTime`         | Time when the driver entered the pit lane. |\n",
    "| `Sector1Time`       | Time recorded in the first sector of the lap. |\n",
    "| `Sector2Time`       | Time recorded in the second sector of the lap. |\n",
    "| `Sector3Time`       | Time recorded in the third sector of the lap. |\n",
    "| `SpeedI1`           | Speed measured at the first detection point. |\n",
    "| `SpeedI2`           | Speed measured at the second detection point. |\n",
    "| `SpeedFL`           | Speed at the finish line. |\n",
    "| `SpeedST`           | Maximum speed in the sector. |\n",
    "| `IsPersonalBest`    | Indicates if the lap is the driver's personal best (`True`/`False`). |\n",
    "| `Compound`          | Type of tire compound used. |\n",
    "| `TyreLife`          | Number of laps the tire has been used. |\n",
    "| `FreshTyre`         | Indicates if the tire was new at the start of the lap (`True`/`False`). |\n",
    "| `Team`              | Driver's team name. |\n",
    "| `LapStartTime`      | Lap start time within the session. |\n",
    "| `LapStartDate`      | Exact date and time of lap start. |\n",
    "| `TrackStatus`       | Track condition during the lap (e.g., yellow flag, green flag, etc.). |\n",
    "| `Position`          | Driver's position at the end of the lap. |\n",
    "| `Deleted`           | Indicates if the lap was deleted (`True`/`False`). |\n",
    "| `DeletedReason`     | Reason why the lap was deleted (if applicable). |\n",
    "| `IsAccurate`        | Indicates if the lap data is accurate (`True`/`False`). |"
   ]
  },
  {
   "cell_type": "markdown",
   "metadata": {},
   "source": [
    "### **Basic Operations**"
   ]
  },
  {
   "cell_type": "code",
   "execution_count": 4,
   "metadata": {},
   "outputs": [
    {
     "data": {
      "text/plain": [
       "Index(['Time', 'Driver', 'DriverNumber', 'LapTime', 'LapNumber', 'Stint',\n",
       "       'PitOutTime', 'PitInTime', 'Sector1Time', 'Sector2Time', 'Sector3Time',\n",
       "       'SpeedI1', 'SpeedI2', 'SpeedFL', 'SpeedST', 'IsPersonalBest',\n",
       "       'Compound', 'TyreLife', 'FreshTyre', 'Team', 'LapStartTime',\n",
       "       'LapStartDate', 'TrackStatus', 'Position', 'Deleted', 'DeletedReason',\n",
       "       'IsAccurate'],\n",
       "      dtype='object')"
      ]
     },
     "execution_count": 4,
     "metadata": {},
     "output_type": "execute_result"
    }
   ],
   "source": [
    "# Column names\n",
    "data.columns"
   ]
  },
  {
   "cell_type": "code",
   "execution_count": 5,
   "metadata": {},
   "outputs": [
    {
     "data": {
      "text/plain": [
       "Time               object\n",
       "Driver             object\n",
       "DriverNumber        int64\n",
       "LapTime            object\n",
       "LapNumber         float64\n",
       "Stint             float64\n",
       "PitOutTime         object\n",
       "PitInTime          object\n",
       "Sector1Time        object\n",
       "Sector2Time        object\n",
       "Sector3Time        object\n",
       "SpeedI1           float64\n",
       "SpeedI2           float64\n",
       "SpeedFL           float64\n",
       "SpeedST           float64\n",
       "IsPersonalBest       bool\n",
       "Compound           object\n",
       "TyreLife          float64\n",
       "FreshTyre            bool\n",
       "Team               object\n",
       "LapStartTime       object\n",
       "LapStartDate       object\n",
       "TrackStatus         int64\n",
       "Position          float64\n",
       "Deleted              bool\n",
       "DeletedReason      object\n",
       "IsAccurate           bool\n",
       "dtype: object"
      ]
     },
     "execution_count": 5,
     "metadata": {},
     "output_type": "execute_result"
    }
   ],
   "source": [
    "# Column types\n",
    "data.dtypes"
   ]
  },
  {
   "cell_type": "code",
   "execution_count": 6,
   "metadata": {},
   "outputs": [
    {
     "data": {
      "text/plain": [
       "27"
      ]
     },
     "execution_count": 6,
     "metadata": {},
     "output_type": "execute_result"
    }
   ],
   "source": [
    "# Number of columns\n",
    "len(data.columns)"
   ]
  },
  {
   "cell_type": "code",
   "execution_count": 7,
   "metadata": {},
   "outputs": [
    {
     "data": {
      "text/plain": [
       "1513"
      ]
     },
     "execution_count": 7,
     "metadata": {},
     "output_type": "execute_result"
    }
   ],
   "source": [
    "# Number of rows\n",
    "len(data)"
   ]
  },
  {
   "cell_type": "code",
   "execution_count": 8,
   "metadata": {},
   "outputs": [
    {
     "data": {
      "text/html": [
       "<div>\n",
       "<style scoped>\n",
       "    .dataframe tbody tr th:only-of-type {\n",
       "        vertical-align: middle;\n",
       "    }\n",
       "\n",
       "    .dataframe tbody tr th {\n",
       "        vertical-align: top;\n",
       "    }\n",
       "\n",
       "    .dataframe thead th {\n",
       "        text-align: right;\n",
       "    }\n",
       "</style>\n",
       "<table border=\"1\" class=\"dataframe\">\n",
       "  <thead>\n",
       "    <tr style=\"text-align: right;\">\n",
       "      <th></th>\n",
       "      <th>DriverNumber</th>\n",
       "      <th>LapNumber</th>\n",
       "      <th>Stint</th>\n",
       "      <th>SpeedI1</th>\n",
       "      <th>SpeedI2</th>\n",
       "      <th>SpeedFL</th>\n",
       "      <th>SpeedST</th>\n",
       "      <th>TyreLife</th>\n",
       "      <th>TrackStatus</th>\n",
       "      <th>Position</th>\n",
       "    </tr>\n",
       "  </thead>\n",
       "  <tbody>\n",
       "    <tr>\n",
       "      <th>count</th>\n",
       "      <td>1513.000000</td>\n",
       "      <td>1513.000000</td>\n",
       "      <td>1513.000000</td>\n",
       "      <td>1391.000000</td>\n",
       "      <td>1513.000000</td>\n",
       "      <td>1476.000000</td>\n",
       "      <td>1513.000000</td>\n",
       "      <td>1513.000000</td>\n",
       "      <td>1513.000000</td>\n",
       "      <td>1513.000000</td>\n",
       "    </tr>\n",
       "    <tr>\n",
       "      <th>mean</th>\n",
       "      <td>28.438863</td>\n",
       "      <td>38.523463</td>\n",
       "      <td>1.775942</td>\n",
       "      <td>175.464414</td>\n",
       "      <td>173.806345</td>\n",
       "      <td>257.080623</td>\n",
       "      <td>272.918705</td>\n",
       "      <td>19.269002</td>\n",
       "      <td>2.851950</td>\n",
       "      <td>10.262393</td>\n",
       "    </tr>\n",
       "    <tr>\n",
       "      <th>std</th>\n",
       "      <td>23.285504</td>\n",
       "      <td>22.125804</td>\n",
       "      <td>0.942474</td>\n",
       "      <td>28.337102</td>\n",
       "      <td>21.097378</td>\n",
       "      <td>7.230135</td>\n",
       "      <td>13.549024</td>\n",
       "      <td>13.872089</td>\n",
       "      <td>4.798371</td>\n",
       "      <td>5.671148</td>\n",
       "    </tr>\n",
       "    <tr>\n",
       "      <th>min</th>\n",
       "      <td>1.000000</td>\n",
       "      <td>1.000000</td>\n",
       "      <td>1.000000</td>\n",
       "      <td>90.000000</td>\n",
       "      <td>79.000000</td>\n",
       "      <td>187.000000</td>\n",
       "      <td>157.000000</td>\n",
       "      <td>1.000000</td>\n",
       "      <td>1.000000</td>\n",
       "      <td>1.000000</td>\n",
       "    </tr>\n",
       "    <tr>\n",
       "      <th>25%</th>\n",
       "      <td>11.000000</td>\n",
       "      <td>19.000000</td>\n",
       "      <td>1.000000</td>\n",
       "      <td>151.000000</td>\n",
       "      <td>162.000000</td>\n",
       "      <td>256.000000</td>\n",
       "      <td>271.000000</td>\n",
       "      <td>8.000000</td>\n",
       "      <td>1.000000</td>\n",
       "      <td>5.000000</td>\n",
       "    </tr>\n",
       "    <tr>\n",
       "      <th>50%</th>\n",
       "      <td>22.000000</td>\n",
       "      <td>38.000000</td>\n",
       "      <td>1.000000</td>\n",
       "      <td>189.000000</td>\n",
       "      <td>184.000000</td>\n",
       "      <td>258.000000</td>\n",
       "      <td>278.000000</td>\n",
       "      <td>16.000000</td>\n",
       "      <td>1.000000</td>\n",
       "      <td>10.000000</td>\n",
       "    </tr>\n",
       "    <tr>\n",
       "      <th>75%</th>\n",
       "      <td>44.000000</td>\n",
       "      <td>57.000000</td>\n",
       "      <td>2.000000</td>\n",
       "      <td>197.000000</td>\n",
       "      <td>189.000000</td>\n",
       "      <td>259.000000</td>\n",
       "      <td>280.000000</td>\n",
       "      <td>28.000000</td>\n",
       "      <td>1.000000</td>\n",
       "      <td>15.000000</td>\n",
       "    </tr>\n",
       "    <tr>\n",
       "      <th>max</th>\n",
       "      <td>81.000000</td>\n",
       "      <td>78.000000</td>\n",
       "      <td>6.000000</td>\n",
       "      <td>212.000000</td>\n",
       "      <td>197.000000</td>\n",
       "      <td>272.000000</td>\n",
       "      <td>288.000000</td>\n",
       "      <td>56.000000</td>\n",
       "      <td>21.000000</td>\n",
       "      <td>20.000000</td>\n",
       "    </tr>\n",
       "  </tbody>\n",
       "</table>\n",
       "</div>"
      ],
      "text/plain": [
       "       DriverNumber    LapNumber        Stint      SpeedI1      SpeedI2  \\\n",
       "count   1513.000000  1513.000000  1513.000000  1391.000000  1513.000000   \n",
       "mean      28.438863    38.523463     1.775942   175.464414   173.806345   \n",
       "std       23.285504    22.125804     0.942474    28.337102    21.097378   \n",
       "min        1.000000     1.000000     1.000000    90.000000    79.000000   \n",
       "25%       11.000000    19.000000     1.000000   151.000000   162.000000   \n",
       "50%       22.000000    38.000000     1.000000   189.000000   184.000000   \n",
       "75%       44.000000    57.000000     2.000000   197.000000   189.000000   \n",
       "max       81.000000    78.000000     6.000000   212.000000   197.000000   \n",
       "\n",
       "           SpeedFL      SpeedST     TyreLife  TrackStatus     Position  \n",
       "count  1476.000000  1513.000000  1513.000000  1513.000000  1513.000000  \n",
       "mean    257.080623   272.918705    19.269002     2.851950    10.262393  \n",
       "std       7.230135    13.549024    13.872089     4.798371     5.671148  \n",
       "min     187.000000   157.000000     1.000000     1.000000     1.000000  \n",
       "25%     256.000000   271.000000     8.000000     1.000000     5.000000  \n",
       "50%     258.000000   278.000000    16.000000     1.000000    10.000000  \n",
       "75%     259.000000   280.000000    28.000000     1.000000    15.000000  \n",
       "max     272.000000   288.000000    56.000000    21.000000    20.000000  "
      ]
     },
     "execution_count": 8,
     "metadata": {},
     "output_type": "execute_result"
    }
   ],
   "source": [
    "# Get basic statistics for the entire dataset  \n",
    "data.describe()"
   ]
  },
  {
   "cell_type": "code",
   "execution_count": 9,
   "metadata": {},
   "outputs": [
    {
     "data": {
      "text/plain": [
       "Time              False\n",
       "Driver            False\n",
       "DriverNumber      False\n",
       "LapTime            True\n",
       "LapNumber         False\n",
       "Stint             False\n",
       "PitOutTime         True\n",
       "PitInTime          True\n",
       "Sector1Time        True\n",
       "Sector2Time       False\n",
       "Sector3Time       False\n",
       "SpeedI1            True\n",
       "SpeedI2           False\n",
       "SpeedFL            True\n",
       "SpeedST           False\n",
       "IsPersonalBest    False\n",
       "Compound          False\n",
       "TyreLife          False\n",
       "FreshTyre         False\n",
       "Team              False\n",
       "LapStartTime      False\n",
       "LapStartDate      False\n",
       "TrackStatus       False\n",
       "Position          False\n",
       "Deleted           False\n",
       "DeletedReason      True\n",
       "IsAccurate        False\n",
       "dtype: bool"
      ]
     },
     "execution_count": 9,
     "metadata": {},
     "output_type": "execute_result"
    }
   ],
   "source": [
    "# Find columns with missing values\n",
    "data.isnull().any()"
   ]
  },
  {
   "cell_type": "code",
   "execution_count": 10,
   "metadata": {},
   "outputs": [
    {
     "data": {
      "text/html": [
       "<div>\n",
       "<style scoped>\n",
       "    .dataframe tbody tr th:only-of-type {\n",
       "        vertical-align: middle;\n",
       "    }\n",
       "\n",
       "    .dataframe tbody tr th {\n",
       "        vertical-align: top;\n",
       "    }\n",
       "\n",
       "    .dataframe thead th {\n",
       "        text-align: right;\n",
       "    }\n",
       "</style>\n",
       "<table border=\"1\" class=\"dataframe\">\n",
       "  <thead>\n",
       "    <tr style=\"text-align: right;\">\n",
       "      <th></th>\n",
       "      <th>Time</th>\n",
       "      <th>Driver</th>\n",
       "      <th>DriverNumber</th>\n",
       "      <th>LapTime</th>\n",
       "      <th>LapNumber</th>\n",
       "      <th>Stint</th>\n",
       "      <th>PitOutTime</th>\n",
       "      <th>PitInTime</th>\n",
       "      <th>Sector1Time</th>\n",
       "      <th>Sector2Time</th>\n",
       "      <th>...</th>\n",
       "      <th>TyreLife</th>\n",
       "      <th>FreshTyre</th>\n",
       "      <th>Team</th>\n",
       "      <th>LapStartTime</th>\n",
       "      <th>LapStartDate</th>\n",
       "      <th>TrackStatus</th>\n",
       "      <th>Position</th>\n",
       "      <th>Deleted</th>\n",
       "      <th>DeletedReason</th>\n",
       "      <th>IsAccurate</th>\n",
       "    </tr>\n",
       "  </thead>\n",
       "  <tbody>\n",
       "    <tr>\n",
       "      <th>0</th>\n",
       "      <td>0 days 01:03:27.458000</td>\n",
       "      <td>VER</td>\n",
       "      <td>1</td>\n",
       "      <td>0 days 00:01:24.238000</td>\n",
       "      <td>1.0</td>\n",
       "      <td>1.0</td>\n",
       "      <td>NaN</td>\n",
       "      <td>NaN</td>\n",
       "      <td>NaN</td>\n",
       "      <td>0 days 00:00:37.420000</td>\n",
       "      <td>...</td>\n",
       "      <td>1.0</td>\n",
       "      <td>True</td>\n",
       "      <td>Red Bull Racing</td>\n",
       "      <td>0 days 01:02:02.950000</td>\n",
       "      <td>2023-05-28 13:03:03.927</td>\n",
       "      <td>12</td>\n",
       "      <td>1.0</td>\n",
       "      <td>False</td>\n",
       "      <td>NaN</td>\n",
       "      <td>False</td>\n",
       "    </tr>\n",
       "    <tr>\n",
       "      <th>1</th>\n",
       "      <td>0 days 01:04:46.825000</td>\n",
       "      <td>VER</td>\n",
       "      <td>1</td>\n",
       "      <td>0 days 00:01:19.367000</td>\n",
       "      <td>2.0</td>\n",
       "      <td>1.0</td>\n",
       "      <td>NaN</td>\n",
       "      <td>NaN</td>\n",
       "      <td>0 days 00:00:20.954000</td>\n",
       "      <td>0 days 00:00:37.366000</td>\n",
       "      <td>...</td>\n",
       "      <td>2.0</td>\n",
       "      <td>True</td>\n",
       "      <td>Red Bull Racing</td>\n",
       "      <td>0 days 01:03:27.458000</td>\n",
       "      <td>2023-05-28 13:04:28.435</td>\n",
       "      <td>1</td>\n",
       "      <td>1.0</td>\n",
       "      <td>False</td>\n",
       "      <td>NaN</td>\n",
       "      <td>True</td>\n",
       "    </tr>\n",
       "    <tr>\n",
       "      <th>2</th>\n",
       "      <td>0 days 01:06:05.899000</td>\n",
       "      <td>VER</td>\n",
       "      <td>1</td>\n",
       "      <td>0 days 00:01:19.074000</td>\n",
       "      <td>3.0</td>\n",
       "      <td>1.0</td>\n",
       "      <td>NaN</td>\n",
       "      <td>NaN</td>\n",
       "      <td>0 days 00:00:20.854000</td>\n",
       "      <td>0 days 00:00:37.288000</td>\n",
       "      <td>...</td>\n",
       "      <td>3.0</td>\n",
       "      <td>True</td>\n",
       "      <td>Red Bull Racing</td>\n",
       "      <td>0 days 01:04:46.825000</td>\n",
       "      <td>2023-05-28 13:05:47.802</td>\n",
       "      <td>1</td>\n",
       "      <td>1.0</td>\n",
       "      <td>False</td>\n",
       "      <td>NaN</td>\n",
       "      <td>True</td>\n",
       "    </tr>\n",
       "    <tr>\n",
       "      <th>3</th>\n",
       "      <td>0 days 01:07:24.028000</td>\n",
       "      <td>VER</td>\n",
       "      <td>1</td>\n",
       "      <td>0 days 00:01:18.129000</td>\n",
       "      <td>4.0</td>\n",
       "      <td>1.0</td>\n",
       "      <td>NaN</td>\n",
       "      <td>NaN</td>\n",
       "      <td>0 days 00:00:20.835000</td>\n",
       "      <td>0 days 00:00:36.637000</td>\n",
       "      <td>...</td>\n",
       "      <td>4.0</td>\n",
       "      <td>True</td>\n",
       "      <td>Red Bull Racing</td>\n",
       "      <td>0 days 01:06:05.899000</td>\n",
       "      <td>2023-05-28 13:07:06.876</td>\n",
       "      <td>1</td>\n",
       "      <td>1.0</td>\n",
       "      <td>False</td>\n",
       "      <td>NaN</td>\n",
       "      <td>True</td>\n",
       "    </tr>\n",
       "    <tr>\n",
       "      <th>4</th>\n",
       "      <td>0 days 01:08:42.047000</td>\n",
       "      <td>VER</td>\n",
       "      <td>1</td>\n",
       "      <td>0 days 00:01:18.019000</td>\n",
       "      <td>5.0</td>\n",
       "      <td>1.0</td>\n",
       "      <td>NaN</td>\n",
       "      <td>NaN</td>\n",
       "      <td>0 days 00:00:20.745000</td>\n",
       "      <td>0 days 00:00:36.734000</td>\n",
       "      <td>...</td>\n",
       "      <td>5.0</td>\n",
       "      <td>True</td>\n",
       "      <td>Red Bull Racing</td>\n",
       "      <td>0 days 01:07:24.028000</td>\n",
       "      <td>2023-05-28 13:08:25.005</td>\n",
       "      <td>1</td>\n",
       "      <td>1.0</td>\n",
       "      <td>False</td>\n",
       "      <td>NaN</td>\n",
       "      <td>True</td>\n",
       "    </tr>\n",
       "  </tbody>\n",
       "</table>\n",
       "<p>5 rows × 27 columns</p>\n",
       "</div>"
      ],
      "text/plain": [
       "                     Time Driver  DriverNumber                 LapTime  \\\n",
       "0  0 days 01:03:27.458000    VER             1  0 days 00:01:24.238000   \n",
       "1  0 days 01:04:46.825000    VER             1  0 days 00:01:19.367000   \n",
       "2  0 days 01:06:05.899000    VER             1  0 days 00:01:19.074000   \n",
       "3  0 days 01:07:24.028000    VER             1  0 days 00:01:18.129000   \n",
       "4  0 days 01:08:42.047000    VER             1  0 days 00:01:18.019000   \n",
       "\n",
       "   LapNumber  Stint PitOutTime PitInTime             Sector1Time  \\\n",
       "0        1.0    1.0        NaN       NaN                     NaN   \n",
       "1        2.0    1.0        NaN       NaN  0 days 00:00:20.954000   \n",
       "2        3.0    1.0        NaN       NaN  0 days 00:00:20.854000   \n",
       "3        4.0    1.0        NaN       NaN  0 days 00:00:20.835000   \n",
       "4        5.0    1.0        NaN       NaN  0 days 00:00:20.745000   \n",
       "\n",
       "              Sector2Time  ... TyreLife  FreshTyre             Team  \\\n",
       "0  0 days 00:00:37.420000  ...      1.0       True  Red Bull Racing   \n",
       "1  0 days 00:00:37.366000  ...      2.0       True  Red Bull Racing   \n",
       "2  0 days 00:00:37.288000  ...      3.0       True  Red Bull Racing   \n",
       "3  0 days 00:00:36.637000  ...      4.0       True  Red Bull Racing   \n",
       "4  0 days 00:00:36.734000  ...      5.0       True  Red Bull Racing   \n",
       "\n",
       "             LapStartTime             LapStartDate  TrackStatus Position  \\\n",
       "0  0 days 01:02:02.950000  2023-05-28 13:03:03.927           12      1.0   \n",
       "1  0 days 01:03:27.458000  2023-05-28 13:04:28.435            1      1.0   \n",
       "2  0 days 01:04:46.825000  2023-05-28 13:05:47.802            1      1.0   \n",
       "3  0 days 01:06:05.899000  2023-05-28 13:07:06.876            1      1.0   \n",
       "4  0 days 01:07:24.028000  2023-05-28 13:08:25.005            1      1.0   \n",
       "\n",
       "   Deleted  DeletedReason IsAccurate  \n",
       "0    False            NaN      False  \n",
       "1    False            NaN       True  \n",
       "2    False            NaN       True  \n",
       "3    False            NaN       True  \n",
       "4    False            NaN       True  \n",
       "\n",
       "[5 rows x 27 columns]"
      ]
     },
     "execution_count": 10,
     "metadata": {},
     "output_type": "execute_result"
    }
   ],
   "source": [
    "# Display the first 5 rows\n",
    "data.head(5)"
   ]
  },
  {
   "cell_type": "code",
   "execution_count": 11,
   "metadata": {},
   "outputs": [
    {
     "data": {
      "text/html": [
       "<div>\n",
       "<style scoped>\n",
       "    .dataframe tbody tr th:only-of-type {\n",
       "        vertical-align: middle;\n",
       "    }\n",
       "\n",
       "    .dataframe tbody tr th {\n",
       "        vertical-align: top;\n",
       "    }\n",
       "\n",
       "    .dataframe thead th {\n",
       "        text-align: right;\n",
       "    }\n",
       "</style>\n",
       "<table border=\"1\" class=\"dataframe\">\n",
       "  <thead>\n",
       "    <tr style=\"text-align: right;\">\n",
       "      <th></th>\n",
       "      <th>Time</th>\n",
       "      <th>Driver</th>\n",
       "      <th>DriverNumber</th>\n",
       "      <th>LapTime</th>\n",
       "      <th>LapNumber</th>\n",
       "      <th>Stint</th>\n",
       "      <th>PitOutTime</th>\n",
       "      <th>PitInTime</th>\n",
       "      <th>Sector1Time</th>\n",
       "      <th>Sector2Time</th>\n",
       "      <th>...</th>\n",
       "      <th>TyreLife</th>\n",
       "      <th>FreshTyre</th>\n",
       "      <th>Team</th>\n",
       "      <th>LapStartTime</th>\n",
       "      <th>LapStartDate</th>\n",
       "      <th>TrackStatus</th>\n",
       "      <th>Position</th>\n",
       "      <th>Deleted</th>\n",
       "      <th>DeletedReason</th>\n",
       "      <th>IsAccurate</th>\n",
       "    </tr>\n",
       "  </thead>\n",
       "  <tbody>\n",
       "    <tr>\n",
       "      <th>1508</th>\n",
       "      <td>0 days 02:45:26.431000</td>\n",
       "      <td>PIA</td>\n",
       "      <td>81</td>\n",
       "      <td>0 days 00:01:27.443000</td>\n",
       "      <td>73.0</td>\n",
       "      <td>2.0</td>\n",
       "      <td>NaN</td>\n",
       "      <td>NaN</td>\n",
       "      <td>0 days 00:00:23.295000</td>\n",
       "      <td>0 days 00:00:42.212000</td>\n",
       "      <td>...</td>\n",
       "      <td>19.0</td>\n",
       "      <td>True</td>\n",
       "      <td>McLaren</td>\n",
       "      <td>0 days 02:43:58.988000</td>\n",
       "      <td>2023-05-28 14:44:59.965</td>\n",
       "      <td>1</td>\n",
       "      <td>10.0</td>\n",
       "      <td>False</td>\n",
       "      <td>NaN</td>\n",
       "      <td>True</td>\n",
       "    </tr>\n",
       "    <tr>\n",
       "      <th>1509</th>\n",
       "      <td>0 days 02:46:52.616000</td>\n",
       "      <td>PIA</td>\n",
       "      <td>81</td>\n",
       "      <td>0 days 00:01:26.185000</td>\n",
       "      <td>74.0</td>\n",
       "      <td>2.0</td>\n",
       "      <td>NaN</td>\n",
       "      <td>NaN</td>\n",
       "      <td>0 days 00:00:22.381000</td>\n",
       "      <td>0 days 00:00:42.112000</td>\n",
       "      <td>...</td>\n",
       "      <td>20.0</td>\n",
       "      <td>True</td>\n",
       "      <td>McLaren</td>\n",
       "      <td>0 days 02:45:26.431000</td>\n",
       "      <td>2023-05-28 14:46:27.408</td>\n",
       "      <td>1</td>\n",
       "      <td>10.0</td>\n",
       "      <td>False</td>\n",
       "      <td>NaN</td>\n",
       "      <td>True</td>\n",
       "    </tr>\n",
       "    <tr>\n",
       "      <th>1510</th>\n",
       "      <td>0 days 02:48:18.759000</td>\n",
       "      <td>PIA</td>\n",
       "      <td>81</td>\n",
       "      <td>0 days 00:01:26.143000</td>\n",
       "      <td>75.0</td>\n",
       "      <td>2.0</td>\n",
       "      <td>NaN</td>\n",
       "      <td>NaN</td>\n",
       "      <td>0 days 00:00:22.061000</td>\n",
       "      <td>0 days 00:00:42.272000</td>\n",
       "      <td>...</td>\n",
       "      <td>21.0</td>\n",
       "      <td>True</td>\n",
       "      <td>McLaren</td>\n",
       "      <td>0 days 02:46:52.616000</td>\n",
       "      <td>2023-05-28 14:47:53.593</td>\n",
       "      <td>1</td>\n",
       "      <td>10.0</td>\n",
       "      <td>False</td>\n",
       "      <td>NaN</td>\n",
       "      <td>True</td>\n",
       "    </tr>\n",
       "    <tr>\n",
       "      <th>1511</th>\n",
       "      <td>0 days 02:49:44.374000</td>\n",
       "      <td>PIA</td>\n",
       "      <td>81</td>\n",
       "      <td>0 days 00:01:25.615000</td>\n",
       "      <td>76.0</td>\n",
       "      <td>2.0</td>\n",
       "      <td>NaN</td>\n",
       "      <td>NaN</td>\n",
       "      <td>0 days 00:00:21.991000</td>\n",
       "      <td>0 days 00:00:41.496000</td>\n",
       "      <td>...</td>\n",
       "      <td>22.0</td>\n",
       "      <td>True</td>\n",
       "      <td>McLaren</td>\n",
       "      <td>0 days 02:48:18.759000</td>\n",
       "      <td>2023-05-28 14:49:19.736</td>\n",
       "      <td>1</td>\n",
       "      <td>10.0</td>\n",
       "      <td>False</td>\n",
       "      <td>NaN</td>\n",
       "      <td>True</td>\n",
       "    </tr>\n",
       "    <tr>\n",
       "      <th>1512</th>\n",
       "      <td>0 days 02:51:09.159000</td>\n",
       "      <td>PIA</td>\n",
       "      <td>81</td>\n",
       "      <td>0 days 00:01:24.785000</td>\n",
       "      <td>77.0</td>\n",
       "      <td>2.0</td>\n",
       "      <td>NaN</td>\n",
       "      <td>NaN</td>\n",
       "      <td>0 days 00:00:21.970000</td>\n",
       "      <td>0 days 00:00:40.944000</td>\n",
       "      <td>...</td>\n",
       "      <td>23.0</td>\n",
       "      <td>True</td>\n",
       "      <td>McLaren</td>\n",
       "      <td>0 days 02:49:44.374000</td>\n",
       "      <td>2023-05-28 14:50:45.351</td>\n",
       "      <td>1</td>\n",
       "      <td>10.0</td>\n",
       "      <td>False</td>\n",
       "      <td>NaN</td>\n",
       "      <td>True</td>\n",
       "    </tr>\n",
       "  </tbody>\n",
       "</table>\n",
       "<p>5 rows × 27 columns</p>\n",
       "</div>"
      ],
      "text/plain": [
       "                        Time Driver  DriverNumber                 LapTime  \\\n",
       "1508  0 days 02:45:26.431000    PIA            81  0 days 00:01:27.443000   \n",
       "1509  0 days 02:46:52.616000    PIA            81  0 days 00:01:26.185000   \n",
       "1510  0 days 02:48:18.759000    PIA            81  0 days 00:01:26.143000   \n",
       "1511  0 days 02:49:44.374000    PIA            81  0 days 00:01:25.615000   \n",
       "1512  0 days 02:51:09.159000    PIA            81  0 days 00:01:24.785000   \n",
       "\n",
       "      LapNumber  Stint PitOutTime PitInTime             Sector1Time  \\\n",
       "1508       73.0    2.0        NaN       NaN  0 days 00:00:23.295000   \n",
       "1509       74.0    2.0        NaN       NaN  0 days 00:00:22.381000   \n",
       "1510       75.0    2.0        NaN       NaN  0 days 00:00:22.061000   \n",
       "1511       76.0    2.0        NaN       NaN  0 days 00:00:21.991000   \n",
       "1512       77.0    2.0        NaN       NaN  0 days 00:00:21.970000   \n",
       "\n",
       "                 Sector2Time  ... TyreLife  FreshTyre     Team  \\\n",
       "1508  0 days 00:00:42.212000  ...     19.0       True  McLaren   \n",
       "1509  0 days 00:00:42.112000  ...     20.0       True  McLaren   \n",
       "1510  0 days 00:00:42.272000  ...     21.0       True  McLaren   \n",
       "1511  0 days 00:00:41.496000  ...     22.0       True  McLaren   \n",
       "1512  0 days 00:00:40.944000  ...     23.0       True  McLaren   \n",
       "\n",
       "                LapStartTime             LapStartDate  TrackStatus Position  \\\n",
       "1508  0 days 02:43:58.988000  2023-05-28 14:44:59.965            1     10.0   \n",
       "1509  0 days 02:45:26.431000  2023-05-28 14:46:27.408            1     10.0   \n",
       "1510  0 days 02:46:52.616000  2023-05-28 14:47:53.593            1     10.0   \n",
       "1511  0 days 02:48:18.759000  2023-05-28 14:49:19.736            1     10.0   \n",
       "1512  0 days 02:49:44.374000  2023-05-28 14:50:45.351            1     10.0   \n",
       "\n",
       "      Deleted  DeletedReason IsAccurate  \n",
       "1508    False            NaN       True  \n",
       "1509    False            NaN       True  \n",
       "1510    False            NaN       True  \n",
       "1511    False            NaN       True  \n",
       "1512    False            NaN       True  \n",
       "\n",
       "[5 rows x 27 columns]"
      ]
     },
     "execution_count": 11,
     "metadata": {},
     "output_type": "execute_result"
    }
   ],
   "source": [
    "# Display the last 5 rows\n",
    "data.tail(5)"
   ]
  },
  {
   "cell_type": "code",
   "execution_count": 12,
   "metadata": {},
   "outputs": [
    {
     "data": {
      "text/plain": [
       "0       VER\n",
       "1       VER\n",
       "2       VER\n",
       "3       VER\n",
       "4       VER\n",
       "       ... \n",
       "1508    PIA\n",
       "1509    PIA\n",
       "1510    PIA\n",
       "1511    PIA\n",
       "1512    PIA\n",
       "Name: Driver, Length: 1513, dtype: object"
      ]
     },
     "execution_count": 12,
     "metadata": {},
     "output_type": "execute_result"
    }
   ],
   "source": [
    "# Access a specific column \n",
    "data['Driver']"
   ]
  },
  {
   "cell_type": "code",
   "execution_count": 13,
   "metadata": {},
   "outputs": [
    {
     "data": {
      "text/plain": [
       "count    1513.000000\n",
       "mean        1.775942\n",
       "std         0.942474\n",
       "min         1.000000\n",
       "25%         1.000000\n",
       "50%         1.000000\n",
       "75%         2.000000\n",
       "max         6.000000\n",
       "Name: Stint, dtype: float64"
      ]
     },
     "execution_count": 13,
     "metadata": {},
     "output_type": "execute_result"
    }
   ],
   "source": [
    "# Get multiple statistics for a column\n",
    "data['Stint'].describe()"
   ]
  },
  {
   "cell_type": "code",
   "execution_count": 14,
   "metadata": {},
   "outputs": [
    {
     "data": {
      "text/plain": [
       "0        2.0\n",
       "1        3.0\n",
       "2        4.0\n",
       "3        5.0\n",
       "4        6.0\n",
       "        ... \n",
       "1508    74.0\n",
       "1509    75.0\n",
       "1510    76.0\n",
       "1511    77.0\n",
       "1512    78.0\n",
       "Name: LapNumber, Length: 1513, dtype: float64"
      ]
     },
     "execution_count": 14,
     "metadata": {},
     "output_type": "execute_result"
    }
   ],
   "source": [
    "# Operations on numeric columns\n",
    "data['LapNumber'] + 1"
   ]
  },
  {
   "cell_type": "code",
   "execution_count": 15,
   "metadata": {},
   "outputs": [
    {
     "data": {
      "text/plain": [
       "array(['Red Bull Racing', 'Alpine', 'Aston Martin', 'Ferrari', 'Williams',\n",
       "       'Haas F1 Team', 'AlphaTauri', 'Alfa Romeo', 'McLaren', 'Mercedes'],\n",
       "      dtype=object)"
      ]
     },
     "execution_count": 15,
     "metadata": {},
     "output_type": "execute_result"
    }
   ],
   "source": [
    "# View unique (non-repeating) values of a column\n",
    "data['Team'].unique()"
   ]
  },
  {
   "cell_type": "code",
   "execution_count": 16,
   "metadata": {},
   "outputs": [
    {
     "data": {
      "text/plain": [
       "10"
      ]
     },
     "execution_count": 16,
     "metadata": {},
     "output_type": "execute_result"
    }
   ],
   "source": [
    "len(data['Team'].unique())"
   ]
  },
  {
   "cell_type": "code",
   "execution_count": 17,
   "metadata": {},
   "outputs": [
    {
     "data": {
      "text/html": [
       "<div>\n",
       "<style scoped>\n",
       "    .dataframe tbody tr th:only-of-type {\n",
       "        vertical-align: middle;\n",
       "    }\n",
       "\n",
       "    .dataframe tbody tr th {\n",
       "        vertical-align: top;\n",
       "    }\n",
       "\n",
       "    .dataframe thead th {\n",
       "        text-align: right;\n",
       "    }\n",
       "</style>\n",
       "<table border=\"1\" class=\"dataframe\">\n",
       "  <thead>\n",
       "    <tr style=\"text-align: right;\">\n",
       "      <th></th>\n",
       "      <th>Driver</th>\n",
       "      <th>Team</th>\n",
       "    </tr>\n",
       "  </thead>\n",
       "  <tbody>\n",
       "    <tr>\n",
       "      <th>0</th>\n",
       "      <td>VER</td>\n",
       "      <td>Red Bull Racing</td>\n",
       "    </tr>\n",
       "    <tr>\n",
       "      <th>1</th>\n",
       "      <td>VER</td>\n",
       "      <td>Red Bull Racing</td>\n",
       "    </tr>\n",
       "    <tr>\n",
       "      <th>2</th>\n",
       "      <td>VER</td>\n",
       "      <td>Red Bull Racing</td>\n",
       "    </tr>\n",
       "    <tr>\n",
       "      <th>3</th>\n",
       "      <td>VER</td>\n",
       "      <td>Red Bull Racing</td>\n",
       "    </tr>\n",
       "    <tr>\n",
       "      <th>4</th>\n",
       "      <td>VER</td>\n",
       "      <td>Red Bull Racing</td>\n",
       "    </tr>\n",
       "    <tr>\n",
       "      <th>...</th>\n",
       "      <td>...</td>\n",
       "      <td>...</td>\n",
       "    </tr>\n",
       "    <tr>\n",
       "      <th>1508</th>\n",
       "      <td>PIA</td>\n",
       "      <td>McLaren</td>\n",
       "    </tr>\n",
       "    <tr>\n",
       "      <th>1509</th>\n",
       "      <td>PIA</td>\n",
       "      <td>McLaren</td>\n",
       "    </tr>\n",
       "    <tr>\n",
       "      <th>1510</th>\n",
       "      <td>PIA</td>\n",
       "      <td>McLaren</td>\n",
       "    </tr>\n",
       "    <tr>\n",
       "      <th>1511</th>\n",
       "      <td>PIA</td>\n",
       "      <td>McLaren</td>\n",
       "    </tr>\n",
       "    <tr>\n",
       "      <th>1512</th>\n",
       "      <td>PIA</td>\n",
       "      <td>McLaren</td>\n",
       "    </tr>\n",
       "  </tbody>\n",
       "</table>\n",
       "<p>1513 rows × 2 columns</p>\n",
       "</div>"
      ],
      "text/plain": [
       "     Driver             Team\n",
       "0       VER  Red Bull Racing\n",
       "1       VER  Red Bull Racing\n",
       "2       VER  Red Bull Racing\n",
       "3       VER  Red Bull Racing\n",
       "4       VER  Red Bull Racing\n",
       "...     ...              ...\n",
       "1508    PIA          McLaren\n",
       "1509    PIA          McLaren\n",
       "1510    PIA          McLaren\n",
       "1511    PIA          McLaren\n",
       "1512    PIA          McLaren\n",
       "\n",
       "[1513 rows x 2 columns]"
      ]
     },
     "execution_count": 17,
     "metadata": {},
     "output_type": "execute_result"
    }
   ],
   "source": [
    "# Access multiple columns\n",
    "data[['Driver', 'Team']]"
   ]
  },
  {
   "cell_type": "code",
   "execution_count": 18,
   "metadata": {},
   "outputs": [
    {
     "data": {
      "text/plain": [
       "'Red Bull Racing'"
      ]
     },
     "execution_count": 18,
     "metadata": {},
     "output_type": "execute_result"
    }
   ],
   "source": [
    "# Get a list of values from a column and access aneElement\n",
    "data['Team'].values[180]"
   ]
  },
  {
   "cell_type": "code",
   "execution_count": 19,
   "metadata": {},
   "outputs": [
    {
     "data": {
      "text/plain": [
       "'SAI'"
      ]
     },
     "execution_count": 19,
     "metadata": {},
     "output_type": "execute_result"
    }
   ],
   "source": [
    "# Access row 1280, column 1 (zero-indexed)\n",
    "data.iloc[1280, 1]"
   ]
  },
  {
   "cell_type": "code",
   "execution_count": 20,
   "metadata": {},
   "outputs": [
    {
     "data": {
      "text/html": [
       "<div>\n",
       "<style scoped>\n",
       "    .dataframe tbody tr th:only-of-type {\n",
       "        vertical-align: middle;\n",
       "    }\n",
       "\n",
       "    .dataframe tbody tr th {\n",
       "        vertical-align: top;\n",
       "    }\n",
       "\n",
       "    .dataframe thead th {\n",
       "        text-align: right;\n",
       "    }\n",
       "</style>\n",
       "<table border=\"1\" class=\"dataframe\">\n",
       "  <thead>\n",
       "    <tr style=\"text-align: right;\">\n",
       "      <th></th>\n",
       "      <th>Time</th>\n",
       "      <th>Driver</th>\n",
       "      <th>DriverNumber</th>\n",
       "      <th>LapTime</th>\n",
       "      <th>LapNumber</th>\n",
       "      <th>Stint</th>\n",
       "      <th>PitOutTime</th>\n",
       "      <th>PitInTime</th>\n",
       "      <th>Sector1Time</th>\n",
       "      <th>Sector2Time</th>\n",
       "      <th>...</th>\n",
       "      <th>TyreLife</th>\n",
       "      <th>FreshTyre</th>\n",
       "      <th>Team</th>\n",
       "      <th>LapStartTime</th>\n",
       "      <th>LapStartDate</th>\n",
       "      <th>TrackStatus</th>\n",
       "      <th>Position</th>\n",
       "      <th>Deleted</th>\n",
       "      <th>DeletedReason</th>\n",
       "      <th>IsAccurate</th>\n",
       "    </tr>\n",
       "  </thead>\n",
       "  <tbody>\n",
       "    <tr>\n",
       "      <th>1157</th>\n",
       "      <td>0 days 01:45:31.903000</td>\n",
       "      <td>HAM</td>\n",
       "      <td>44</td>\n",
       "      <td>0 days 00:01:15.650000</td>\n",
       "      <td>33.0</td>\n",
       "      <td>2.0</td>\n",
       "      <td>NaN</td>\n",
       "      <td>NaN</td>\n",
       "      <td>0 days 00:00:19.760000</td>\n",
       "      <td>0 days 00:00:35.647000</td>\n",
       "      <td>...</td>\n",
       "      <td>2.0</td>\n",
       "      <td>True</td>\n",
       "      <td>Mercedes</td>\n",
       "      <td>0 days 01:44:16.253000</td>\n",
       "      <td>2023-05-28 13:45:17.230</td>\n",
       "      <td>1</td>\n",
       "      <td>8.0</td>\n",
       "      <td>False</td>\n",
       "      <td>NaN</td>\n",
       "      <td>True</td>\n",
       "    </tr>\n",
       "    <tr>\n",
       "      <th>355</th>\n",
       "      <td>0 days 02:02:23.489000</td>\n",
       "      <td>LEC</td>\n",
       "      <td>16</td>\n",
       "      <td>0 days 00:01:15.773000</td>\n",
       "      <td>46.0</td>\n",
       "      <td>2.0</td>\n",
       "      <td>NaN</td>\n",
       "      <td>NaN</td>\n",
       "      <td>0 days 00:00:19.996000</td>\n",
       "      <td>0 days 00:00:35.718000</td>\n",
       "      <td>...</td>\n",
       "      <td>2.0</td>\n",
       "      <td>True</td>\n",
       "      <td>Ferrari</td>\n",
       "      <td>0 days 02:01:07.716000</td>\n",
       "      <td>2023-05-28 14:02:08.693</td>\n",
       "      <td>1</td>\n",
       "      <td>8.0</td>\n",
       "      <td>False</td>\n",
       "      <td>NaN</td>\n",
       "      <td>True</td>\n",
       "    </tr>\n",
       "    <tr>\n",
       "      <th>126</th>\n",
       "      <td>0 days 02:06:14.872000</td>\n",
       "      <td>GAS</td>\n",
       "      <td>10</td>\n",
       "      <td>0 days 00:01:15.831000</td>\n",
       "      <td>49.0</td>\n",
       "      <td>2.0</td>\n",
       "      <td>NaN</td>\n",
       "      <td>NaN</td>\n",
       "      <td>0 days 00:00:19.843000</td>\n",
       "      <td>0 days 00:00:35.692000</td>\n",
       "      <td>...</td>\n",
       "      <td>2.0</td>\n",
       "      <td>True</td>\n",
       "      <td>Alpine</td>\n",
       "      <td>0 days 02:04:59.041000</td>\n",
       "      <td>2023-05-28 14:06:00.018</td>\n",
       "      <td>1</td>\n",
       "      <td>8.0</td>\n",
       "      <td>False</td>\n",
       "      <td>NaN</td>\n",
       "      <td>True</td>\n",
       "    </tr>\n",
       "    <tr>\n",
       "      <th>127</th>\n",
       "      <td>0 days 02:07:30.827000</td>\n",
       "      <td>GAS</td>\n",
       "      <td>10</td>\n",
       "      <td>0 days 00:01:15.955000</td>\n",
       "      <td>50.0</td>\n",
       "      <td>2.0</td>\n",
       "      <td>NaN</td>\n",
       "      <td>NaN</td>\n",
       "      <td>0 days 00:00:20.045000</td>\n",
       "      <td>0 days 00:00:35.628000</td>\n",
       "      <td>...</td>\n",
       "      <td>3.0</td>\n",
       "      <td>True</td>\n",
       "      <td>Alpine</td>\n",
       "      <td>0 days 02:06:14.872000</td>\n",
       "      <td>2023-05-28 14:07:15.849</td>\n",
       "      <td>1</td>\n",
       "      <td>8.0</td>\n",
       "      <td>False</td>\n",
       "      <td>NaN</td>\n",
       "      <td>True</td>\n",
       "    </tr>\n",
       "    <tr>\n",
       "      <th>359</th>\n",
       "      <td>0 days 02:07:29.057000</td>\n",
       "      <td>LEC</td>\n",
       "      <td>16</td>\n",
       "      <td>0 days 00:01:15.956000</td>\n",
       "      <td>50.0</td>\n",
       "      <td>2.0</td>\n",
       "      <td>NaN</td>\n",
       "      <td>NaN</td>\n",
       "      <td>0 days 00:00:19.730000</td>\n",
       "      <td>0 days 00:00:35.934000</td>\n",
       "      <td>...</td>\n",
       "      <td>6.0</td>\n",
       "      <td>True</td>\n",
       "      <td>Ferrari</td>\n",
       "      <td>0 days 02:06:13.101000</td>\n",
       "      <td>2023-05-28 14:07:14.078</td>\n",
       "      <td>1</td>\n",
       "      <td>7.0</td>\n",
       "      <td>False</td>\n",
       "      <td>NaN</td>\n",
       "      <td>True</td>\n",
       "    </tr>\n",
       "    <tr>\n",
       "      <th>...</th>\n",
       "      <td>...</td>\n",
       "      <td>...</td>\n",
       "      <td>...</td>\n",
       "      <td>...</td>\n",
       "      <td>...</td>\n",
       "      <td>...</td>\n",
       "      <td>...</td>\n",
       "      <td>...</td>\n",
       "      <td>...</td>\n",
       "      <td>...</td>\n",
       "      <td>...</td>\n",
       "      <td>...</td>\n",
       "      <td>...</td>\n",
       "      <td>...</td>\n",
       "      <td>...</td>\n",
       "      <td>...</td>\n",
       "      <td>...</td>\n",
       "      <td>...</td>\n",
       "      <td>...</td>\n",
       "      <td>...</td>\n",
       "      <td>...</td>\n",
       "    </tr>\n",
       "    <tr>\n",
       "      <th>731</th>\n",
       "      <td>0 days 02:38:48.233000</td>\n",
       "      <td>TSU</td>\n",
       "      <td>22</td>\n",
       "      <td>0 days 00:02:17.012000</td>\n",
       "      <td>68.0</td>\n",
       "      <td>2.0</td>\n",
       "      <td>NaN</td>\n",
       "      <td>NaN</td>\n",
       "      <td>0 days 00:00:25.629000</td>\n",
       "      <td>0 days 00:01:21.925000</td>\n",
       "      <td>...</td>\n",
       "      <td>15.0</td>\n",
       "      <td>True</td>\n",
       "      <td>AlphaTauri</td>\n",
       "      <td>0 days 02:36:31.221000</td>\n",
       "      <td>2023-05-28 14:37:32.198</td>\n",
       "      <td>12</td>\n",
       "      <td>13.0</td>\n",
       "      <td>False</td>\n",
       "      <td>NaN</td>\n",
       "      <td>True</td>\n",
       "    </tr>\n",
       "    <tr>\n",
       "      <th>1257</th>\n",
       "      <td>0 days 02:15:32.997000</td>\n",
       "      <td>SAI</td>\n",
       "      <td>55</td>\n",
       "      <td>0 days 00:02:19.381000</td>\n",
       "      <td>55.0</td>\n",
       "      <td>2.0</td>\n",
       "      <td>NaN</td>\n",
       "      <td>0 days 02:15:04.653000</td>\n",
       "      <td>0 days 00:00:27.227000</td>\n",
       "      <td>0 days 00:01:01.073000</td>\n",
       "      <td>...</td>\n",
       "      <td>22.0</td>\n",
       "      <td>True</td>\n",
       "      <td>Ferrari</td>\n",
       "      <td>0 days 02:13:13.616000</td>\n",
       "      <td>2023-05-28 14:14:14.593</td>\n",
       "      <td>12</td>\n",
       "      <td>8.0</td>\n",
       "      <td>False</td>\n",
       "      <td>NaN</td>\n",
       "      <td>False</td>\n",
       "    </tr>\n",
       "    <tr>\n",
       "      <th>947</th>\n",
       "      <td>0 days 02:15:34.526000</td>\n",
       "      <td>HUL</td>\n",
       "      <td>27</td>\n",
       "      <td>0 days 00:02:19.643000</td>\n",
       "      <td>54.0</td>\n",
       "      <td>2.0</td>\n",
       "      <td>NaN</td>\n",
       "      <td>0 days 02:15:00.544000</td>\n",
       "      <td>0 days 00:00:27.923000</td>\n",
       "      <td>0 days 00:00:56.020000</td>\n",
       "      <td>...</td>\n",
       "      <td>53.0</td>\n",
       "      <td>True</td>\n",
       "      <td>Haas F1 Team</td>\n",
       "      <td>0 days 02:13:14.883000</td>\n",
       "      <td>2023-05-28 14:14:15.860</td>\n",
       "      <td>12</td>\n",
       "      <td>18.0</td>\n",
       "      <td>False</td>\n",
       "      <td>NaN</td>\n",
       "      <td>False</td>\n",
       "    </tr>\n",
       "    <tr>\n",
       "      <th>574</th>\n",
       "      <td>0 days 02:24:30.971000</td>\n",
       "      <td>MAG</td>\n",
       "      <td>20</td>\n",
       "      <td>0 days 00:02:26.648000</td>\n",
       "      <td>58.0</td>\n",
       "      <td>2.0</td>\n",
       "      <td>NaN</td>\n",
       "      <td>NaN</td>\n",
       "      <td>0 days 00:01:08.435000</td>\n",
       "      <td>0 days 00:00:50.544000</td>\n",
       "      <td>...</td>\n",
       "      <td>2.0</td>\n",
       "      <td>True</td>\n",
       "      <td>Haas F1 Team</td>\n",
       "      <td>0 days 02:22:04.323000</td>\n",
       "      <td>2023-05-28 14:23:05.300</td>\n",
       "      <td>12</td>\n",
       "      <td>19.0</td>\n",
       "      <td>False</td>\n",
       "      <td>NaN</td>\n",
       "      <td>True</td>\n",
       "    </tr>\n",
       "    <tr>\n",
       "      <th>572</th>\n",
       "      <td>0 days 02:20:16.305000</td>\n",
       "      <td>MAG</td>\n",
       "      <td>20</td>\n",
       "      <td>NaN</td>\n",
       "      <td>56.0</td>\n",
       "      <td>1.0</td>\n",
       "      <td>NaN</td>\n",
       "      <td>0 days 02:19:25.914000</td>\n",
       "      <td>0 days 00:00:38.677000</td>\n",
       "      <td>0 days 00:01:03.774000</td>\n",
       "      <td>...</td>\n",
       "      <td>56.0</td>\n",
       "      <td>True</td>\n",
       "      <td>Haas F1 Team</td>\n",
       "      <td>0 days 02:17:04.203000</td>\n",
       "      <td>2023-05-28 14:18:05.180</td>\n",
       "      <td>12</td>\n",
       "      <td>19.0</td>\n",
       "      <td>False</td>\n",
       "      <td>NaN</td>\n",
       "      <td>False</td>\n",
       "    </tr>\n",
       "  </tbody>\n",
       "</table>\n",
       "<p>1513 rows × 27 columns</p>\n",
       "</div>"
      ],
      "text/plain": [
       "                        Time Driver  DriverNumber                 LapTime  \\\n",
       "1157  0 days 01:45:31.903000    HAM            44  0 days 00:01:15.650000   \n",
       "355   0 days 02:02:23.489000    LEC            16  0 days 00:01:15.773000   \n",
       "126   0 days 02:06:14.872000    GAS            10  0 days 00:01:15.831000   \n",
       "127   0 days 02:07:30.827000    GAS            10  0 days 00:01:15.955000   \n",
       "359   0 days 02:07:29.057000    LEC            16  0 days 00:01:15.956000   \n",
       "...                      ...    ...           ...                     ...   \n",
       "731   0 days 02:38:48.233000    TSU            22  0 days 00:02:17.012000   \n",
       "1257  0 days 02:15:32.997000    SAI            55  0 days 00:02:19.381000   \n",
       "947   0 days 02:15:34.526000    HUL            27  0 days 00:02:19.643000   \n",
       "574   0 days 02:24:30.971000    MAG            20  0 days 00:02:26.648000   \n",
       "572   0 days 02:20:16.305000    MAG            20                     NaN   \n",
       "\n",
       "      LapNumber  Stint PitOutTime               PitInTime  \\\n",
       "1157       33.0    2.0        NaN                     NaN   \n",
       "355        46.0    2.0        NaN                     NaN   \n",
       "126        49.0    2.0        NaN                     NaN   \n",
       "127        50.0    2.0        NaN                     NaN   \n",
       "359        50.0    2.0        NaN                     NaN   \n",
       "...         ...    ...        ...                     ...   \n",
       "731        68.0    2.0        NaN                     NaN   \n",
       "1257       55.0    2.0        NaN  0 days 02:15:04.653000   \n",
       "947        54.0    2.0        NaN  0 days 02:15:00.544000   \n",
       "574        58.0    2.0        NaN                     NaN   \n",
       "572        56.0    1.0        NaN  0 days 02:19:25.914000   \n",
       "\n",
       "                 Sector1Time             Sector2Time  ... TyreLife  FreshTyre  \\\n",
       "1157  0 days 00:00:19.760000  0 days 00:00:35.647000  ...      2.0       True   \n",
       "355   0 days 00:00:19.996000  0 days 00:00:35.718000  ...      2.0       True   \n",
       "126   0 days 00:00:19.843000  0 days 00:00:35.692000  ...      2.0       True   \n",
       "127   0 days 00:00:20.045000  0 days 00:00:35.628000  ...      3.0       True   \n",
       "359   0 days 00:00:19.730000  0 days 00:00:35.934000  ...      6.0       True   \n",
       "...                      ...                     ...  ...      ...        ...   \n",
       "731   0 days 00:00:25.629000  0 days 00:01:21.925000  ...     15.0       True   \n",
       "1257  0 days 00:00:27.227000  0 days 00:01:01.073000  ...     22.0       True   \n",
       "947   0 days 00:00:27.923000  0 days 00:00:56.020000  ...     53.0       True   \n",
       "574   0 days 00:01:08.435000  0 days 00:00:50.544000  ...      2.0       True   \n",
       "572   0 days 00:00:38.677000  0 days 00:01:03.774000  ...     56.0       True   \n",
       "\n",
       "              Team            LapStartTime             LapStartDate  \\\n",
       "1157      Mercedes  0 days 01:44:16.253000  2023-05-28 13:45:17.230   \n",
       "355        Ferrari  0 days 02:01:07.716000  2023-05-28 14:02:08.693   \n",
       "126         Alpine  0 days 02:04:59.041000  2023-05-28 14:06:00.018   \n",
       "127         Alpine  0 days 02:06:14.872000  2023-05-28 14:07:15.849   \n",
       "359        Ferrari  0 days 02:06:13.101000  2023-05-28 14:07:14.078   \n",
       "...            ...                     ...                      ...   \n",
       "731     AlphaTauri  0 days 02:36:31.221000  2023-05-28 14:37:32.198   \n",
       "1257       Ferrari  0 days 02:13:13.616000  2023-05-28 14:14:14.593   \n",
       "947   Haas F1 Team  0 days 02:13:14.883000  2023-05-28 14:14:15.860   \n",
       "574   Haas F1 Team  0 days 02:22:04.323000  2023-05-28 14:23:05.300   \n",
       "572   Haas F1 Team  0 days 02:17:04.203000  2023-05-28 14:18:05.180   \n",
       "\n",
       "      TrackStatus Position  Deleted  DeletedReason IsAccurate  \n",
       "1157            1      8.0    False            NaN       True  \n",
       "355             1      8.0    False            NaN       True  \n",
       "126             1      8.0    False            NaN       True  \n",
       "127             1      8.0    False            NaN       True  \n",
       "359             1      7.0    False            NaN       True  \n",
       "...           ...      ...      ...            ...        ...  \n",
       "731            12     13.0    False            NaN       True  \n",
       "1257           12      8.0    False            NaN      False  \n",
       "947            12     18.0    False            NaN      False  \n",
       "574            12     19.0    False            NaN       True  \n",
       "572            12     19.0    False            NaN      False  \n",
       "\n",
       "[1513 rows x 27 columns]"
      ]
     },
     "execution_count": 20,
     "metadata": {},
     "output_type": "execute_result"
    }
   ],
   "source": [
    "# Sort by the 'LapTime' column\n",
    "data.sort_values(['LapTime'])"
   ]
  },
  {
   "cell_type": "markdown",
   "metadata": {},
   "source": [
    "<div class='alert alert-block alert-warning'>\n",
    "    <strong>NOTE:</strong> The previous operations are not 'inplace', meaning they do not modify the DataFrame, they only query it.\n",
    "</div>"
   ]
  },
  {
   "cell_type": "code",
   "execution_count": 21,
   "metadata": {},
   "outputs": [
    {
     "name": "stdout",
     "output_type": "stream",
     "text": [
      "1.0 19.2690019828156 56.0\n"
     ]
    }
   ],
   "source": [
    "# Get the maximum, mean, and minimum number of laps a set of tires was used\n",
    "mean_life = data['TyreLife'].mean()\n",
    "min_life = data['TyreLife'].min()\n",
    "max_life = data['TyreLife'].max()\n",
    "\n",
    "print(min_life, mean_life, max_life)"
   ]
  },
  {
   "cell_type": "code",
   "execution_count": 22,
   "metadata": {},
   "outputs": [],
   "source": [
    "# Change the type of a series of columns to int\n",
    "data[['DriverNumber', 'LapNumber', 'Stint', 'TyreLife', 'TrackStatus', 'Position']] = data[['DriverNumber', 'LapNumber', 'Stint', 'TyreLife', 'TrackStatus', 'Position']].astype(int)"
   ]
  },
  {
   "cell_type": "code",
   "execution_count": 23,
   "metadata": {},
   "outputs": [],
   "source": [
    "# Add a new column\n",
    "data['New_Column_1'] = 1 # All rows will have the same value\n",
    "data['New_Column_2'] = list(range(len(data))) # New column created from a list of values (as many as rows)\n",
    "data['New_Column_3'] = data['Stint'] + 1 # New column created from another column"
   ]
  },
  {
   "cell_type": "code",
   "execution_count": 24,
   "metadata": {},
   "outputs": [],
   "source": [
    "# Delete columns\n",
    "data = data.drop(columns = ['New_Column_1', 'New_Column_2', 'New_Column_3'])\n",
    "# This is equivalent to:\n",
    "# data.drop(columns = ['New_Column_1', 'New_Column_2', 'New_Column_3'], inplace = True)"
   ]
  },
  {
   "cell_type": "markdown",
   "metadata": {},
   "source": [
    "<div class=\"alert alert-block alert-info\">\n",
    "    <b>Exercise:</b> Get the number of unique drivers.\n",
    "</div>"
   ]
  },
  {
   "cell_type": "code",
   "execution_count": 25,
   "metadata": {},
   "outputs": [
    {
     "data": {
      "text/plain": [
       "20"
      ]
     },
     "execution_count": 25,
     "metadata": {},
     "output_type": "execute_result"
    }
   ],
   "source": [
    "# Your code here\n",
    "\n",
    "len(data['Driver'].unique())"
   ]
  },
  {
   "cell_type": "markdown",
   "metadata": {},
   "source": [
    "<div class=\"alert alert-block alert-info\">\n",
    "    <b>Exercise:</b> Change the type of the columns: 'Time', 'LapTime', 'PitOutTime', 'PitInTime', 'Sector1Time', 'Sector2Time', 'Sector3Time', and 'LapStartTime' to <a href=\"https://pandas.pydata.org/docs/reference/api/pandas.to_timedelta.html\"><i>timedelta</i></a>.\n",
    "</div>"
   ]
  },
  {
   "cell_type": "code",
   "execution_count": 27,
   "metadata": {},
   "outputs": [],
   "source": [
    "time_columns = ['Time', 'LapTime', 'PitOutTime', 'PitInTime', 'Sector1Time', 'Sector2Time', 'Sector3Time', 'LapStartTime']\n",
    "# Your code here\n",
    "\n",
    "for col in time_columns:\n",
    "    data[col] = pd.to_timedelta(data[col])"
   ]
  },
  {
   "cell_type": "markdown",
   "metadata": {},
   "source": [
    "<div class=\"alert alert-block alert-info\">\n",
    "    <b>Exercise:</b> Change the type of the column: 'LapStartDate' to <a href=\"https://pandas.pydata.org/docs/reference/api/pandas.to_datetime.html\"><i>datetime</i></a>.\n",
    "</div>"
   ]
  },
  {
   "cell_type": "code",
   "execution_count": 28,
   "metadata": {},
   "outputs": [],
   "source": [
    "# Your code here\n",
    "data['LapStartDate']=pd.to_datetime(data['LapStartDate'])"
   ]
  },
  {
   "cell_type": "markdown",
   "metadata": {},
   "source": [
    "<div class=\"alert alert-block alert-info\">\n",
    "    <b>Exercise:</b> Which driver has been the best in the first sector? And in the second sector?\n",
    "</div>"
   ]
  },
  {
   "cell_type": "code",
   "execution_count": 29,
   "metadata": {},
   "outputs": [
    {
     "data": {
      "text/plain": [
       "'LEC'"
      ]
     },
     "execution_count": 29,
     "metadata": {},
     "output_type": "execute_result"
    }
   ],
   "source": [
    "# Your code here\n",
    "data.sort_values(\"Sector1Time\").Driver.values[0]"
   ]
  },
  {
   "cell_type": "code",
   "execution_count": 30,
   "metadata": {},
   "outputs": [
    {
     "data": {
      "text/plain": [
       "'GAS'"
      ]
     },
     "execution_count": 30,
     "metadata": {},
     "output_type": "execute_result"
    }
   ],
   "source": [
    "# Your code here\n",
    "data.sort_values(\"Sector2Time\").Driver.values[0]"
   ]
  },
  {
   "cell_type": "markdown",
   "metadata": {},
   "source": [
    "### **Data Filtering**"
   ]
  },
  {
   "cell_type": "code",
   "execution_count": null,
   "metadata": {},
   "outputs": [],
   "source": [
    "# Get the value of a specific cell\n",
    "data.loc[572, 'Team']"
   ]
  },
  {
   "cell_type": "code",
   "execution_count": null,
   "metadata": {},
   "outputs": [],
   "source": [
    "# Get the laps of drivers whose team is 'Ferrari'\n",
    "data_ferrari = data.loc[data['Team'] == 'Ferrari']\n",
    "data_ferrari"
   ]
  },
  {
   "cell_type": "code",
   "execution_count": null,
   "metadata": {},
   "outputs": [],
   "source": [
    "# Get all laps 1 and 2 of the drivers\n",
    "data.loc[data['LapNumber'] <= 2]"
   ]
  },
  {
   "cell_type": "code",
   "execution_count": null,
   "metadata": {},
   "outputs": [],
   "source": [
    "# Get lap 10 of the drivers from 'Ferrari'\n",
    "data_ferrari_10 = data.loc[(data['LapNumber'] == 10) & (data['Team'] == 'Ferrari')]\n",
    "data_ferrari_10"
   ]
  },
  {
   "cell_type": "code",
   "execution_count": null,
   "metadata": {},
   "outputs": [],
   "source": [
    "# Get the laps of the drivers 'SAI' or 'LEC'\n",
    "data.loc[(data['Driver'] == 'SAI') | (data['Driver'] == 'LEC')]"
   ]
  },
  {
   "cell_type": "code",
   "execution_count": null,
   "metadata": {},
   "outputs": [],
   "source": [
    "# Another option for getting the  laps of the drivers 'SAI' or 'LEC'\n",
    "data.loc[data['Driver'].isin(['SAI', 'LEC'])]"
   ]
  },
  {
   "cell_type": "code",
   "execution_count": null,
   "metadata": {},
   "outputs": [],
   "source": [
    "# Get laps from teams that contain 'Bull'\n",
    "data.loc[data['Team'].str.contains('Bull')]"
   ]
  },
  {
   "cell_type": "markdown",
   "metadata": {},
   "source": [
    "<div class=\"alert alert-block alert-info\">\n",
    "    <b>Exercise:</b> Fix the NaT values in the times of the columns 'Sector1Time' and 'LapTime'.\n",
    "</div>"
   ]
  },
  {
   "cell_type": "code",
   "execution_count": 68,
   "metadata": {},
   "outputs": [],
   "source": [
    "# Your code here\n",
    "#print(data[\"Sector1Time\"].isna )\n",
    "#print(data[\"LapTime\"].isna)\n",
    "\n",
    "#Solucion dada mal\n",
    "#data[\"Sector1Time\"]=data[\"LapTime\"]-data[\"Sector2Time\"]-data[\"Sector3Time\"]\n",
    "#data.loc[572,'LapTime']=data.loc[572, \"Sector1Time\"] + data.loc[572, \"Sector2Time\"] + data.loc[572, \"Sector3Time\"]\n",
    "\n",
    "\n",
    "#Solución real\n",
    "aux=data[data['Sector1Time'].isna()]\n",
    "for index, rows in aux.iterrows():\n",
    "    data.at[index, \"Sector1Time\"]=rows[\"LapTime\"]-rows[\"Sector2Time\"]-rows[\"Sector3Time\"]\n",
    "    \n",
    "\n",
    "\n"
   ]
  },
  {
   "cell_type": "markdown",
   "metadata": {},
   "source": [
    "<div class=\"alert alert-block alert-info\">\n",
    "    <b>Exercise:</b> Get the average lap time of 'AlphaTauri' drivers between laps 1 and 20 (inclusive).\n",
    "</div>"
   ]
  },
  {
   "cell_type": "code",
   "execution_count": 63,
   "metadata": {},
   "outputs": [
    {
     "name": "stdout",
     "output_type": "stream",
     "text": [
      "0 days 00:01:19.966000\n"
     ]
    }
   ],
   "source": [
    "# Your code here\n",
    "aux=data.loc[(data[\"Team\"]==\"AlphaTauri\") & (data[\"LapNumber\"]<=20) & (data[\"LapNumber\"]>=1)]\n",
    "print(aux[\"LapTime\"].mean())\n"
   ]
  },
  {
   "cell_type": "markdown",
   "metadata": {},
   "source": [
    "<div class=\"alert alert-block alert-info\">\n",
    "    <b>Exercise:</b> What was the maximum speed at the finish line for Alonso? And for Verstappen? In which laps?\n",
    "</div>"
   ]
  },
  {
   "cell_type": "code",
   "execution_count": 79,
   "metadata": {},
   "outputs": [
    {
     "name": "stdout",
     "output_type": "stream",
     "text": [
      "Alonso speed: 265.0, Alonso lap: 34\n"
     ]
    }
   ],
   "source": [
    "\n",
    "alonso_speed = data.loc[data[\"Driver\"] == \"ALO\"]\n",
    "alonso_maxSP = alonso_speed[\"SpeedFL\"].max()\n",
    "\n",
    "alonso_aux_lap = data.loc[(data[\"Driver\"] == \"ALO\") & (data[\"SpeedFL\"] == alonso_maxSP)]\n",
    "alonso_lap = alonso_aux_lap[\"LapNumber\"].values[0]\n",
    "\n",
    "print(f\"Alonso speed: {alonso_maxSP}, Alonso lap: {alonso_lap}\")\n"
   ]
  },
  {
   "cell_type": "code",
   "execution_count": 82,
   "metadata": {},
   "outputs": [
    {
     "name": "stdout",
     "output_type": "stream",
     "text": [
      "VER speed: 261.0, VER lap: 34\n"
     ]
    }
   ],
   "source": [
    "VER_speed = data.loc[data[\"Driver\"] == \"VER\"]\n",
    "VER_maxSP = VER_speed[\"SpeedFL\"].max()\n",
    "\n",
    "VER_aux_lap = data.loc[(data[\"Driver\"] == \"VER\") & (data[\"SpeedFL\"] == VER_maxSP)]\n",
    "VER_lap = alonso_aux_lap[\"LapNumber\"].values[0]\n",
    "\n",
    "print(f\"VER speed: {VER_maxSP}, VER lap: {VER_lap}\")\n"
   ]
  },
  {
   "cell_type": "markdown",
   "metadata": {},
   "source": [
    "### **Data Grouping**"
   ]
  },
  {
   "cell_type": "code",
   "execution_count": null,
   "metadata": {},
   "outputs": [],
   "source": [
    "# Get the number of drivers per team\n",
    "data.groupby('Team')['Driver'].nunique().reset_index()"
   ]
  },
  {
   "cell_type": "code",
   "execution_count": null,
   "metadata": {},
   "outputs": [],
   "source": [
    "# List of drivers by team\n",
    "data.groupby('Team')['Driver'].unique().reset_index()"
   ]
  },
  {
   "cell_type": "code",
   "execution_count": null,
   "metadata": {},
   "outputs": [],
   "source": [
    "# Another option to get the list of drivers by Team\n",
    "data.groupby('Team')['Driver'].apply(lambda x: list(set(x))).reset_index()"
   ]
  },
  {
   "cell_type": "code",
   "execution_count": null,
   "metadata": {},
   "outputs": [],
   "source": [
    "# Number of laps per driver ordered from highest to lowest\n",
    "data.groupby('Driver')['LapNumber'].max().sort_values(ascending = False).reset_index()"
   ]
  },
  {
   "cell_type": "code",
   "execution_count": null,
   "metadata": {},
   "outputs": [],
   "source": [
    "# Another option to get the Number of laps per driver ordered from highest to lowest\n",
    "data.groupby('Driver')['LapNumber'].size().sort_values(ascending = False).reset_index()"
   ]
  },
  {
   "cell_type": "code",
   "execution_count": null,
   "metadata": {},
   "outputs": [],
   "source": [
    "# Average speed at the finish line for each team\n",
    "data.groupby('Team')['SpeedFL'].mean().sort_values(ascending = False).reset_index()"
   ]
  },
  {
   "cell_type": "code",
   "execution_count": null,
   "metadata": {},
   "outputs": [],
   "source": [
    "# Another option that allows customizing the name of the new column and creating multiple at once\n",
    "data.groupby('Team').agg(AvgFlSpeed = ('SpeedFL', 'mean')).sort_values('AvgFlSpeed', ascending = False).reset_index()"
   ]
  },
  {
   "cell_type": "code",
   "execution_count": null,
   "metadata": {},
   "outputs": [],
   "source": [
    "# The Pivot Table allows grouping data in a more complex way.\n",
    "# In this example, it shows for each Driver from each Team, the Number of Laps they did with each compound, as well as the totals for rows and columns (margins).\n",
    "data.pivot_table(index = ['Team', 'Driver'], columns = ['Compound'], values = 'LapNumber', aggfunc = 'count', fill_value = 0, margins = True, margins_name = 'Total')"
   ]
  },
  {
   "cell_type": "markdown",
   "metadata": {},
   "source": [
    "<div class=\"alert alert-block alert-info\">\n",
    "    <b>Exercise:</b> Get the number of laps annulled for each driver. Order from highest to lowest.\n",
    "</div>"
   ]
  },
  {
   "cell_type": "code",
   "execution_count": null,
   "metadata": {},
   "outputs": [],
   "source": [
    "# Your code here"
   ]
  },
  {
   "cell_type": "markdown",
   "metadata": {},
   "source": [
    "<div class=\"alert alert-block alert-info\">\n",
    "    <b>Exercise:</b> Get the number of pit stops made by each driver.\n",
    "</div>"
   ]
  },
  {
   "cell_type": "code",
   "execution_count": null,
   "metadata": {},
   "outputs": [],
   "source": [
    "# Your code here"
   ]
  },
  {
   "cell_type": "markdown",
   "metadata": {},
   "source": [
    "<div class=\"alert alert-block alert-info\">\n",
    "    <b>Exercise:</b> Create a table where the rows show the teams and drivers, and the columns represent the first 10 laps. The lap time should be displayed in seconds (using time.dt.total_seconds()).\n",
    "</div>"
   ]
  },
  {
   "cell_type": "code",
   "execution_count": null,
   "metadata": {},
   "outputs": [],
   "source": [
    "# Your code here"
   ]
  },
  {
   "cell_type": "markdown",
   "metadata": {},
   "source": [
    "### **Final Cleanup and Storage of the DataFrame**\n",
    "\n",
    "To ensure that this dataset is ready for future use in practice, we will remove certain rows and columns that won't contribute useful information to the problems we'll solve."
   ]
  },
  {
   "cell_type": "markdown",
   "metadata": {},
   "source": [
    "<div class=\"alert alert-block alert-info\">\n",
    "    <b>Exercise:</b> Remove all rows where 'TrackStatus' is not equal to 1 and those that correspond to a pit stop. The latter will have a value in 'PitOutTime' or 'PitInTime'. Sort by 'Time' in ascending order and reset the index using `reset_index(drop=True)` to reassign the row indices.\n",
    "</div>"
   ]
  },
  {
   "cell_type": "code",
   "execution_count": null,
   "metadata": {},
   "outputs": [],
   "source": [
    "# Your code here"
   ]
  },
  {
   "cell_type": "markdown",
   "metadata": {},
   "source": [
    "<div class=\"alert alert-block alert-info\">\n",
    "    <b>Exercise:</b> Finally, remove the columns \"Deleted\", \"DeletedReason\", \"IsAccurate\", \"TrackStatus\", \"PitOutTime\", and \"PitInTime\".\n",
    "</div>"
   ]
  },
  {
   "cell_type": "code",
   "execution_count": null,
   "metadata": {},
   "outputs": [],
   "source": [
    "# Your code here"
   ]
  },
  {
   "cell_type": "markdown",
   "metadata": {},
   "source": [
    "Once this phase of analysis and cleaning of the dataset is completed, we will store the Pandas DataFrame in a `Pickle` file.\n",
    "It is possible to store it as `CSV` or `XLSX`, but these formats do not preserve the column types. This would mean that when loading it in the future, we would have to re-cast (`.astype()`) each column."
   ]
  },
  {
   "cell_type": "code",
   "execution_count": null,
   "metadata": {},
   "outputs": [],
   "source": [
    "data.to_pickle('f1_23_monaco.pkl')"
   ]
  }
 ],
 "metadata": {
  "kernelspec": {
   "display_name": "base",
   "language": "python",
   "name": "python3"
  },
  "language_info": {
   "codemirror_mode": {
    "name": "ipython",
    "version": 3
   },
   "file_extension": ".py",
   "mimetype": "text/x-python",
   "name": "python",
   "nbconvert_exporter": "python",
   "pygments_lexer": "ipython3",
   "version": "3.10.16"
  }
 },
 "nbformat": 4,
 "nbformat_minor": 2
}
