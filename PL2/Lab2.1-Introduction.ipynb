{
 "cells": [
  {
   "cell_type": "markdown",
   "metadata": {},
   "source": [
    "# **Lab 2.1: Introduction**\n",
    "\n",
    "<hr>\n",
    "\n",
    "## **1. Objective**\n",
    "In this lab, you will learn how to set up your working environment for the course using **Visual Studio Code**, **Jupyter Notebook**, and **Conda**.\n",
    "\n",
    "### What is Visual Studio Code?\n",
    "**Visual Studio Code** (VS Code) is a source code editor developed by Microsoft. It is free, open-source, cross-platform, and known for its lightweight and fast performance. Additionally, it is highly customizable thanks to its wide range of extensions. We will configure it to run **Python** and **Jupyter Notebooks**.  \n",
    "\n",
    "#### Installing the Python Extension in Visual Studio Code\n",
    "To work with Python in Visual Studio Code, you need to install the Python extension. Here are the steps to do it:\n",
    "\n",
    "### What is Jupyter Notebook?\n",
    "**Jupyter Notebook** is an interactive tool that allows you to create and share documents containing executable code, explanatory text, equations, visualizations, and more. It is ideal for learning, experimentation, and developing projects in artificial intelligence and data science.\n",
    "\n",
    "#### Advantages of Jupyter Notebook\n",
    "- Integration of code and explanatory text in a single document.\n",
    "- Interactive data visualization.\n",
    "- Easy to share and reproduce.\n",
    "\n",
    "### What is Conda?\n",
    "**Conda** is a package and environment manager that simplifies dependency installation and the creation of isolated virtual environments. This allows you to:\n",
    "- Avoid conflicts between packages.\n",
    "- Keep your projects organized with specific configurations."
   ]
  },
  {
   "cell_type": "markdown",
   "metadata": {},
   "source": [
    "<hr>\n",
    "\n",
    "## **2. Setting Up the Environment**\n",
    "\n",
    "### Installing Extensions in Visual Studio Code\n",
    "To work with Python and Jupyter in VS Code, you need to install their extensions. Here are the steps to do it:\n",
    "\n",
    "Assuming you already have VS Code open:\n",
    "1. Click on the extensions icon in the left sidebar.\n",
    "2. In the search bar, type \"Python\" and select the extension developed by Microsoft.\n",
    "3. Click the \"Install\" button to add the extension to your VS Code.\n",
    "4. Repeat the same procedure for \"Jupyter\".\n",
    "\n",
    "### Creating a Virtual Environment with Conda\n",
    "On the university’s lab computers, **Anaconda** and **Python** are already installed, so there is no need to install anything.\n",
    "\n",
    "To work on these computers:\n",
    "1. Open the Windows Start menu.\n",
    "2. Search for and run the **Anaconda Prompt** application (Anaconda console).\n",
    "3. From this console, you can activate the environment, install dependencies, and run Jupyter Notebook.\n",
    "4. In **Anaconda Prompt**, create a new environment with: `conda create --name SSII python=3.10`.\n",
    "This will set up an environment named `SSII` with Python 3.10.\n",
    "5. Activate the environment with: `conda activate SSII`.\n",
    "6. Install a library: `pip install ipykernel`\n",
    "\n",
    "<div class=\"alert alert-block alert-warning\">\n",
    "    <strong>NOTE:</strong> On your personal computer, you will need to install <i>Anaconda</i> if you haven’t already.\n",
    "</div>\n",
    "\n",
    "### Using the Environment in Visual Studio Code\n",
    "To run the Notebook in the environment you just created from VS Code, click on the upper right corner where it says _Select Kernel_ and choose the ``SSII`` environment.\n",
    "\n",
    "### Verifying the Environment\n",
    "Run the following code block:"
   ]
  },
  {
   "cell_type": "code",
   "execution_count": 1,
   "metadata": {},
   "outputs": [
    {
     "name": "stdout",
     "output_type": "stream",
     "text": [
      "Works\n"
     ]
    }
   ],
   "source": [
    "print('Works')"
   ]
  }
 ],
 "metadata": {
  "kernelspec": {
   "display_name": "base",
   "language": "python",
   "name": "python3"
  },
  "language_info": {
   "codemirror_mode": {
    "name": "ipython",
    "version": 3
   },
   "file_extension": ".py",
   "mimetype": "text/x-python",
   "name": "python",
   "nbconvert_exporter": "python",
   "pygments_lexer": "ipython3",
   "version": "3.10.16"
  }
 },
 "nbformat": 4,
 "nbformat_minor": 2
}
