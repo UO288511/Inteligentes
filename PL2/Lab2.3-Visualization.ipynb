{
 "cells": [
  {
   "cell_type": "markdown",
   "metadata": {},
   "source": [
    "# **Lab 2.3: Visualization**\n",
    "\n",
    "<hr>\n",
    "\n",
    "## **1. Objective**\n",
    "In this practice, we will use the dataset generated in the previous practice and visualize various data in order to extract knowledge.\n",
    "To do this, we will need to install new libraries in our conda environment.\n",
    "\n",
    "##### **Matplotlib**\n",
    "\n",
    "A library that allows the creation of a wide variety of plots, including:\n",
    "\n",
    "* Histograms.\n",
    "* Scatter plots.\n",
    "* Bar charts.\n",
    "* Heatmaps.\n",
    "* Etc.\n",
    "\n",
    "It offers multiple customization options.\n",
    "Once created, the plots can be exported in many formats (jpg, png, pdf...)\n",
    "\n",
    "Example: https://matplotlib.org/gallery/lines_bars_and_markers/scatter_demo2.html#sphx-glr-gallery-lines-bars-and-markers-scatter-demo2-py\n",
    "\n",
    "*To install it:*"
   ]
  },
  {
   "cell_type": "code",
   "execution_count": null,
   "metadata": {},
   "outputs": [],
   "source": [
    "! pip install matplotlib"
   ]
  },
  {
   "cell_type": "markdown",
   "metadata": {},
   "source": [
    "##### **Seaborn**\n",
    "\n",
    "Based on Matplotlib, this library acts as a high-level interface over the former.\n",
    "This greatly simplifies the most common operations.\n",
    "It also adds new types of plots.\n",
    "\n",
    "Example: https://seaborn.pydata.org/examples/scatter_bubbles.html\n",
    "\n",
    "*To install it:*"
   ]
  },
  {
   "cell_type": "code",
   "execution_count": null,
   "metadata": {},
   "outputs": [],
   "source": [
    "! pip install seaborn"
   ]
  },
  {
   "cell_type": "markdown",
   "metadata": {},
   "source": [
    "##### **Bokeh**\n",
    "\n",
    "Unlike the previous ones, Bokeh allows the creation of interactive plots.\n",
    "Thanks to this, we can modify the plot once it's created.\n",
    "\n",
    "Example: https://demo.bokeh.org/crossfilter\n",
    "\n",
    "*To install it:*"
   ]
  },
  {
   "cell_type": "code",
   "execution_count": null,
   "metadata": {},
   "outputs": [],
   "source": [
    "! pip install bokeh"
   ]
  },
  {
   "cell_type": "markdown",
   "metadata": {},
   "source": [
    "<hr>\n",
    "\n",
    "## **2. Data Visualization**\n",
    "\n",
    "The first thing we need to do is load the data from the previous practice."
   ]
  },
  {
   "cell_type": "code",
   "execution_count": null,
   "metadata": {},
   "outputs": [],
   "source": [
    "import pandas as pd\n",
    "data = pd.read_pickle('f1_23_monaco.pkl')"
   ]
  },
  {
   "cell_type": "markdown",
   "metadata": {},
   "source": [
    "<div class=\"alert alert-block alert-info\">\n",
    "    <b>Exercise:</b> Verify that the data types are correct.\n",
    "</div>"
   ]
  },
  {
   "cell_type": "code",
   "execution_count": null,
   "metadata": {},
   "outputs": [],
   "source": [
    "# Your code here"
   ]
  },
  {
   "cell_type": "markdown",
   "metadata": {},
   "source": [
    "### **2.1. Static Visualization**\n",
    "We will begin with static visualization, which does not allow manipulating the graph once it is generated.\n",
    "\n",
    "First, we will load the libraries and set some variables that will be used throughout the practice."
   ]
  },
  {
   "cell_type": "code",
   "execution_count": null,
   "metadata": {},
   "outputs": [],
   "source": [
    "import matplotlib.pyplot as plt\n",
    "import seaborn as sns\n",
    "sns.set_style('whitegrid') # Sets the style of the plots\n",
    "import bokeh as bk\n",
    "\n",
    "# Graph size\n",
    "fig_size = (12,6)\n",
    "\n",
    "# Dictionary of colors for each team, driver, and tire\n",
    "team_colors = {'Red Bull Racing': '#1E41FF', 'Alpine': '#2293D1', 'Aston Martin': '#006F62', 'Ferrari': '#DC0000', 'Williams': '#005AFF', 'Haas F1 Team': '#787878', 'AlphaTauri': '#2B4562', 'Alfa Romeo': '#900000', 'McLaren': '#FF8700', 'Mercedes': '#6CD3BF'}\n",
    "driver_colors = {'VER': '#1E41FF', 'GAS': '#2293D1', 'PER': '#1E41FF', 'ALO': '#006F62', 'LEC': '#DC0000', 'STR': '#006F62', 'SAR': '#005AFF', 'MAG': '#787878', 'DEV': '#2B4562', 'TSU': '#2B4562', 'ALB': '#005AFF', 'ZHO': '#900000', 'HUL': '#787878', 'OCO': '#2293D1', 'NOR': '#FF8700', 'HAM': '#6CD3BF', 'SAI': '#DC0000', 'RUS': '#6CD3BF', 'BOT': '#900000', 'PIA': '#FF8700'}\n",
    "tire_colors = { 'SOFT': '#FF0000', 'HARD': '#cccccc', 'MEDIUM': '#FFD700', 'INTERMEDIATE': '#00A550', 'WET': '#005AFF' }"
   ]
  },
  {
   "cell_type": "markdown",
   "metadata": {},
   "source": [
    "#### **Distributions**\n",
    "\n",
    "Distributions are obtained with the aim of showing the possible values that a specific variable can take. Additionally, we can observe the frequency of those values.\n",
    "\n",
    "_For a single variable:_\n",
    "* Histogram: `sns.histplot` or `sns.countplot`\n",
    "* KDE (Kernel Density Estimate): `sns.kdeplot`\n",
    "\n",
    "The KDE is a smoothed version of a histogram where the y-axis shows the likelihood of finding a value at each point, instead of just counting how many data points exist in each interval.\n",
    "\n",
    "_For multiple variables:_\n",
    "* KDE2D: `sns.jointplot`"
   ]
  },
  {
   "cell_type": "markdown",
   "metadata": {},
   "source": [
    "**Histograma de la columna \"SpeedI1\".**"
   ]
  },
  {
   "cell_type": "code",
   "execution_count": null,
   "metadata": {},
   "outputs": [],
   "source": [
    "plt.figure(figsize = fig_size); # Size of the plot\n",
    "hist = sns.histplot(data = data['SpeedI1'], kde = False, bins = range(90, 220, 5));\n",
    "hist.set_xticks(range(90, 220, 5)); # X-axis labels\n",
    "hist.set_xlabel('SpeedI1')\n",
    "hist.set_ylabel('Number of laps')\n",
    "hist.set_title('Histogram of the ''SpeedI1'' variable')"
   ]
  },
  {
   "cell_type": "markdown",
   "metadata": {},
   "source": [
    "**Otra notación para lo anterior**"
   ]
  },
  {
   "cell_type": "code",
   "execution_count": null,
   "metadata": {},
   "outputs": [],
   "source": [
    "# Another notation\n",
    "plt.figure(figsize = fig_size);\n",
    "hist = sns.histplot(data = data, x = 'SpeedI1', kde = False, bins = range(90, 220, 5));\n",
    "hist.set_xticks(range(90, 220, 5));\n",
    "hist.set_xlabel('SpeedI1')\n",
    "hist.set_ylabel('Number of laps')\n",
    "hist.set_title('Histogram of the ''SpeedI1'' variable')"
   ]
  },
  {
   "cell_type": "markdown",
   "metadata": {},
   "source": [
    "**Histogram of the number of laps by team**\n",
    "\n",
    "Team, as you may know, is a categorical variable, which is why we use countplot."
   ]
  },
  {
   "cell_type": "code",
   "execution_count": null,
   "metadata": {},
   "outputs": [],
   "source": [
    "plt.figure(figsize = fig_size); # Size of the plot\n",
    "hist = sns.countplot(x = data['Team'], hue = data[\"Team\"], palette = team_colors);\n",
    "hist.set_xlabel('Team')\n",
    "hist.set_ylabel('Number of laps')\n",
    "hist.set_title('Histogram of the ''Team'' variable')"
   ]
  },
  {
   "cell_type": "markdown",
   "metadata": {},
   "source": [
    "**KDE of the speed at the finish line for the drivers: ALO, VER, LEC, and NOR**"
   ]
  },
  {
   "cell_type": "code",
   "execution_count": null,
   "metadata": {},
   "outputs": [],
   "source": [
    "filtered_drivers = data.loc[data['Driver'].isin(['ALO', 'VER', 'LEC', 'NOR'])]\n",
    "\n",
    "plt.figure(figsize = fig_size)\n",
    "hist = sns.kdeplot(data = filtered_drivers, x = filtered_drivers['SpeedFL'])\n",
    "hist.set_xlabel('Lap time (seconds)')\n",
    "hist.set_ylabel('Density')\n",
    "hist.set_title('KDE of the ''LapTime'' variable')\n",
    "plt.show()"
   ]
  },
  {
   "cell_type": "markdown",
   "metadata": {},
   "source": [
    "**KDE (separated by driver) of the speed at the finish line for the drivers: ALO, VER, LEC, and NOR**"
   ]
  },
  {
   "cell_type": "code",
   "execution_count": null,
   "metadata": {},
   "outputs": [],
   "source": [
    "plt.figure(figsize = fig_size)\n",
    "hist = sns.kdeplot(data = filtered_drivers, x = filtered_drivers['SpeedFL'], hue = 'Driver', palette = driver_colors, fill = True)\n",
    "hist.set_xlabel('Lap time (seconds)')\n",
    "hist.set_ylabel('Density')\n",
    "hist.set_title('KDE of the ''LapTime'' variable')\n",
    "plt.show()"
   ]
  },
  {
   "cell_type": "markdown",
   "metadata": {},
   "source": [
    "**2D KDE (separated by driver) of the time in the first sector versus the third sector for ALO, VER, LEC, and NOR for the first 30 laps**"
   ]
  },
  {
   "cell_type": "code",
   "execution_count": null,
   "metadata": {},
   "outputs": [],
   "source": [
    "filtered_drivers = data.loc[(data['LapNumber'] <= 30) & (data['Driver'].isin(['VER', 'ALO', 'NOR']))]\n",
    "hist = sns.jointplot(data = filtered_drivers, x = filtered_drivers['Sector3Time'].dt.total_seconds(), y = filtered_drivers['Sector1Time'].dt.total_seconds(), hue = 'Driver', palette = driver_colors)\n",
    "plt.show()"
   ]
  },
  {
   "cell_type": "markdown",
   "metadata": {},
   "source": [
    "<div class=\"alert alert-block alert-info\">\n",
    "    <b>Exercise:</b> Create a chart with the number of laps completed with each type of tire. Use the already created variable 'tire_colors'.\n",
    "</div>"
   ]
  },
  {
   "cell_type": "code",
   "execution_count": null,
   "metadata": {},
   "outputs": [],
   "source": [
    "# Your code here"
   ]
  },
  {
   "cell_type": "markdown",
   "metadata": {},
   "source": [
    "<div class=\"alert alert-block alert-info\">\n",
    "    <b>Exercise:</b> Create a chart with the positions Kevin Magnussen (MAG) has passed through. It should reflect how many laps he has been in each of the 20 positions. All possible positions should appear on the x-axis.\n",
    "</div>"
   ]
  },
  {
   "cell_type": "code",
   "execution_count": null,
   "metadata": {},
   "outputs": [],
   "source": [
    "# Your code here"
   ]
  },
  {
   "cell_type": "markdown",
   "metadata": {},
   "source": [
    "#### **Relationships**\n",
    "\n",
    "There are multiple types of charts to represent the relationship between variables (2 typically).\n",
    "\n",
    "_For 2 variables:_\n",
    "* Bars: `sns.barplot`\n",
    "* Line: `sns.lineplot`\n",
    "* Scatter: `sns.scatterplot`\n",
    "* Regression line: `sns.regplot`\n",
    "\n",
    "_For more variables:_\n",
    "* Color and size to represent more information.\n",
    "* Pairwise: `sns.lineplot`\n",
    "* 3D visualization: `mpl_toolkits.mplot3d`\n",
    "* Reduce to 2 variables:\n",
    "  * PCA (Principal Component Analysis): `sklearn.decomposition.PCA`\n",
    "  * TSNE (T-distributed Stochastic Neighbor Embedding): `sklearn.manifold.TSNE`"
   ]
  },
  {
   "cell_type": "markdown",
   "metadata": {},
   "source": [
    "**Bar chart: Relationship between lap time and position.**"
   ]
  },
  {
   "cell_type": "code",
   "execution_count": null,
   "metadata": {},
   "outputs": [],
   "source": [
    "plt.figure(figsize = fig_size); # Size of the plot\n",
    "the_plot = sns.barplot(data = data, x = 'Position', y = data['LapTime'].dt.total_seconds())\n",
    "the_plot.set_xlabel('Position')\n",
    "the_plot.set_ylabel('Lap time (s)')\n",
    "the_plot.set_title('Relationship between Lap time and Position')"
   ]
  },
  {
   "cell_type": "markdown",
   "metadata": {},
   "source": [
    "**Bar chart: Average lap time for each tire.**"
   ]
  },
  {
   "cell_type": "code",
   "execution_count": null,
   "metadata": {},
   "outputs": [],
   "source": [
    "plt.figure(figsize = fig_size); # Size of the plot\n",
    "the_plot = sns.barplot(data = data, x = 'Compound', y = data['LapTime'].dt.total_seconds(), hue = 'Compound', palette = tire_colors)\n",
    "the_plot.set_xlabel('Tire')\n",
    "the_plot.set_ylabel('Lap time (s)')\n",
    "the_plot.set_title('Relationship between Lap time and Tire')"
   ]
  },
  {
   "cell_type": "markdown",
   "metadata": {},
   "source": [
    "**Line chart: Relationship between lap time and lap number.**"
   ]
  },
  {
   "cell_type": "code",
   "execution_count": null,
   "metadata": {},
   "outputs": [],
   "source": [
    "plt.figure(figsize = fig_size); # Size of the plot\n",
    "the_plot = sns.lineplot(data = data, x = 'LapNumber', y = data['LapTime'].dt.total_seconds())\n",
    "the_plot.set_xlabel('Lap')\n",
    "the_plot.set_ylabel('Lap time (s)')\n",
    "the_plot.set_title('Relationship between Lap time and Lap')"
   ]
  },
  {
   "cell_type": "markdown",
   "metadata": {},
   "source": [
    "**Scatter plot: Relationship between second sector times and speed at the second detection point by tire.**"
   ]
  },
  {
   "cell_type": "code",
   "execution_count": null,
   "metadata": {},
   "outputs": [],
   "source": [
    "plt.figure(figsize = fig_size); # Size of the plot\n",
    "the_plot = sns.scatterplot(data = data, x = 'Sector2Time', y = 'SpeedI2', hue = 'Compound', palette = tire_colors);\n",
    "the_plot.set_ylabel('Speed at second point')\n",
    "the_plot.set_xlabel('Time in second sector (s)')\n",
    "the_plot.set_title('Relationship between second sector time and speed at second point')"
   ]
  },
  {
   "cell_type": "markdown",
   "metadata": {},
   "source": [
    "**Adding the previous trend line**\n",
    "\n",
    "The appropriate plot is the 'regplot'. This does not support the 'hue' parameter."
   ]
  },
  {
   "cell_type": "code",
   "execution_count": null,
   "metadata": {},
   "outputs": [],
   "source": [
    "plt.figure(figsize = fig_size); # Size of the plot\n",
    "the_plot = sns.regplot(data = data, x = data['Sector2Time'].dt.total_seconds(), y = 'SpeedI2', line_kws = {'color': 'red'});\n",
    "the_plot.set_ylabel('Speed at second point')\n",
    "the_plot.set_xlabel('Time in second sector (s)')\n",
    "the_plot.set_title('Relationship between second sector time and speed at second point')"
   ]
  },
  {
   "cell_type": "markdown",
   "metadata": {},
   "source": [
    "<div class=\"alert alert-block alert-info\">\n",
    "    <b>Exercise:</b> Obtain the previous plot for the laps after 55.\n",
    "</div>"
   ]
  },
  {
   "cell_type": "code",
   "execution_count": null,
   "metadata": {},
   "outputs": [],
   "source": [
    "# Your code here"
   ]
  },
  {
   "cell_type": "markdown",
   "metadata": {},
   "source": [
    "<div class=\"alert alert-block alert-info\">\n",
    "    <b>Exercise:</b> Create a chart with the average (maximum and minimum) lap time for each driver.\n",
    "</div>"
   ]
  },
  {
   "cell_type": "code",
   "execution_count": null,
   "metadata": {},
   "outputs": [],
   "source": [
    "# Your code here"
   ]
  },
  {
   "cell_type": "markdown",
   "metadata": {},
   "source": [
    "#### **Relationships: *Multiple variables***"
   ]
  },
  {
   "cell_type": "markdown",
   "metadata": {},
   "source": [
    "**Color and shape to represent more information.**"
   ]
  },
  {
   "cell_type": "code",
   "execution_count": null,
   "metadata": {},
   "outputs": [],
   "source": [
    "plt.figure(figsize = fig_size); # Size of the plot\n",
    "plt_data = data.loc[data.Driver.isin(['ALO', 'BOT', 'PIA'])]\n",
    "the_plot = sns.scatterplot(data = plt_data, x = 'Sector2Time', y = 'Sector3Time', hue = 'Driver', style = 'Compound', palette = driver_colors)\n",
    "the_plot.set_xlabel('Sector 2 Time')\n",
    "the_plot.set_ylabel('Sector 3 Time')\n",
    "the_plot.set_title('Relationship between Sector 3 and Sector 2 Times')"
   ]
  },
  {
   "cell_type": "markdown",
   "metadata": {},
   "source": [
    "**Pairwise: Relationship between 'SpeedI1', 'SpeedI2', 'SpeedFL'.**"
   ]
  },
  {
   "cell_type": "code",
   "execution_count": null,
   "metadata": {},
   "outputs": [],
   "source": [
    "plt.figure(figsize = fig_size); # Size of the plot\n",
    "plt_data = data.loc[data.Driver.isin(['ALO', 'BOT', 'PIA'])]\n",
    "the_plot = sns.pairplot(data = plt_data, vars = ['SpeedI1', 'SpeedI2', 'SpeedFL'], hue = 'Driver')"
   ]
  },
  {
   "cell_type": "markdown",
   "metadata": {},
   "source": [
    "**3D scatter. It is necessary to use the matplotlib library.**"
   ]
  },
  {
   "cell_type": "code",
   "execution_count": null,
   "metadata": {},
   "outputs": [],
   "source": [
    "from mpl_toolkits import mplot3d # Import the 3D part of the matplotlib library\n",
    "\n",
    "plt_data = data.loc[data.Driver.isin(['ALO', 'BOT', 'PIA'])]\n",
    "plt.figure(figsize = (10,12)); # Size of the plot\n",
    "ax = plt.axes(projection = '3d') # Specify the plot type\n",
    "ax.scatter3D(plt_data['SpeedI1'], plt_data['SpeedI2'], plt_data['SpeedFL'], c = plt_data['Driver'].apply(lambda x: driver_colors[x]))\n",
    "plt.xlabel('SpeedI1')\n",
    "plt.ylabel('SpeedI2')\n",
    "ax.set_zlabel('SpeedFL')\n",
    "\n",
    "plt.title('3D Scatter Plot')"
   ]
  },
  {
   "cell_type": "markdown",
   "metadata": {},
   "source": [
    "#### **Relationships: *Multiple variables with dimensionality reduction***\n",
    "\n",
    "When working with data that has many dimensions (more than 2), it is difficult to visualize them directly. To understand their structure and find patterns, we need to reduce the number of dimensions without losing too much information. PCA and t-SNE are two methods that help us visualize high-dimensional data by reducing it to 2D or 3D.\n",
    "\n",
    "To use these methods, we need to first install the scikit-learn library:"
   ]
  },
  {
   "cell_type": "code",
   "execution_count": null,
   "metadata": {},
   "outputs": [],
   "source": [
    "! pip install scikit-learn"
   ]
  },
  {
   "cell_type": "markdown",
   "metadata": {},
   "source": [
    "**PCA: Visualize the laps of 3 drivers based on 6 variables: the time in each of the 3 sectors and the maximum speeds.**"
   ]
  },
  {
   "cell_type": "code",
   "execution_count": null,
   "metadata": {},
   "outputs": [],
   "source": [
    "from sklearn.decomposition import PCA # Import PCA\n",
    "\n",
    "filtered_data = data.loc[data.Driver.isin(['ALO', 'BOT', 'PIA'])].copy() # It's better to make a copy if modifications are to follow\n",
    "# Convert sector times from timedelta to float\n",
    "filtered_data[['Sector1Time', 'Sector2Time', 'Sector3Time']] = filtered_data[['Sector1Time', 'Sector2Time', 'Sector3Time']].apply(lambda x: x.dt.total_seconds())\n",
    "# Select the columns to represent\n",
    "data_6D = filtered_data[['Sector1Time', 'Sector2Time', 'Sector3Time', 'SpeedI2', 'SpeedFL', 'SpeedST']]\n",
    "\n",
    "pca = PCA(n_components = 2, random_state = 10) # Configure to reduce to 2 dimensions and set the seed.\n",
    "new_2D_data = pca.fit_transform(data_6D.values) # Transform the data to 2 dimensions\n",
    "\n",
    "plt.figure(figsize = fig_size); # Size of the plot\n",
    "the_plot = sns.scatterplot(x = new_2D_data[:,0], y = new_2D_data[:,1], hue = filtered_data['Driver'], palette = driver_colors); # Scatter plot\n",
    "the_plot.set_xlabel('New Dimension X')\n",
    "the_plot.set_ylabel('New Dimension Y')\n",
    "the_plot.set_title('Dimensionality Reduction with PCA')"
   ]
  },
  {
   "cell_type": "markdown",
   "metadata": {},
   "source": [
    "**t-SNE: Visualize the laps of 3 drivers based on 6 variables: the time in each of the 3 sectors and the maximum speeds.**"
   ]
  },
  {
   "cell_type": "code",
   "execution_count": null,
   "metadata": {},
   "outputs": [],
   "source": [
    "from sklearn.manifold import TSNE # Import tSNE\n",
    "\n",
    "tsne = TSNE(n_components = 2, random_state = 10) # Configure to reduce to 2 dimensions and set the seed.\n",
    "new_2D_data = tsne.fit_transform(data_6D.values) # Transform the data to 2 dimensions\n",
    "\n",
    "plt.figure(figsize = fig_size); # Size of the plot\n",
    "the_plot = sns.scatterplot(x = new_2D_data[:,0], y = new_2D_data[:,1], hue = filtered_data['Driver'], palette = driver_colors); # Scatter plot\n",
    "the_plot.set_xlabel('New Dimension X')\n",
    "the_plot.set_ylabel('New Dimension Y')\n",
    "the_plot.set_title('Dimensionality Reduction with t-SNE')"
   ]
  },
  {
   "cell_type": "markdown",
   "metadata": {},
   "source": [
    "<div class=\"alert alert-block alert-info\">\n",
    "    <b>Exercise:</b> Modify the previous plot so that each point is colored based on the tire instead of the driver.\n",
    "</div>"
   ]
  },
  {
   "cell_type": "code",
   "execution_count": null,
   "metadata": {},
   "outputs": [],
   "source": [
    "# Your code here"
   ]
  },
  {
   "cell_type": "markdown",
   "metadata": {},
   "source": [
    "### **2.2. Dynamic Visualization**\n",
    "In this last section, we will use the Bokeh library.\n",
    "\n",
    "This library generates HTML code instead of producing a static image."
   ]
  },
  {
   "cell_type": "code",
   "execution_count": null,
   "metadata": {},
   "outputs": [],
   "source": [
    "from bokeh.plotting import figure, show, ColumnDataSource\n",
    "from bokeh.io import output_notebook\n",
    "\n",
    "output_notebook() # Configure Bokeh"
   ]
  },
  {
   "cell_type": "code",
   "execution_count": null,
   "metadata": {},
   "outputs": [],
   "source": [
    "# Create a ColumnDataSource object that contains all the relevant data for the plot\n",
    "source = ColumnDataSource(data = dict(\n",
    "    x = new_2D_data[:,0],\n",
    "    y = new_2D_data[:,1],\n",
    "    driver = filtered_data['Driver'],\n",
    "    color = filtered_data['Driver'].apply(lambda x: driver_colors[x]),\n",
    "    lap_time = filtered_data['LapTime'].dt.total_seconds(),\n",
    "    lap_number = filtered_data['LapNumber'],\n",
    "    compound = filtered_data['Compound'],\n",
    "    tire_life = filtered_data['TyreLife'],\n",
    "    )\n",
    ")\n",
    "\n",
    "# Customize the information to display when hovering the mouse\n",
    "TOOLTIPS = \"\"\"\n",
    "    <div>\n",
    "        <div style=\"padding-right:5px;padding-left:5px\">\n",
    "            <span style=\"font-size: 20px; color: @color;\"><strong>@driver</strong></span>\n",
    "            <ul style=\"font-size: 15px; margin-left:-20px; margin-top:0px\">\n",
    "                <li><strong>Lap: </strong>@lap_number</li>\n",
    "                <li><strong>Tire: </strong>@compound</li>\n",
    "                <li><strong>Lap Time: </strong>@lap_time</li>\n",
    "                <li><strong>Tyre life: </strong>@tire_life</li>\n",
    "            </ul>\n",
    "        </div>\n",
    "    </div>\n",
    "\"\"\"\n",
    "\n",
    "# Create the plot\n",
    "p = figure(width = 1000, height = 600, tooltips = TOOLTIPS)\n",
    "p.scatter(source = source, x = 'x', y = 'y', fill_color = 'color', line_color = None, size = 7)\n",
    "show(p)"
   ]
  },
  {
   "cell_type": "markdown",
   "metadata": {},
   "source": [
    "<div class=\"alert alert-block alert-info\">\n",
    "    <b>Exercise:</b> Modify the previous plot so that each point is colored based on the tire instead of the driver.\n",
    "</div>"
   ]
  },
  {
   "cell_type": "code",
   "execution_count": null,
   "metadata": {},
   "outputs": [],
   "source": [
    "# Your code here"
   ]
  }
 ],
 "metadata": {
  "kernelspec": {
   "display_name": "base",
   "language": "python",
   "name": "python3"
  },
  "language_info": {
   "codemirror_mode": {
    "name": "ipython",
    "version": 3
   },
   "file_extension": ".py",
   "mimetype": "text/x-python",
   "name": "python",
   "nbconvert_exporter": "python",
   "pygments_lexer": "ipython3",
   "version": "3.10.9"
  }
 },
 "nbformat": 4,
 "nbformat_minor": 2
}
