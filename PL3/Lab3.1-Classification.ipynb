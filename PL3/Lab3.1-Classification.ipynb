{
 "cells": [
  {
   "cell_type": "markdown",
   "metadata": {},
   "source": [
    "# **Lab 3.1: Machine Learning (Classification)**\n",
    "\n",
    "<hr>\n",
    "\n",
    "## **1. Introduction**\n",
    "Once we have analyzed, cleaned, and visualized our dataset, we can move on to the learning phase. Before we begin, it is necessary to identify the type of problem we are facing in order to select the most suitable methods or models.\n",
    "\n",
    "The following diagram illustrates the most common types of problems in the field of machine learning:\n",
    "\n",
    "<center><img src=\"ML_Diagram.png\" alt=\"diagram\" width=\"1000\"/></center>\n",
    "\n",
    "As you already know, problems that require **machine learning** to be solved are those where we do not know the *formula* that allows us to transform the input into the output. These problems are mainly divided into two types: **supervised** and **unsupervised**.\n",
    "\n",
    "In this course, we will focus on supervised learning problems, where we aim to predict either one or more classes (**classification**) or one or more numerical values (**regression**).\n",
    "\n",
    "Remember that in order to solve supervised learning problems, we always need **labeled data**, meaning data where we already know the expected output or correct label for a given input. These labeled examples will be used by the model to try to learn that *unknown formula* during training.\n",
    "\n",
    "We will begin by exploring **classification problems**, their characteristics, evaluation metrics, techniques, and how they are used to make predictions.\n",
    "\n",
    "### **Objective**\n",
    "In this practice, you will learn how to solve classification problems using different models and how to evaluate their performance."
   ]
  },
  {
   "cell_type": "markdown",
   "metadata": {},
   "source": [
    "<hr>\n",
    "\n",
    "## **2. Problem Definition**\n",
    "\n",
    "To begin, we will attempt to create a model capable of solving a **binary classification** problem.\n",
    "\n",
    "In this case, we need to **create a model that, given the time (in seconds) of the 3 sectors of an *Aston Martin* driver, predicts whether the time was set by *Alonso* or not (*Stroll*)**.\n",
    "\n",
    "We will reload our data and generate the necessary dataset to solve the problem."
   ]
  },
  {
   "cell_type": "code",
   "execution_count": 78,
   "metadata": {},
   "outputs": [],
   "source": [
    "import pandas as pd\n",
    "data = pd.read_pickle('https://raw.githubusercontent.com/AIC-Uniovi/Sistemas-Inteligentes/refs/heads/main/datasets/f1_23_monaco.pkl')"
   ]
  },
  {
   "cell_type": "markdown",
   "metadata": {},
   "source": [
    "<div class=\"alert alert-block alert-info\">\n",
    "    <b>Exercise:</b> Create the variable <code>data_aston</code> with a DataFrame that contains only the data of that team and the columns \"Sector1Time\", \"Sector2Time\", \"Sector3Time\", and \"Driver\". Transform the sector columns from timedelta to seconds using <code>.dt.total_seconds()</code>.\n",
    "</div>"
   ]
  },
  {
   "cell_type": "code",
   "execution_count": 79,
   "metadata": {},
   "outputs": [
    {
     "data": {
      "text/html": [
       "<div>\n",
       "<style scoped>\n",
       "    .dataframe tbody tr th:only-of-type {\n",
       "        vertical-align: middle;\n",
       "    }\n",
       "\n",
       "    .dataframe tbody tr th {\n",
       "        vertical-align: top;\n",
       "    }\n",
       "\n",
       "    .dataframe thead th {\n",
       "        text-align: right;\n",
       "    }\n",
       "</style>\n",
       "<table border=\"1\" class=\"dataframe\">\n",
       "  <thead>\n",
       "    <tr style=\"text-align: right;\">\n",
       "      <th></th>\n",
       "      <th>Driver</th>\n",
       "      <th>Sector1Time</th>\n",
       "      <th>Sector2Time</th>\n",
       "      <th>Sector3Time</th>\n",
       "    </tr>\n",
       "  </thead>\n",
       "  <tbody>\n",
       "    <tr>\n",
       "      <th>1</th>\n",
       "      <td>ALO</td>\n",
       "      <td>20.871</td>\n",
       "      <td>37.656</td>\n",
       "      <td>21.119</td>\n",
       "    </tr>\n",
       "    <tr>\n",
       "      <th>16</th>\n",
       "      <td>STR</td>\n",
       "      <td>21.136</td>\n",
       "      <td>37.566</td>\n",
       "      <td>21.287</td>\n",
       "    </tr>\n",
       "    <tr>\n",
       "      <th>18</th>\n",
       "      <td>ALO</td>\n",
       "      <td>20.649</td>\n",
       "      <td>37.348</td>\n",
       "      <td>21.116</td>\n",
       "    </tr>\n",
       "    <tr>\n",
       "      <th>33</th>\n",
       "      <td>STR</td>\n",
       "      <td>21.084</td>\n",
       "      <td>37.647</td>\n",
       "      <td>21.197</td>\n",
       "    </tr>\n",
       "    <tr>\n",
       "      <th>38</th>\n",
       "      <td>ALO</td>\n",
       "      <td>20.584</td>\n",
       "      <td>37.221</td>\n",
       "      <td>20.971</td>\n",
       "    </tr>\n",
       "    <tr>\n",
       "      <th>...</th>\n",
       "      <td>...</td>\n",
       "      <td>...</td>\n",
       "      <td>...</td>\n",
       "      <td>...</td>\n",
       "    </tr>\n",
       "    <tr>\n",
       "      <th>1174</th>\n",
       "      <td>ALO</td>\n",
       "      <td>23.068</td>\n",
       "      <td>42.166</td>\n",
       "      <td>22.011</td>\n",
       "    </tr>\n",
       "    <tr>\n",
       "      <th>1192</th>\n",
       "      <td>ALO</td>\n",
       "      <td>22.592</td>\n",
       "      <td>41.209</td>\n",
       "      <td>21.899</td>\n",
       "    </tr>\n",
       "    <tr>\n",
       "      <th>1209</th>\n",
       "      <td>ALO</td>\n",
       "      <td>23.072</td>\n",
       "      <td>41.645</td>\n",
       "      <td>22.214</td>\n",
       "    </tr>\n",
       "    <tr>\n",
       "      <th>1227</th>\n",
       "      <td>ALO</td>\n",
       "      <td>22.164</td>\n",
       "      <td>40.949</td>\n",
       "      <td>21.588</td>\n",
       "    </tr>\n",
       "    <tr>\n",
       "      <th>1245</th>\n",
       "      <td>ALO</td>\n",
       "      <td>22.513</td>\n",
       "      <td>40.910</td>\n",
       "      <td>22.245</td>\n",
       "    </tr>\n",
       "  </tbody>\n",
       "</table>\n",
       "<p>113 rows × 4 columns</p>\n",
       "</div>"
      ],
      "text/plain": [
       "     Driver  Sector1Time  Sector2Time  Sector3Time\n",
       "1       ALO       20.871       37.656       21.119\n",
       "16      STR       21.136       37.566       21.287\n",
       "18      ALO       20.649       37.348       21.116\n",
       "33      STR       21.084       37.647       21.197\n",
       "38      ALO       20.584       37.221       20.971\n",
       "...     ...          ...          ...          ...\n",
       "1174    ALO       23.068       42.166       22.011\n",
       "1192    ALO       22.592       41.209       21.899\n",
       "1209    ALO       23.072       41.645       22.214\n",
       "1227    ALO       22.164       40.949       21.588\n",
       "1245    ALO       22.513       40.910       22.245\n",
       "\n",
       "[113 rows x 4 columns]"
      ]
     },
     "execution_count": 79,
     "metadata": {},
     "output_type": "execute_result"
    }
   ],
   "source": [
    "# Your code here\n",
    "data_aston=data[data['Team']=='Aston Martin'][['Driver', 'Sector1Time', 'Sector2Time', 'Sector3Time']]\n",
    "\n",
    "\n",
    "data_aston['Sector1Time']=data_aston['Sector1Time'].dt.total_seconds()\n",
    "data_aston['Sector2Time']=data_aston['Sector2Time'].dt.total_seconds()\n",
    "data_aston['Sector3Time']=data_aston['Sector3Time'].dt.total_seconds()\n",
    "\n",
    "data_aston\n",
    "\n",
    "\n"
   ]
  },
  {
   "cell_type": "markdown",
   "metadata": {},
   "source": [
    "We will modify the dataset to transform it into a binary classification problem. As you may recall, in this type of problem, the model predicts **a single value** that indicates the probability between zero ($0\\%$) and one ($100\\%$) that the given input belongs to the **positive class**.\n",
    "\n",
    "In our case, the **positive class** will be *\"Alonso\"*. Therefore, if the model predicts a $1$, it indicates that the given sector times belong to Alonso with $100\\%$ probability.\n",
    "\n",
    "If the model's prediction is $0$ or less than $0.5$, it indicates that the lap was not set by Alonso and therefore belongs to Stroll."
   ]
  },
  {
   "cell_type": "markdown",
   "metadata": {},
   "source": [
    "<div class=\"alert alert-block alert-info\">\n",
    "    <b>Exercise:</b> Create the column <code>Class</code> within the DataFrame <code>data_aston</code> so that it equals zero whenever the driver is not Alonso and 1 otherwise.\n",
    "</div>"
   ]
  },
  {
   "cell_type": "code",
   "execution_count": 80,
   "metadata": {},
   "outputs": [
    {
     "data": {
      "text/html": [
       "<div>\n",
       "<style scoped>\n",
       "    .dataframe tbody tr th:only-of-type {\n",
       "        vertical-align: middle;\n",
       "    }\n",
       "\n",
       "    .dataframe tbody tr th {\n",
       "        vertical-align: top;\n",
       "    }\n",
       "\n",
       "    .dataframe thead th {\n",
       "        text-align: right;\n",
       "    }\n",
       "</style>\n",
       "<table border=\"1\" class=\"dataframe\">\n",
       "  <thead>\n",
       "    <tr style=\"text-align: right;\">\n",
       "      <th></th>\n",
       "      <th>Driver</th>\n",
       "      <th>Sector1Time</th>\n",
       "      <th>Sector2Time</th>\n",
       "      <th>Sector3Time</th>\n",
       "      <th>Class</th>\n",
       "    </tr>\n",
       "  </thead>\n",
       "  <tbody>\n",
       "    <tr>\n",
       "      <th>1</th>\n",
       "      <td>ALO</td>\n",
       "      <td>20.871</td>\n",
       "      <td>37.656</td>\n",
       "      <td>21.119</td>\n",
       "      <td>1</td>\n",
       "    </tr>\n",
       "    <tr>\n",
       "      <th>16</th>\n",
       "      <td>STR</td>\n",
       "      <td>21.136</td>\n",
       "      <td>37.566</td>\n",
       "      <td>21.287</td>\n",
       "      <td>0</td>\n",
       "    </tr>\n",
       "    <tr>\n",
       "      <th>18</th>\n",
       "      <td>ALO</td>\n",
       "      <td>20.649</td>\n",
       "      <td>37.348</td>\n",
       "      <td>21.116</td>\n",
       "      <td>1</td>\n",
       "    </tr>\n",
       "    <tr>\n",
       "      <th>33</th>\n",
       "      <td>STR</td>\n",
       "      <td>21.084</td>\n",
       "      <td>37.647</td>\n",
       "      <td>21.197</td>\n",
       "      <td>0</td>\n",
       "    </tr>\n",
       "    <tr>\n",
       "      <th>38</th>\n",
       "      <td>ALO</td>\n",
       "      <td>20.584</td>\n",
       "      <td>37.221</td>\n",
       "      <td>20.971</td>\n",
       "      <td>1</td>\n",
       "    </tr>\n",
       "    <tr>\n",
       "      <th>...</th>\n",
       "      <td>...</td>\n",
       "      <td>...</td>\n",
       "      <td>...</td>\n",
       "      <td>...</td>\n",
       "      <td>...</td>\n",
       "    </tr>\n",
       "    <tr>\n",
       "      <th>1174</th>\n",
       "      <td>ALO</td>\n",
       "      <td>23.068</td>\n",
       "      <td>42.166</td>\n",
       "      <td>22.011</td>\n",
       "      <td>1</td>\n",
       "    </tr>\n",
       "    <tr>\n",
       "      <th>1192</th>\n",
       "      <td>ALO</td>\n",
       "      <td>22.592</td>\n",
       "      <td>41.209</td>\n",
       "      <td>21.899</td>\n",
       "      <td>1</td>\n",
       "    </tr>\n",
       "    <tr>\n",
       "      <th>1209</th>\n",
       "      <td>ALO</td>\n",
       "      <td>23.072</td>\n",
       "      <td>41.645</td>\n",
       "      <td>22.214</td>\n",
       "      <td>1</td>\n",
       "    </tr>\n",
       "    <tr>\n",
       "      <th>1227</th>\n",
       "      <td>ALO</td>\n",
       "      <td>22.164</td>\n",
       "      <td>40.949</td>\n",
       "      <td>21.588</td>\n",
       "      <td>1</td>\n",
       "    </tr>\n",
       "    <tr>\n",
       "      <th>1245</th>\n",
       "      <td>ALO</td>\n",
       "      <td>22.513</td>\n",
       "      <td>40.910</td>\n",
       "      <td>22.245</td>\n",
       "      <td>1</td>\n",
       "    </tr>\n",
       "  </tbody>\n",
       "</table>\n",
       "<p>113 rows × 5 columns</p>\n",
       "</div>"
      ],
      "text/plain": [
       "     Driver  Sector1Time  Sector2Time  Sector3Time  Class\n",
       "1       ALO       20.871       37.656       21.119      1\n",
       "16      STR       21.136       37.566       21.287      0\n",
       "18      ALO       20.649       37.348       21.116      1\n",
       "33      STR       21.084       37.647       21.197      0\n",
       "38      ALO       20.584       37.221       20.971      1\n",
       "...     ...          ...          ...          ...    ...\n",
       "1174    ALO       23.068       42.166       22.011      1\n",
       "1192    ALO       22.592       41.209       21.899      1\n",
       "1209    ALO       23.072       41.645       22.214      1\n",
       "1227    ALO       22.164       40.949       21.588      1\n",
       "1245    ALO       22.513       40.910       22.245      1\n",
       "\n",
       "[113 rows x 5 columns]"
      ]
     },
     "execution_count": 80,
     "metadata": {},
     "output_type": "execute_result"
    }
   ],
   "source": [
    "# Your code here\n",
    "#data_aston['Class']=0\n",
    "#data_aston['Class'].loc[data_aston['Driver'] == 'ALO'] = 1  \n",
    "\n",
    "\n",
    "data_aston['Class'] = data_aston['Driver'].apply(lambda x: 1 if x == 'ALO' else 0)\n",
    "\n",
    "data_aston\n",
    "\n",
    "    \n",
    "\n"
   ]
  },
  {
   "cell_type": "markdown",
   "metadata": {},
   "source": [
    "<hr>\n",
    "\n",
    "## **3. Baseline**\n",
    "\n",
    "Once we have a labeled dataset, where each entry (Sector1Time, Sector2Time, and Sector3Time) is associated with an expected output (Class), we can proceed to create a model to solve the binary classification problem.\n",
    "\n",
    "As explained in theory class, there are simple models that can provide very good performance without the need for more complex solutions. These models are called *baselines* and serve as a reference or lower bound. If a baseline performs better than a much more complex model, something is going wrong.\n",
    "\n",
    "In classification problems, there are three main ones:\n",
    "\n",
    "* **Random:** Predicts a 0 or 1 randomly without considering the input variables.\n",
    "* **Zero-R:** Predicts the majority class, that is, it analyzes the \"Class\" column of the dataset and, if the most frequent class is 1, it always predicts 1 for any input. As you can see, it doesn't use the input variables at all.\n",
    "* **One-R:** This model selects **one** input variable, the one that offers the best classification possible by itself. It is designed for categorical input variables."
   ]
  },
  {
   "cell_type": "markdown",
   "metadata": {},
   "source": [
    "<div class=\"alert alert-block alert-warning\">\n",
    "    <strong>NOTE:</strong> We will use <i>Random</i> and <i>Zero-R</i> as baselines for our problem. <i>One-R</i> is not possible, as our input variables are numeric.\n",
    "</div>"
   ]
  },
  {
   "cell_type": "markdown",
   "metadata": {},
   "source": [
    "### **Random Baseline**\n",
    "We will create a model that generates random predictions (0 or 1) regardless of the input variables.\n",
    "\n",
    "The implementation is very simple: we just need to generate a random list of zeros and ones. Then, we will count how many times the model has made the correct prediction."
   ]
  },
  {
   "cell_type": "code",
   "execution_count": 81,
   "metadata": {},
   "outputs": [],
   "source": [
    "import random\n",
    "\n",
    "# Set a seed so that the same random values are generated every time\n",
    "seed = 2533\n",
    "random.seed(seed)\n",
    "\n",
    "# Create a list with as many values (0 or 1) as rows in our dataset\n",
    "random_values = [random.choice([0, 1]) for _ in range(len(data_aston))]"
   ]
  },
  {
   "cell_type": "markdown",
   "metadata": {},
   "source": [
    "<div class=\"alert alert-block alert-info\">\n",
    "    <b>Exercise:</b> How many times has the model been correct (in percentage)? To calculate this, you need to count how many times the random model predicted a 1 and it was actually a 1, and how many times it predicted a 0 and it was actually a 0.\n",
    "</div>"
   ]
  },
  {
   "cell_type": "code",
   "execution_count": 82,
   "metadata": {},
   "outputs": [
    {
     "name": "stdout",
     "output_type": "stream",
     "text": [
      "The accuracy is: 35.40 %\n"
     ]
    }
   ],
   "source": [
    "# Your code here\n",
    "\n",
    "l=data_aston['Class'].values\n",
    "\n",
    "\n",
    "correct_predicitions=0\n",
    "\n",
    "for i in range(len(data_aston)):\n",
    "    if l[i]==random_values[i]:\n",
    "        correct_predicitions=correct_predicitions+1\n",
    "\n",
    "\n",
    "accuracy = (correct_predicitions / len(data_aston)) * 100\n",
    "\n",
    "print(f\"The accuracy is: {accuracy:.2f} %\")\n",
    "\n"
   ]
  },
  {
   "cell_type": "markdown",
   "metadata": {},
   "source": [
    "<div class=\"alert alert-block alert-success\">\n",
    "    The value you just obtained is one of the most popular <strong>classification</strong> <strong>metrics</strong>, called <strong>accuracy</strong>. It simply counts the number of correct predictions made by the model over the maximum possible.\n",
    "</div>"
   ]
  },
  {
   "cell_type": "markdown",
   "metadata": {},
   "source": [
    "### **Zero-R**\n",
    "Next, we will obtain the result for the *Zero-R* baseline."
   ]
  },
  {
   "cell_type": "markdown",
   "metadata": {},
   "source": [
    "<div class=\"alert alert-block alert-info\">\n",
    "    <b>Exercise:</b> What is the majority class of the dataset? Considering this, what will be the <strong>accuracy</strong> of <i>Zero-R</i>?\n",
    "</div>"
   ]
  },
  {
   "cell_type": "code",
   "execution_count": 83,
   "metadata": {},
   "outputs": [
    {
     "name": "stdout",
     "output_type": "stream",
     "text": [
      "The Majority is: 1\n",
      "Accuracy of Zero-R is: 58.41%\n"
     ]
    }
   ],
   "source": [
    "# Your code here\n",
    "\n",
    "list0=data_aston['Class'].value_counts()\n",
    "\n",
    "\n",
    "\n",
    "majority_class = list0.idxmax() \n",
    "\n",
    "print(f\"The Majority is: {majority_class}\")\n",
    "\n",
    "\n",
    "accuracyzero= list0[1]/(len(l))*100\n",
    "\n",
    "print(f\"Accuracy of Zero-R is: {accuracyzero:.2f}%\")\n",
    "\n",
    "\n"
   ]
  },
  {
   "cell_type": "markdown",
   "metadata": {},
   "source": [
    "## **4. Model Evaluation**\n",
    "\n",
    "At this point, we **already have two models** capable of solving our binary classification problem: the **Random** model and the **Zero-R** model. Additionally, we know that these models have an accuracy on **resubstitution** of approximately $35\\%$ and $60\\%$, respectively.\n",
    "\n",
    "<div class=\"alert alert-block alert-warning\">\n",
    "    <strong>Resubstitution:</strong> The process by which a model is <u>trained and evaluated using the same dataset</u>. This procedure can provide an initial estimate of model performance, though <strong>it does not reflect its generalization ability</strong>.\n",
    "</div>\n",
    "\n",
    "It is important to remember that when we create a machine learning model, we aim for it to not only perform well with known data but **to be able to make predictions on new, unseen data**.\n",
    "\n",
    "With this in mind, we can see that the evaluation we just conducted on our models is not entirely appropriate. What we've measured is how well they predict examples they already know, but not their ability to make predictions on future data, which is what really matters.\n",
    "\n",
    "### **Strategies**\n",
    "To address this issue, rather than evaluating the model on the same data it learned from, we will evaluate it on a part of the dataset that we will have previously separated (test set).\n",
    "\n",
    "This subset is usually created by randomly selecting a percentage (typically $20\\%$) of examples from the original dataset and will be used solely to evaluate the model's performance, not for training. By doing this, we *\"simulate\"* future unseen cases, and if the model has good accuracy on this set, we will know that it is genuinely good.\n",
    "\n",
    "This strategy is called **Simple Validation**, but there are many other strategies:\n",
    "\n",
    "- **Cross-validation**: Involves splitting the data into several subsets (*folds*), training the model on some of them, and evaluating it on the remaining ones, repeating the process several times. This helps provide a more stable estimate of model performance.\n",
    "- **Validation with validation set**: A third subset, distinct from the test set, is used to adjust the model's hyperparameters and prevent overfitting. This is very typical when using neural networks.\n",
    "\n",
    "To get a more realistic evaluation of our models' performance, we will apply **simple validation** and recheck their accuracy, but this time on the test set."
   ]
  },
  {
   "cell_type": "markdown",
   "metadata": {},
   "source": [
    "<div class=\"alert alert-block alert-info\">\n",
    "    <b>Exercise:</b> Split the <code>data_aston</code> dataset into training and test sets (80% and 20%) and store the subsets in <code>data_aston_train</code> and <code>data_aston_test</code>. Use the <code><a href=\"https://scikit-learn.org/stable/modules/generated/sklearn.model_selection.train_test_split.html\">train_test_split()</a></code> function from the <i>scikit-learn</i> library, which you need to install in your conda environment first. \n",
    "    <hr>\n",
    "    <strong>Set the function's seed so that it always performs the same split (random_state=2533)</strong>\n",
    "</div>"
   ]
  },
  {
   "cell_type": "code",
   "execution_count": 84,
   "metadata": {},
   "outputs": [],
   "source": [
    "# Your code here\n",
    "from sklearn.model_selection import train_test_split \n",
    "\n",
    "data_aston_train, data_aston_test = train_test_split(data_aston, test_size=0.2, random_state=2533)\n",
    "\n",
    "\n"
   ]
  },
  {
   "cell_type": "markdown",
   "metadata": {},
   "source": [
    "<div class=\"alert alert-block alert-info\">\n",
    "    <b>Exercise:</b> What is the accuracy of the Random model now, over the test set? Remember to set the seed again.\n",
    "</div>"
   ]
  },
  {
   "cell_type": "code",
   "execution_count": 85,
   "metadata": {},
   "outputs": [
    {
     "name": "stdout",
     "output_type": "stream",
     "text": [
      "The accuracy is: 56.52 %\n"
     ]
    }
   ],
   "source": [
    "#Your code here\n",
    "\n",
    "seed = 2533\n",
    "random.seed(seed)\n",
    "\n",
    "random_values_test = [random.choice([0, 1]) for _ in range(len(data_aston_test))]\n",
    "\n",
    "list_test=data_aston_test['Class'].values\n",
    "\n",
    "\n",
    "correct_predicitions_test=0\n",
    "\n",
    "for i in range(len(data_aston_test)):\n",
    "    if list_test[i]==random_values_test[i]:\n",
    "        correct_predicitions_test=correct_predicitions_test+1\n",
    "\n",
    "\n",
    "accuracy_test = (correct_predicitions_test / len(data_aston_test)) * 100\n",
    "\n",
    "print(f\"The accuracy is: {accuracy_test:.2f} %\")\n",
    "\n",
    "\n",
    "\n",
    "\n"
   ]
  },
  {
   "cell_type": "markdown",
   "metadata": {},
   "source": [
    "<div class=\"alert alert-block alert-info\">\n",
    "    <b>Exercise:</b> What is the accuracy of the Zero-R model now, over the test set? \n",
    "    <hr>\n",
    "    Remember that you need to recalculate the majority class using the new training set (this is the only data your model should know) and use it to evaluate the model on the test set.\n",
    "</div>"
   ]
  },
  {
   "cell_type": "code",
   "execution_count": 86,
   "metadata": {},
   "outputs": [
    {
     "name": "stdout",
     "output_type": "stream",
     "text": [
      "The Majority is: 1\n",
      "Accuracy of Zero-R is: 56.52%\n"
     ]
    }
   ],
   "source": [
    "# Your code here\n",
    "\n",
    "\n",
    "list0_test=data_aston_test['Class'].value_counts()\n",
    "\n",
    "\n",
    "\n",
    "majority_class_test = list0_test.idxmax() \n",
    "\n",
    "\n",
    "print(f\"The Majority is: {majority_class_test}\")\n",
    "\n",
    "\n",
    "accuracyzero_test= list0_test[1]/(len(data_aston_test))*100\n",
    "\n",
    "print(f\"Accuracy of Zero-R is: {accuracyzero_test:.2f}%\")\n",
    "\n",
    "\n",
    "\n"
   ]
  },
  {
   "cell_type": "markdown",
   "metadata": {},
   "source": [
    "As you have seen, the models have obtained values very close to $50\\%$ accuracy on the test set, which is far from ideal.\n",
    "\n",
    "<div class=\"alert alert-block alert-warning\">\n",
    "    <strong>Note:</strong> The worst possible binary classification model will have an accuracy of 50%, not 0%. A model with 0% accuracy would be predicting everything correctly, but its predictions would need to be inverted.\n",
    "</div>"
   ]
  },
  {
   "cell_type": "markdown",
   "metadata": {},
   "source": [
    "<hr>\n",
    "\n",
    "## **5. Scikit-Learn**\n",
    "\n",
    "The `Scikit-learn` library we used earlier contains a wide range of models and tools that will be useful for solving machine learning problems.\n",
    "\n",
    "For example, the baselines we just implemented are already incorporated in the `DummyClassifier()` class.\n",
    "\n",
    "This class has the `strategy` parameter, which allows us to select the desired baseline and can take, among others, the following values:\n",
    "- **uniform**: Equivalent to our *Random* baseline.\n",
    "- **most_frequent**: Equivalent to *Zero-R* baseline.\n",
    "\n",
    "In the following code, we can see how to use this class:"
   ]
  },
  {
   "cell_type": "code",
   "execution_count": 87,
   "metadata": {},
   "outputs": [],
   "source": [
    "from sklearn.dummy import DummyClassifier\n",
    "\n",
    "# Create the models\n",
    "baseline_random = DummyClassifier(strategy = 'uniform', random_state = seed)\n",
    "baseline_zeror = DummyClassifier(strategy = 'most_frequent')"
   ]
  },
  {
   "cell_type": "markdown",
   "metadata": {},
   "source": [
    "Once the models are created, the next step is to train them, and for that, we need to provide the training data using the `fit()` method, specifically the $X$ and $Y$.\n",
    "\n",
    "<div class=\"alert alert-block alert-warning\">\n",
    "    <strong>Note:</strong> In supervised learning, we refer to X as the independent variables or <i>inputs</i> and Y as the dependent variables or <i>outputs</i>. \n",
    "</div>\n",
    "\n",
    "As you know, the goal of the model is to *learn* the relationship between $X$ and $Y$ in order to predict $Y$ from new, unknown $X$ values."
   ]
  },
  {
   "cell_type": "markdown",
   "metadata": {},
   "source": [
    "<div class=\"alert alert-block alert-info\">\n",
    "    <b>Exercise:</b> Create the variables X and Y to train the models. Remember that we have split the dataset into two parts.\n",
    "</div>"
   ]
  },
  {
   "cell_type": "code",
   "execution_count": 88,
   "metadata": {},
   "outputs": [
    {
     "data": {
      "text/html": [
       "<style>#sk-container-id-4 {\n",
       "  /* Definition of color scheme common for light and dark mode */\n",
       "  --sklearn-color-text: #000;\n",
       "  --sklearn-color-text-muted: #666;\n",
       "  --sklearn-color-line: gray;\n",
       "  /* Definition of color scheme for unfitted estimators */\n",
       "  --sklearn-color-unfitted-level-0: #fff5e6;\n",
       "  --sklearn-color-unfitted-level-1: #f6e4d2;\n",
       "  --sklearn-color-unfitted-level-2: #ffe0b3;\n",
       "  --sklearn-color-unfitted-level-3: chocolate;\n",
       "  /* Definition of color scheme for fitted estimators */\n",
       "  --sklearn-color-fitted-level-0: #f0f8ff;\n",
       "  --sklearn-color-fitted-level-1: #d4ebff;\n",
       "  --sklearn-color-fitted-level-2: #b3dbfd;\n",
       "  --sklearn-color-fitted-level-3: cornflowerblue;\n",
       "\n",
       "  /* Specific color for light theme */\n",
       "  --sklearn-color-text-on-default-background: var(--sg-text-color, var(--theme-code-foreground, var(--jp-content-font-color1, black)));\n",
       "  --sklearn-color-background: var(--sg-background-color, var(--theme-background, var(--jp-layout-color0, white)));\n",
       "  --sklearn-color-border-box: var(--sg-text-color, var(--theme-code-foreground, var(--jp-content-font-color1, black)));\n",
       "  --sklearn-color-icon: #696969;\n",
       "\n",
       "  @media (prefers-color-scheme: dark) {\n",
       "    /* Redefinition of color scheme for dark theme */\n",
       "    --sklearn-color-text-on-default-background: var(--sg-text-color, var(--theme-code-foreground, var(--jp-content-font-color1, white)));\n",
       "    --sklearn-color-background: var(--sg-background-color, var(--theme-background, var(--jp-layout-color0, #111)));\n",
       "    --sklearn-color-border-box: var(--sg-text-color, var(--theme-code-foreground, var(--jp-content-font-color1, white)));\n",
       "    --sklearn-color-icon: #878787;\n",
       "  }\n",
       "}\n",
       "\n",
       "#sk-container-id-4 {\n",
       "  color: var(--sklearn-color-text);\n",
       "}\n",
       "\n",
       "#sk-container-id-4 pre {\n",
       "  padding: 0;\n",
       "}\n",
       "\n",
       "#sk-container-id-4 input.sk-hidden--visually {\n",
       "  border: 0;\n",
       "  clip: rect(1px 1px 1px 1px);\n",
       "  clip: rect(1px, 1px, 1px, 1px);\n",
       "  height: 1px;\n",
       "  margin: -1px;\n",
       "  overflow: hidden;\n",
       "  padding: 0;\n",
       "  position: absolute;\n",
       "  width: 1px;\n",
       "}\n",
       "\n",
       "#sk-container-id-4 div.sk-dashed-wrapped {\n",
       "  border: 1px dashed var(--sklearn-color-line);\n",
       "  margin: 0 0.4em 0.5em 0.4em;\n",
       "  box-sizing: border-box;\n",
       "  padding-bottom: 0.4em;\n",
       "  background-color: var(--sklearn-color-background);\n",
       "}\n",
       "\n",
       "#sk-container-id-4 div.sk-container {\n",
       "  /* jupyter's `normalize.less` sets `[hidden] { display: none; }`\n",
       "     but bootstrap.min.css set `[hidden] { display: none !important; }`\n",
       "     so we also need the `!important` here to be able to override the\n",
       "     default hidden behavior on the sphinx rendered scikit-learn.org.\n",
       "     See: https://github.com/scikit-learn/scikit-learn/issues/21755 */\n",
       "  display: inline-block !important;\n",
       "  position: relative;\n",
       "}\n",
       "\n",
       "#sk-container-id-4 div.sk-text-repr-fallback {\n",
       "  display: none;\n",
       "}\n",
       "\n",
       "div.sk-parallel-item,\n",
       "div.sk-serial,\n",
       "div.sk-item {\n",
       "  /* draw centered vertical line to link estimators */\n",
       "  background-image: linear-gradient(var(--sklearn-color-text-on-default-background), var(--sklearn-color-text-on-default-background));\n",
       "  background-size: 2px 100%;\n",
       "  background-repeat: no-repeat;\n",
       "  background-position: center center;\n",
       "}\n",
       "\n",
       "/* Parallel-specific style estimator block */\n",
       "\n",
       "#sk-container-id-4 div.sk-parallel-item::after {\n",
       "  content: \"\";\n",
       "  width: 100%;\n",
       "  border-bottom: 2px solid var(--sklearn-color-text-on-default-background);\n",
       "  flex-grow: 1;\n",
       "}\n",
       "\n",
       "#sk-container-id-4 div.sk-parallel {\n",
       "  display: flex;\n",
       "  align-items: stretch;\n",
       "  justify-content: center;\n",
       "  background-color: var(--sklearn-color-background);\n",
       "  position: relative;\n",
       "}\n",
       "\n",
       "#sk-container-id-4 div.sk-parallel-item {\n",
       "  display: flex;\n",
       "  flex-direction: column;\n",
       "}\n",
       "\n",
       "#sk-container-id-4 div.sk-parallel-item:first-child::after {\n",
       "  align-self: flex-end;\n",
       "  width: 50%;\n",
       "}\n",
       "\n",
       "#sk-container-id-4 div.sk-parallel-item:last-child::after {\n",
       "  align-self: flex-start;\n",
       "  width: 50%;\n",
       "}\n",
       "\n",
       "#sk-container-id-4 div.sk-parallel-item:only-child::after {\n",
       "  width: 0;\n",
       "}\n",
       "\n",
       "/* Serial-specific style estimator block */\n",
       "\n",
       "#sk-container-id-4 div.sk-serial {\n",
       "  display: flex;\n",
       "  flex-direction: column;\n",
       "  align-items: center;\n",
       "  background-color: var(--sklearn-color-background);\n",
       "  padding-right: 1em;\n",
       "  padding-left: 1em;\n",
       "}\n",
       "\n",
       "\n",
       "/* Toggleable style: style used for estimator/Pipeline/ColumnTransformer box that is\n",
       "clickable and can be expanded/collapsed.\n",
       "- Pipeline and ColumnTransformer use this feature and define the default style\n",
       "- Estimators will overwrite some part of the style using the `sk-estimator` class\n",
       "*/\n",
       "\n",
       "/* Pipeline and ColumnTransformer style (default) */\n",
       "\n",
       "#sk-container-id-4 div.sk-toggleable {\n",
       "  /* Default theme specific background. It is overwritten whether we have a\n",
       "  specific estimator or a Pipeline/ColumnTransformer */\n",
       "  background-color: var(--sklearn-color-background);\n",
       "}\n",
       "\n",
       "/* Toggleable label */\n",
       "#sk-container-id-4 label.sk-toggleable__label {\n",
       "  cursor: pointer;\n",
       "  display: flex;\n",
       "  width: 100%;\n",
       "  margin-bottom: 0;\n",
       "  padding: 0.5em;\n",
       "  box-sizing: border-box;\n",
       "  text-align: center;\n",
       "  align-items: start;\n",
       "  justify-content: space-between;\n",
       "  gap: 0.5em;\n",
       "}\n",
       "\n",
       "#sk-container-id-4 label.sk-toggleable__label .caption {\n",
       "  font-size: 0.6rem;\n",
       "  font-weight: lighter;\n",
       "  color: var(--sklearn-color-text-muted);\n",
       "}\n",
       "\n",
       "#sk-container-id-4 label.sk-toggleable__label-arrow:before {\n",
       "  /* Arrow on the left of the label */\n",
       "  content: \"▸\";\n",
       "  float: left;\n",
       "  margin-right: 0.25em;\n",
       "  color: var(--sklearn-color-icon);\n",
       "}\n",
       "\n",
       "#sk-container-id-4 label.sk-toggleable__label-arrow:hover:before {\n",
       "  color: var(--sklearn-color-text);\n",
       "}\n",
       "\n",
       "/* Toggleable content - dropdown */\n",
       "\n",
       "#sk-container-id-4 div.sk-toggleable__content {\n",
       "  max-height: 0;\n",
       "  max-width: 0;\n",
       "  overflow: hidden;\n",
       "  text-align: left;\n",
       "  /* unfitted */\n",
       "  background-color: var(--sklearn-color-unfitted-level-0);\n",
       "}\n",
       "\n",
       "#sk-container-id-4 div.sk-toggleable__content.fitted {\n",
       "  /* fitted */\n",
       "  background-color: var(--sklearn-color-fitted-level-0);\n",
       "}\n",
       "\n",
       "#sk-container-id-4 div.sk-toggleable__content pre {\n",
       "  margin: 0.2em;\n",
       "  border-radius: 0.25em;\n",
       "  color: var(--sklearn-color-text);\n",
       "  /* unfitted */\n",
       "  background-color: var(--sklearn-color-unfitted-level-0);\n",
       "}\n",
       "\n",
       "#sk-container-id-4 div.sk-toggleable__content.fitted pre {\n",
       "  /* unfitted */\n",
       "  background-color: var(--sklearn-color-fitted-level-0);\n",
       "}\n",
       "\n",
       "#sk-container-id-4 input.sk-toggleable__control:checked~div.sk-toggleable__content {\n",
       "  /* Expand drop-down */\n",
       "  max-height: 200px;\n",
       "  max-width: 100%;\n",
       "  overflow: auto;\n",
       "}\n",
       "\n",
       "#sk-container-id-4 input.sk-toggleable__control:checked~label.sk-toggleable__label-arrow:before {\n",
       "  content: \"▾\";\n",
       "}\n",
       "\n",
       "/* Pipeline/ColumnTransformer-specific style */\n",
       "\n",
       "#sk-container-id-4 div.sk-label input.sk-toggleable__control:checked~label.sk-toggleable__label {\n",
       "  color: var(--sklearn-color-text);\n",
       "  background-color: var(--sklearn-color-unfitted-level-2);\n",
       "}\n",
       "\n",
       "#sk-container-id-4 div.sk-label.fitted input.sk-toggleable__control:checked~label.sk-toggleable__label {\n",
       "  background-color: var(--sklearn-color-fitted-level-2);\n",
       "}\n",
       "\n",
       "/* Estimator-specific style */\n",
       "\n",
       "/* Colorize estimator box */\n",
       "#sk-container-id-4 div.sk-estimator input.sk-toggleable__control:checked~label.sk-toggleable__label {\n",
       "  /* unfitted */\n",
       "  background-color: var(--sklearn-color-unfitted-level-2);\n",
       "}\n",
       "\n",
       "#sk-container-id-4 div.sk-estimator.fitted input.sk-toggleable__control:checked~label.sk-toggleable__label {\n",
       "  /* fitted */\n",
       "  background-color: var(--sklearn-color-fitted-level-2);\n",
       "}\n",
       "\n",
       "#sk-container-id-4 div.sk-label label.sk-toggleable__label,\n",
       "#sk-container-id-4 div.sk-label label {\n",
       "  /* The background is the default theme color */\n",
       "  color: var(--sklearn-color-text-on-default-background);\n",
       "}\n",
       "\n",
       "/* On hover, darken the color of the background */\n",
       "#sk-container-id-4 div.sk-label:hover label.sk-toggleable__label {\n",
       "  color: var(--sklearn-color-text);\n",
       "  background-color: var(--sklearn-color-unfitted-level-2);\n",
       "}\n",
       "\n",
       "/* Label box, darken color on hover, fitted */\n",
       "#sk-container-id-4 div.sk-label.fitted:hover label.sk-toggleable__label.fitted {\n",
       "  color: var(--sklearn-color-text);\n",
       "  background-color: var(--sklearn-color-fitted-level-2);\n",
       "}\n",
       "\n",
       "/* Estimator label */\n",
       "\n",
       "#sk-container-id-4 div.sk-label label {\n",
       "  font-family: monospace;\n",
       "  font-weight: bold;\n",
       "  display: inline-block;\n",
       "  line-height: 1.2em;\n",
       "}\n",
       "\n",
       "#sk-container-id-4 div.sk-label-container {\n",
       "  text-align: center;\n",
       "}\n",
       "\n",
       "/* Estimator-specific */\n",
       "#sk-container-id-4 div.sk-estimator {\n",
       "  font-family: monospace;\n",
       "  border: 1px dotted var(--sklearn-color-border-box);\n",
       "  border-radius: 0.25em;\n",
       "  box-sizing: border-box;\n",
       "  margin-bottom: 0.5em;\n",
       "  /* unfitted */\n",
       "  background-color: var(--sklearn-color-unfitted-level-0);\n",
       "}\n",
       "\n",
       "#sk-container-id-4 div.sk-estimator.fitted {\n",
       "  /* fitted */\n",
       "  background-color: var(--sklearn-color-fitted-level-0);\n",
       "}\n",
       "\n",
       "/* on hover */\n",
       "#sk-container-id-4 div.sk-estimator:hover {\n",
       "  /* unfitted */\n",
       "  background-color: var(--sklearn-color-unfitted-level-2);\n",
       "}\n",
       "\n",
       "#sk-container-id-4 div.sk-estimator.fitted:hover {\n",
       "  /* fitted */\n",
       "  background-color: var(--sklearn-color-fitted-level-2);\n",
       "}\n",
       "\n",
       "/* Specification for estimator info (e.g. \"i\" and \"?\") */\n",
       "\n",
       "/* Common style for \"i\" and \"?\" */\n",
       "\n",
       ".sk-estimator-doc-link,\n",
       "a:link.sk-estimator-doc-link,\n",
       "a:visited.sk-estimator-doc-link {\n",
       "  float: right;\n",
       "  font-size: smaller;\n",
       "  line-height: 1em;\n",
       "  font-family: monospace;\n",
       "  background-color: var(--sklearn-color-background);\n",
       "  border-radius: 1em;\n",
       "  height: 1em;\n",
       "  width: 1em;\n",
       "  text-decoration: none !important;\n",
       "  margin-left: 0.5em;\n",
       "  text-align: center;\n",
       "  /* unfitted */\n",
       "  border: var(--sklearn-color-unfitted-level-1) 1pt solid;\n",
       "  color: var(--sklearn-color-unfitted-level-1);\n",
       "}\n",
       "\n",
       ".sk-estimator-doc-link.fitted,\n",
       "a:link.sk-estimator-doc-link.fitted,\n",
       "a:visited.sk-estimator-doc-link.fitted {\n",
       "  /* fitted */\n",
       "  border: var(--sklearn-color-fitted-level-1) 1pt solid;\n",
       "  color: var(--sklearn-color-fitted-level-1);\n",
       "}\n",
       "\n",
       "/* On hover */\n",
       "div.sk-estimator:hover .sk-estimator-doc-link:hover,\n",
       ".sk-estimator-doc-link:hover,\n",
       "div.sk-label-container:hover .sk-estimator-doc-link:hover,\n",
       ".sk-estimator-doc-link:hover {\n",
       "  /* unfitted */\n",
       "  background-color: var(--sklearn-color-unfitted-level-3);\n",
       "  color: var(--sklearn-color-background);\n",
       "  text-decoration: none;\n",
       "}\n",
       "\n",
       "div.sk-estimator.fitted:hover .sk-estimator-doc-link.fitted:hover,\n",
       ".sk-estimator-doc-link.fitted:hover,\n",
       "div.sk-label-container:hover .sk-estimator-doc-link.fitted:hover,\n",
       ".sk-estimator-doc-link.fitted:hover {\n",
       "  /* fitted */\n",
       "  background-color: var(--sklearn-color-fitted-level-3);\n",
       "  color: var(--sklearn-color-background);\n",
       "  text-decoration: none;\n",
       "}\n",
       "\n",
       "/* Span, style for the box shown on hovering the info icon */\n",
       ".sk-estimator-doc-link span {\n",
       "  display: none;\n",
       "  z-index: 9999;\n",
       "  position: relative;\n",
       "  font-weight: normal;\n",
       "  right: .2ex;\n",
       "  padding: .5ex;\n",
       "  margin: .5ex;\n",
       "  width: min-content;\n",
       "  min-width: 20ex;\n",
       "  max-width: 50ex;\n",
       "  color: var(--sklearn-color-text);\n",
       "  box-shadow: 2pt 2pt 4pt #999;\n",
       "  /* unfitted */\n",
       "  background: var(--sklearn-color-unfitted-level-0);\n",
       "  border: .5pt solid var(--sklearn-color-unfitted-level-3);\n",
       "}\n",
       "\n",
       ".sk-estimator-doc-link.fitted span {\n",
       "  /* fitted */\n",
       "  background: var(--sklearn-color-fitted-level-0);\n",
       "  border: var(--sklearn-color-fitted-level-3);\n",
       "}\n",
       "\n",
       ".sk-estimator-doc-link:hover span {\n",
       "  display: block;\n",
       "}\n",
       "\n",
       "/* \"?\"-specific style due to the `<a>` HTML tag */\n",
       "\n",
       "#sk-container-id-4 a.estimator_doc_link {\n",
       "  float: right;\n",
       "  font-size: 1rem;\n",
       "  line-height: 1em;\n",
       "  font-family: monospace;\n",
       "  background-color: var(--sklearn-color-background);\n",
       "  border-radius: 1rem;\n",
       "  height: 1rem;\n",
       "  width: 1rem;\n",
       "  text-decoration: none;\n",
       "  /* unfitted */\n",
       "  color: var(--sklearn-color-unfitted-level-1);\n",
       "  border: var(--sklearn-color-unfitted-level-1) 1pt solid;\n",
       "}\n",
       "\n",
       "#sk-container-id-4 a.estimator_doc_link.fitted {\n",
       "  /* fitted */\n",
       "  border: var(--sklearn-color-fitted-level-1) 1pt solid;\n",
       "  color: var(--sklearn-color-fitted-level-1);\n",
       "}\n",
       "\n",
       "/* On hover */\n",
       "#sk-container-id-4 a.estimator_doc_link:hover {\n",
       "  /* unfitted */\n",
       "  background-color: var(--sklearn-color-unfitted-level-3);\n",
       "  color: var(--sklearn-color-background);\n",
       "  text-decoration: none;\n",
       "}\n",
       "\n",
       "#sk-container-id-4 a.estimator_doc_link.fitted:hover {\n",
       "  /* fitted */\n",
       "  background-color: var(--sklearn-color-fitted-level-3);\n",
       "}\n",
       "</style><div id=\"sk-container-id-4\" class=\"sk-top-container\"><div class=\"sk-text-repr-fallback\"><pre>DummyClassifier(strategy=&#x27;most_frequent&#x27;)</pre><b>In a Jupyter environment, please rerun this cell to show the HTML representation or trust the notebook. <br />On GitHub, the HTML representation is unable to render, please try loading this page with nbviewer.org.</b></div><div class=\"sk-container\" hidden><div class=\"sk-item\"><div class=\"sk-estimator fitted sk-toggleable\"><input class=\"sk-toggleable__control sk-hidden--visually\" id=\"sk-estimator-id-4\" type=\"checkbox\" checked><label for=\"sk-estimator-id-4\" class=\"sk-toggleable__label fitted sk-toggleable__label-arrow\"><div><div>DummyClassifier</div></div><div><a class=\"sk-estimator-doc-link fitted\" rel=\"noreferrer\" target=\"_blank\" href=\"https://scikit-learn.org/1.6/modules/generated/sklearn.dummy.DummyClassifier.html\">?<span>Documentation for DummyClassifier</span></a><span class=\"sk-estimator-doc-link fitted\">i<span>Fitted</span></span></div></label><div class=\"sk-toggleable__content fitted\"><pre>DummyClassifier(strategy=&#x27;most_frequent&#x27;)</pre></div> </div></div></div></div>"
      ],
      "text/plain": [
       "DummyClassifier(strategy='most_frequent')"
      ]
     },
     "execution_count": 88,
     "metadata": {},
     "output_type": "execute_result"
    }
   ],
   "source": [
    "# Your code here\n",
    "X=data_aston_train[['Sector1Time', 'Sector2Time', 'Sector3Time']]\n",
    "Y=data_aston_train[['Class']]\n",
    "\n",
    "#x rest of data\n",
    "#y (data_aston train) class ->target value\n",
    "\n",
    "\n",
    "# Train the models\n",
    "baseline_random.fit(X, Y)\n",
    "baseline_zeror.fit(X, Y)"
   ]
  },
  {
   "cell_type": "markdown",
   "metadata": {},
   "source": [
    "Once the model is trained, we can make predictions to evaluate its performance with data that was not seen during training. In `scikit-learn`, this is done using the `predict()` function.\n",
    "\n",
    "<div class=\"alert alert-block alert-warning\">\n",
    "    <strong>Note:</strong> This function only takes X (not Y) and returns the predicted Y values.\n",
    "</div>"
   ]
  },
  {
   "cell_type": "code",
   "execution_count": 89,
   "metadata": {},
   "outputs": [
    {
     "name": "stdout",
     "output_type": "stream",
     "text": [
      "[1 0 0 0 1 0 0 0 0 1 0 1 1 0 1 1 0 1 0 1 1 1 0]\n",
      "[1 1 1 1 1 1 1 1 1 1 1 1 1 1 1 1 1 1 1 1 1 1 1]\n"
     ]
    }
   ],
   "source": [
    "X_test = data_aston_test[['Sector1Time', 'Sector2Time', 'Sector3Time']]\n",
    "Y_test = data_aston_test[['Class']]\n",
    "\n",
    "# Make predictions\n",
    "pred_random = baseline_random.predict(X_test)\n",
    "pred_zeror = baseline_zeror.predict(X_test)\n",
    "\n",
    "# Print results\n",
    "print(pred_random)\n",
    "print(pred_zeror)"
   ]
  },
  {
   "cell_type": "markdown",
   "metadata": {},
   "source": [
    "Another advantage of this library is that it includes many metrics within the `metrics` package, so we can easily obtain the accuracy."
   ]
  },
  {
   "cell_type": "code",
   "execution_count": 90,
   "metadata": {},
   "outputs": [
    {
     "name": "stdout",
     "output_type": "stream",
     "text": [
      "0.5652173913043478\n",
      "0.5652173913043478\n"
     ]
    }
   ],
   "source": [
    "from sklearn import metrics\n",
    "\n",
    "print(metrics.accuracy_score(Y_test, pred_random))\n",
    "print(metrics.accuracy_score(Y_test, pred_zeror))"
   ]
  },
  {
   "cell_type": "markdown",
   "metadata": {},
   "source": [
    "<div class=\"alert alert-block alert-info\">\n",
    "    <b>Exercise:</b> Obtain the confusion matrices for the models using <a href=\"https://scikit-learn.org/stable/api/sklearn.metrics.html\">the method implemented in the library</a>. Also, obtain the <i>Precision, Recall, and F1</i> scores using the methods or formulas.\n",
    "</div>\n",
    "\n",
    "<div style=\"width:800px;background:white;padding:10px\">\n",
    "    <img src=\"https://i.imgur.com/7WwY9bZ.jpeg\" style=\"margin-bottom:10px\"> </img>\n",
    "</div>"
   ]
  },
  {
   "cell_type": "code",
   "execution_count": 91,
   "metadata": {},
   "outputs": [
    {
     "data": {
      "text/plain": [
       "'Y real               Y predict\\n   -------              --------\\n    1                       0\\n    0                       0 --> true negative\\n    1                       1 --> true positive'"
      ]
     },
     "execution_count": 91,
     "metadata": {},
     "output_type": "execute_result"
    }
   ],
   "source": [
    "\"\"\"Y real               Y predict\n",
    "   -------              --------\n",
    "    1                       0\n",
    "    0                       0 --> true negative\n",
    "    1                       1 --> true positive\"\"\""
   ]
  },
  {
   "cell_type": "code",
   "execution_count": 92,
   "metadata": {},
   "outputs": [
    {
     "name": "stdout",
     "output_type": "stream",
     "text": [
      "[[6 4]\n",
      " [6 7]]\n",
      "[[ 0 10]\n",
      " [ 0 13]]\n",
      "\n",
      "Precision Random: 0.6363636363636364\n",
      "Recall Random: 0.5384615384615384\n",
      "F1 Score Random: 0.5833333333333334\n",
      "\n",
      "Precision Zeror: 0.5652173913043478\n",
      "Recall Zeror: 1.0\n",
      "F1 Score Zeror: 0.7222222222222222\n"
     ]
    }
   ],
   "source": [
    "# Your code here\n",
    "\n",
    "from sklearn.metrics import f1_score, precision_score, recall_score\n",
    "\n",
    "\n",
    "conf_matrix_random= metrics.confusion_matrix(Y_test, pred_random)\n",
    "print(conf_matrix_random)\n",
    "conf_matrix_zeror= metrics.confusion_matrix(Y_test, pred_zeror)\n",
    "print(conf_matrix_zeror)\n",
    "\n",
    "\n",
    "precision_random = precision_score(Y_test, pred_random)\n",
    "recall_random = recall_score(Y_test, pred_random)\n",
    "f1_random = f1_score(Y_test, pred_random)\n",
    "\n",
    "precision_zeror = precision_score(Y_test, pred_zeror)\n",
    "recall_zeror = recall_score(Y_test, pred_zeror)\n",
    "f1_zeror = f1_score(Y_test, pred_zeror)\n",
    "\n",
    "print(\"\")\n",
    "print(f\"Precision Random: {precision_random}\")\n",
    "print(f\"Recall Random: {recall_random}\")\n",
    "print(f\"F1 Score Random: {f1_random}\")\n",
    "print(\"\")\n",
    "\n",
    "print(f\"Precision Zeror: {precision_zeror}\")\n",
    "print(f\"Recall Zeror: {recall_zeror}\")\n",
    "print(f\"F1 Score Zeror: {f1_zeror}\")\n",
    "\n"
   ]
  },
  {
   "cell_type": "markdown",
   "metadata": {},
   "source": [
    "<hr>\n",
    "\n",
    "## **6. Other Models**"
   ]
  },
  {
   "cell_type": "markdown",
   "metadata": {},
   "source": [
    "As you have seen in the theory class, in addition to the baselines we have used, there are many other different models to solve classification problems. Some of them can be:\n",
    "\n",
    "* **Logistic Regression:** A \"linear\" model that uses a logistic function (sigmoid) to predict the probability of belonging to a class.\n",
    "* **K-Nearest Neighbors:** A classifier that assigns an instance to the most frequent class among its k nearest neighbors.\n",
    "* **Decision Trees:** A classification model that creates a tree allowing decisions based on the data features (inputs).\n",
    "* **SVM:** A classification algorithm that seeks the optimal hyperplane to maximize the margin between classes.\n",
    "* **Neural Networks:** We will explore them in detail in the upcoming topics.\n",
    "\n",
    "Just like with the baselines, `scikit-learn` provides us with most of these models already implemented."
   ]
  },
  {
   "cell_type": "markdown",
   "metadata": {},
   "source": [
    "<div class=\"alert alert-block alert-warning\">\n",
    "    <strong>Note:</strong> Before using other models, it is necessary to carry out a phase of <u>data preprocessing</u> that we had pending: <strong>normalization or standardization</strong> of the data.\n",
    "</div>"
   ]
  },
  {
   "cell_type": "markdown",
   "metadata": {},
   "source": [
    "As you may remember, this phase ensures that all the <u>inputs</u> to our model (sector times in our case) are in the same range (normalization) or have the same mean and standard deviation (standardization) to facilitate learning.\n",
    "\n",
    "We haven't done this so far because the previous baselines did not use any input information; one predicted randomly, and the other predicted the most frequent class.\n",
    "\n",
    "In this case, we will perform standardization (normalization would also be valid). Let's first check the mean and standard deviation of the inputs."
   ]
  },
  {
   "cell_type": "code",
   "execution_count": 93,
   "metadata": {},
   "outputs": [
    {
     "data": {
      "text/html": [
       "<div>\n",
       "<style scoped>\n",
       "    .dataframe tbody tr th:only-of-type {\n",
       "        vertical-align: middle;\n",
       "    }\n",
       "\n",
       "    .dataframe tbody tr th {\n",
       "        vertical-align: top;\n",
       "    }\n",
       "\n",
       "    .dataframe thead th {\n",
       "        text-align: right;\n",
       "    }\n",
       "</style>\n",
       "<table border=\"1\" class=\"dataframe\">\n",
       "  <thead>\n",
       "    <tr style=\"text-align: right;\">\n",
       "      <th></th>\n",
       "      <th>Sector1Time</th>\n",
       "      <th>Sector2Time</th>\n",
       "      <th>Sector3Time</th>\n",
       "    </tr>\n",
       "  </thead>\n",
       "  <tbody>\n",
       "    <tr>\n",
       "      <th>mean</th>\n",
       "      <td>20.902278</td>\n",
       "      <td>37.992333</td>\n",
       "      <td>21.259767</td>\n",
       "    </tr>\n",
       "    <tr>\n",
       "      <th>std</th>\n",
       "      <td>1.376839</td>\n",
       "      <td>2.680778</td>\n",
       "      <td>0.959351</td>\n",
       "    </tr>\n",
       "  </tbody>\n",
       "</table>\n",
       "</div>"
      ],
      "text/plain": [
       "      Sector1Time  Sector2Time  Sector3Time\n",
       "mean    20.902278    37.992333    21.259767\n",
       "std      1.376839     2.680778     0.959351"
      ]
     },
     "execution_count": 93,
     "metadata": {},
     "output_type": "execute_result"
    }
   ],
   "source": [
    "# Mean and standard deviation of the inputs in our model\n",
    "X.describe().loc[[\"mean\", \"std\"]]"
   ]
  },
  {
   "cell_type": "markdown",
   "metadata": {},
   "source": [
    "<div class=\"alert alert-block alert-info\">\n",
    "    <b>Exercise:</b> Use the <a href=\"https://scikit-learn.org/stable/modules/generated/sklearn.preprocessing.StandardScaler.html\"><code>StandardScaler()</code></a> from <i>sklearn</i> to standardize the training and test X data. Store the new data in <code>X_std</code> and <code>X_test_std</code>. Remember that the test data is unknown to us, so it should not influence the calculation of the mean and standard deviation.\n",
    "</div>"
   ]
  },
  {
   "cell_type": "code",
   "execution_count": 94,
   "metadata": {},
   "outputs": [
    {
     "name": "stdout",
     "output_type": "stream",
     "text": [
      "[-1.46549439e-15 -6.06921920e-16 -8.96813488e-16]\n",
      "[1. 1. 1.]\n"
     ]
    }
   ],
   "source": [
    "from sklearn.preprocessing import StandardScaler\n",
    "standardizer = StandardScaler()\n",
    "\n",
    "# Your code here\n",
    "X_std=standardizer.fit_transform(X)\n",
    "X_test_std=standardizer.transform(X_test)\n",
    "\n",
    "#standarized for everything pq entran las X\n",
    "#Variables numéricas standarizar ar que estñe entre los mismos valores\n",
    "#Variables categóricas tb hay que normalizarlo en 1,2,3\n",
    "\n",
    "\n",
    "# Verify with: \n",
    "print(X_std.mean(axis = 0))\n",
    "print(X_std.std(axis = 0))"
   ]
  },
  {
   "cell_type": "markdown",
   "metadata": {},
   "source": [
    "### **6.1. Logistic Regression**\n",
    "\n",
    "We are now ready to train and evaluate new models <u>aiming to improve the baselines' metrics</u>. We will start with **Logistic Regression**.\n",
    "\n",
    "To use it, we simply need to create an object of the `LogisticRegression()` class, train it with `fit()`, and evaluate it with `predict()`."
   ]
  },
  {
   "cell_type": "code",
   "execution_count": 95,
   "metadata": {},
   "outputs": [
    {
     "name": "stdout",
     "output_type": "stream",
     "text": [
      "0.6086956521739131\n"
     ]
    }
   ],
   "source": [
    "from sklearn.linear_model import LogisticRegression\n",
    "\n",
    "# Create, train, and evaluate the model\n",
    "model_log = LogisticRegression()\n",
    "model_log.fit(X_std, Y.squeeze())  # The squeeze removes unnecessary dimensions\n",
    "pred_log = model_log.predict(X_test_std)\n",
    "print(metrics.accuracy_score(Y_test, pred_log))"
   ]
  },
  {
   "cell_type": "markdown",
   "metadata": {},
   "source": [
    "As you can see, this model achieves better results in terms of accuracy, but not much better."
   ]
  },
  {
   "cell_type": "markdown",
   "metadata": {},
   "source": [
    "### **6.2. K-Nearest Neighbors**\n",
    "\n",
    "The next model we can try is the `KNeighborsClassifier()`, which is used exactly the same way as the others."
   ]
  },
  {
   "cell_type": "code",
   "execution_count": 96,
   "metadata": {},
   "outputs": [
    {
     "name": "stdout",
     "output_type": "stream",
     "text": [
      "0.9565217391304348\n"
     ]
    }
   ],
   "source": [
    "from sklearn.neighbors import KNeighborsClassifier\n",
    "\n",
    "# Create, train, and evaluate the model\n",
    "model_knn = KNeighborsClassifier(n_neighbors = 3)\n",
    "model_knn.fit(X_std, Y.squeeze())\n",
    "pred_knn = model_knn.predict(X_test_std)\n",
    "print(metrics.accuracy_score(Y_test, pred_knn))"
   ]
  },
  {
   "cell_type": "markdown",
   "metadata": {},
   "source": [
    "The results in terms of accuracy with this model are very close to 100%, making it the best among those evaluated."
   ]
  },
  {
   "cell_type": "markdown",
   "metadata": {},
   "source": [
    "### **6.3. Decision Trees**\n",
    "\n",
    "Next, we will analyze the performance of a decision tree in solving this task. The class within the library is called `DecisionTreeClassifier()` and it has numerous hyperparameters, with one of the most notable being `max_depth`, which allows setting the maximum depth of the tree and thus controlling **overfitting**."
   ]
  },
  {
   "cell_type": "code",
   "execution_count": 97,
   "metadata": {},
   "outputs": [
    {
     "name": "stdout",
     "output_type": "stream",
     "text": [
      "0.9565217391304348\n"
     ]
    }
   ],
   "source": [
    "from sklearn.tree import DecisionTreeClassifier\n",
    "\n",
    "# Create, train, and evaluate the model\n",
    "model_tree = DecisionTreeClassifier(random_state = seed, max_depth = 2)\n",
    "model_tree.fit(X_std, Y.squeeze())\n",
    "pred_tree = model_tree.predict(X_test_std)\n",
    "print(metrics.accuracy_score(Y_test, pred_tree))"
   ]
  },
  {
   "cell_type": "markdown",
   "metadata": {},
   "source": [
    "The performance is similar to the previous model, but this one has the advantage of allowing us to see its internal workings, i.e., the tree it has created. To do this, we will need to install a new library."
   ]
  },
  {
   "cell_type": "code",
   "execution_count": 98,
   "metadata": {},
   "outputs": [
    {
     "name": "stdout",
     "output_type": "stream",
     "text": [
      "Requirement already satisfied: pydotplus in c:\\users\\uo288511\\.conda\\envs\\ssii\\lib\\site-packages (2.0.2)\n",
      "Requirement already satisfied: pyparsing>=2.0.1 in c:\\users\\uo288511\\.conda\\envs\\ssii\\lib\\site-packages (from pydotplus) (3.2.1)\n"
     ]
    }
   ],
   "source": [
    "! pip install pydotplus"
   ]
  },
  {
   "cell_type": "code",
   "execution_count": 99,
   "metadata": {},
   "outputs": [
    {
     "ename": "InvocationException",
     "evalue": "GraphViz's executables not found",
     "output_type": "error",
     "traceback": [
      "\u001b[1;31m---------------------------------------------------------------------------\u001b[0m",
      "\u001b[1;31mInvocationException\u001b[0m                       Traceback (most recent call last)",
      "Cell \u001b[1;32mIn[99], line 8\u001b[0m\n\u001b[0;32m      6\u001b[0m dot_data \u001b[38;5;241m=\u001b[39m export_graphviz(decision_tree \u001b[38;5;241m=\u001b[39m model_tree, feature_names \u001b[38;5;241m=\u001b[39m X\u001b[38;5;241m.\u001b[39mcolumns, class_names \u001b[38;5;241m=\u001b[39m [\u001b[38;5;124m'\u001b[39m\u001b[38;5;124mStroll\u001b[39m\u001b[38;5;124m'\u001b[39m, \u001b[38;5;124m'\u001b[39m\u001b[38;5;124mAlonso\u001b[39m\u001b[38;5;124m'\u001b[39m], filled \u001b[38;5;241m=\u001b[39m \u001b[38;5;28;01mTrue\u001b[39;00m)\n\u001b[0;32m      7\u001b[0m graph \u001b[38;5;241m=\u001b[39m pydotplus\u001b[38;5;241m.\u001b[39mgraph_from_dot_data(dot_data)\n\u001b[1;32m----> 8\u001b[0m Image(\u001b[43mgraph\u001b[49m\u001b[38;5;241;43m.\u001b[39;49m\u001b[43mcreate_png\u001b[49m\u001b[43m(\u001b[49m\u001b[43m)\u001b[49m)\n",
      "File \u001b[1;32mc:\\Users\\UO288511\\.conda\\envs\\SSII\\lib\\site-packages\\pydotplus\\graphviz.py:1797\u001b[0m, in \u001b[0;36mDot.__init__.<locals>.<lambda>\u001b[1;34m(f, prog)\u001b[0m\n\u001b[0;32m   1792\u001b[0m \u001b[38;5;66;03m# Automatically creates all the methods enabling the creation\u001b[39;00m\n\u001b[0;32m   1793\u001b[0m \u001b[38;5;66;03m# of output in any of the supported formats.\u001b[39;00m\n\u001b[0;32m   1794\u001b[0m \u001b[38;5;28;01mfor\u001b[39;00m frmt \u001b[38;5;129;01min\u001b[39;00m \u001b[38;5;28mself\u001b[39m\u001b[38;5;241m.\u001b[39mformats:\n\u001b[0;32m   1795\u001b[0m     \u001b[38;5;28mself\u001b[39m\u001b[38;5;241m.\u001b[39m\u001b[38;5;21m__setattr__\u001b[39m(\n\u001b[0;32m   1796\u001b[0m         \u001b[38;5;124m'\u001b[39m\u001b[38;5;124mcreate_\u001b[39m\u001b[38;5;124m'\u001b[39m \u001b[38;5;241m+\u001b[39m frmt,\n\u001b[1;32m-> 1797\u001b[0m         \u001b[38;5;28;01mlambda\u001b[39;00m f\u001b[38;5;241m=\u001b[39mfrmt, prog\u001b[38;5;241m=\u001b[39m\u001b[38;5;28mself\u001b[39m\u001b[38;5;241m.\u001b[39mprog: \u001b[38;5;28;43mself\u001b[39;49m\u001b[38;5;241;43m.\u001b[39;49m\u001b[43mcreate\u001b[49m\u001b[43m(\u001b[49m\u001b[38;5;28;43mformat\u001b[39;49m\u001b[38;5;241;43m=\u001b[39;49m\u001b[43mf\u001b[49m\u001b[43m,\u001b[49m\u001b[43m \u001b[49m\u001b[43mprog\u001b[49m\u001b[38;5;241;43m=\u001b[39;49m\u001b[43mprog\u001b[49m\u001b[43m)\u001b[49m\n\u001b[0;32m   1798\u001b[0m     )\n\u001b[0;32m   1799\u001b[0m     f \u001b[38;5;241m=\u001b[39m \u001b[38;5;28mself\u001b[39m\u001b[38;5;241m.\u001b[39m\u001b[38;5;18m__dict__\u001b[39m[\u001b[38;5;124m'\u001b[39m\u001b[38;5;124mcreate_\u001b[39m\u001b[38;5;124m'\u001b[39m \u001b[38;5;241m+\u001b[39m frmt]\n\u001b[0;32m   1800\u001b[0m     f\u001b[38;5;241m.\u001b[39m\u001b[38;5;18m__doc__\u001b[39m \u001b[38;5;241m=\u001b[39m (\n\u001b[0;32m   1801\u001b[0m \u001b[38;5;250m        \u001b[39m\u001b[38;5;124;03m'''Refer to the docstring accompanying the'''\u001b[39;00m\n\u001b[0;32m   1802\u001b[0m \u001b[38;5;250m        \u001b[39m\u001b[38;5;124;03m''''create' method for more information.'''\u001b[39;00m\n\u001b[0;32m   1803\u001b[0m     )\n",
      "File \u001b[1;32mc:\\Users\\UO288511\\.conda\\envs\\SSII\\lib\\site-packages\\pydotplus\\graphviz.py:1959\u001b[0m, in \u001b[0;36mDot.create\u001b[1;34m(self, prog, format)\u001b[0m\n\u001b[0;32m   1957\u001b[0m     \u001b[38;5;28mself\u001b[39m\u001b[38;5;241m.\u001b[39mprogs \u001b[38;5;241m=\u001b[39m find_graphviz()\n\u001b[0;32m   1958\u001b[0m     \u001b[38;5;28;01mif\u001b[39;00m \u001b[38;5;28mself\u001b[39m\u001b[38;5;241m.\u001b[39mprogs \u001b[38;5;129;01mis\u001b[39;00m \u001b[38;5;28;01mNone\u001b[39;00m:\n\u001b[1;32m-> 1959\u001b[0m         \u001b[38;5;28;01mraise\u001b[39;00m InvocationException(\n\u001b[0;32m   1960\u001b[0m             \u001b[38;5;124m'\u001b[39m\u001b[38;5;124mGraphViz\u001b[39m\u001b[38;5;130;01m\\'\u001b[39;00m\u001b[38;5;124ms executables not found\u001b[39m\u001b[38;5;124m'\u001b[39m)\n\u001b[0;32m   1962\u001b[0m \u001b[38;5;28;01mif\u001b[39;00m prog \u001b[38;5;129;01mnot\u001b[39;00m \u001b[38;5;129;01min\u001b[39;00m \u001b[38;5;28mself\u001b[39m\u001b[38;5;241m.\u001b[39mprogs:\n\u001b[0;32m   1963\u001b[0m     \u001b[38;5;28;01mraise\u001b[39;00m InvocationException(\n\u001b[0;32m   1964\u001b[0m         \u001b[38;5;124m'\u001b[39m\u001b[38;5;124mGraphViz\u001b[39m\u001b[38;5;130;01m\\'\u001b[39;00m\u001b[38;5;124ms executable \u001b[39m\u001b[38;5;124m\"\u001b[39m\u001b[38;5;132;01m%s\u001b[39;00m\u001b[38;5;124m\"\u001b[39m\u001b[38;5;124m not found\u001b[39m\u001b[38;5;124m'\u001b[39m \u001b[38;5;241m%\u001b[39m prog)\n",
      "\u001b[1;31mInvocationException\u001b[0m: GraphViz's executables not found"
     ]
    }
   ],
   "source": [
    "from sklearn.tree import export_graphviz\n",
    "from IPython.display import Image\n",
    "import pydotplus\n",
    "\n",
    "# Export the resulting tree to DOT format\n",
    "dot_data = export_graphviz(decision_tree = model_tree, feature_names = X.columns, class_names = ['Stroll', 'Alonso'], filled = True)\n",
    "graph = pydotplus.graph_from_dot_data(dot_data)\n",
    "Image(graph.create_png())"
   ]
  },
  {
   "cell_type": "markdown",
   "metadata": {},
   "source": [
    "### **6.4. Support Vector Machines (SVM)**\n",
    "\n",
    "The last model we are going to try is the SVM, implemented in the `SVC()` class. We will start with a **linear kernel**."
   ]
  },
  {
   "cell_type": "code",
   "execution_count": null,
   "metadata": {},
   "outputs": [
    {
     "name": "stdout",
     "output_type": "stream",
     "text": [
      "0.5652173913043478\n"
     ]
    }
   ],
   "source": [
    "from sklearn.svm import SVC\n",
    "\n",
    "# Create an SVM with a linear kernel, train, and evaluate\n",
    "model_svm = SVC(kernel = 'linear')\n",
    "model_svm.fit(X_std, Y.squeeze())\n",
    "pred_svm = model_svm.predict(X_test_std)\n",
    "print(metrics.accuracy_score(Y_test, pred_svm))"
   ]
  },
  {
   "cell_type": "markdown",
   "metadata": {},
   "source": [
    "The accuracy is not very high, so it's possible that the classes are not **linearly separable**.\n",
    "\n",
    "To improve performance, we will now try a **polynomial kernel** of degree 2."
   ]
  },
  {
   "cell_type": "code",
   "execution_count": null,
   "metadata": {},
   "outputs": [
    {
     "name": "stdout",
     "output_type": "stream",
     "text": [
      "0.5652173913043478\n"
     ]
    }
   ],
   "source": [
    "# Create an SVM with a polynomial kernel of degree 2 and independent term 1. Train and evaluate\n",
    "model_svm_p = SVC(kernel = 'poly', degree = 2, coef0 = 1)\n",
    "model_svm_p.fit(X_std, Y.squeeze())\n",
    "pred_svm_p = model_svm_p.predict(X_test_std)\n",
    "print(metrics.accuracy_score(Y_test, pred_svm_p))"
   ]
  },
  {
   "cell_type": "markdown",
   "metadata": {},
   "source": [
    "As you can see, the non-linearity of this model allows it to solve the problem with a precision identical to the best models."
   ]
  },
  {
   "cell_type": "markdown",
   "metadata": {},
   "source": [
    "<div class=\"alert alert-block alert-info\">\n",
    "    <b>Exercise:</b> Complete the function <code>train_and_eval()</code> for the remaining models, including both versions of the SVM. It uses the function <code>train_and_eval_model()</code> implemented below.\n",
    "</div>"
   ]
  },
  {
   "cell_type": "code",
   "execution_count": null,
   "metadata": {},
   "outputs": [],
   "source": [
    "def train_and_eval_model(model_name, model, X_std, Y, X_test_std, Y_test):\n",
    "\n",
    "    # Train the model\n",
    "    model.fit(X_std, Y.squeeze())\n",
    "\n",
    "    # Predictions\n",
    "    Y_train_pred = model.predict(X_std)\n",
    "    Y_test_pred = model.predict(X_test_std)\n",
    "\n",
    "    # Calculate metrics for training data\n",
    "    tr_accuracy = metrics.accuracy_score(Y, Y_train_pred)\n",
    "    tr_precision = metrics.precision_score(Y, Y_train_pred, zero_division = 0)\n",
    "    tr_recall = metrics.recall_score(Y, Y_train_pred)\n",
    "    tr_f1 = metrics.f1_score(Y, Y_train_pred)\n",
    "    \n",
    "    # Calculate metrics for test data\n",
    "    tst_accuracy = metrics.accuracy_score(Y_test, Y_test_pred)\n",
    "    tst_precision = metrics.precision_score(Y_test, Y_test_pred, zero_division = 0)\n",
    "    tst_recall = metrics.recall_score(Y_test, Y_test_pred)\n",
    "    tst_f1 = metrics.f1_score(Y_test, Y_test_pred)\n",
    "    \n",
    "    return (model_name, tr_accuracy, tr_precision, tr_recall, tr_f1, tst_accuracy, tst_precision, tst_recall, tst_f1)"
   ]
  },
  {
   "cell_type": "code",
   "execution_count": null,
   "metadata": {},
   "outputs": [
    {
     "data": {
      "text/html": [
       "<div>\n",
       "<style scoped>\n",
       "    .dataframe tbody tr th:only-of-type {\n",
       "        vertical-align: middle;\n",
       "    }\n",
       "\n",
       "    .dataframe tbody tr th {\n",
       "        vertical-align: top;\n",
       "    }\n",
       "\n",
       "    .dataframe thead tr th {\n",
       "        text-align: left;\n",
       "    }\n",
       "</style>\n",
       "<table border=\"1\" class=\"dataframe\">\n",
       "  <thead>\n",
       "    <tr>\n",
       "      <th></th>\n",
       "      <th>Model</th>\n",
       "      <th colspan=\"4\" halign=\"left\">Train</th>\n",
       "      <th colspan=\"4\" halign=\"left\">Test</th>\n",
       "    </tr>\n",
       "    <tr>\n",
       "      <th></th>\n",
       "      <th>Name</th>\n",
       "      <th>Accuracy</th>\n",
       "      <th>Precision</th>\n",
       "      <th>Recall</th>\n",
       "      <th>F1</th>\n",
       "      <th>Accuracy</th>\n",
       "      <th>Precision</th>\n",
       "      <th>Recall</th>\n",
       "      <th>F1</th>\n",
       "    </tr>\n",
       "  </thead>\n",
       "  <tbody>\n",
       "    <tr>\n",
       "      <th>0</th>\n",
       "      <td>Random</td>\n",
       "      <td>0.544444</td>\n",
       "      <td>0.615385</td>\n",
       "      <td>0.603774</td>\n",
       "      <td>0.609524</td>\n",
       "      <td>0.565217</td>\n",
       "      <td>0.636364</td>\n",
       "      <td>0.538462</td>\n",
       "      <td>0.583333</td>\n",
       "    </tr>\n",
       "    <tr>\n",
       "      <th>1</th>\n",
       "      <td>ZeroR</td>\n",
       "      <td>0.588889</td>\n",
       "      <td>0.588889</td>\n",
       "      <td>1.000000</td>\n",
       "      <td>0.741259</td>\n",
       "      <td>0.565217</td>\n",
       "      <td>0.565217</td>\n",
       "      <td>1.000000</td>\n",
       "      <td>0.722222</td>\n",
       "    </tr>\n",
       "    <tr>\n",
       "      <th>2</th>\n",
       "      <td>Logistic Regression</td>\n",
       "      <td>0.622222</td>\n",
       "      <td>0.611765</td>\n",
       "      <td>0.981132</td>\n",
       "      <td>0.753623</td>\n",
       "      <td>0.478261</td>\n",
       "      <td>0.523810</td>\n",
       "      <td>0.846154</td>\n",
       "      <td>0.647059</td>\n",
       "    </tr>\n",
       "    <tr>\n",
       "      <th>3</th>\n",
       "      <td>K-Nearest Neighbors</td>\n",
       "      <td>0.900000</td>\n",
       "      <td>0.940000</td>\n",
       "      <td>0.886792</td>\n",
       "      <td>0.912621</td>\n",
       "      <td>0.565217</td>\n",
       "      <td>0.565217</td>\n",
       "      <td>1.000000</td>\n",
       "      <td>0.722222</td>\n",
       "    </tr>\n",
       "    <tr>\n",
       "      <th>4</th>\n",
       "      <td>Decision Tree</td>\n",
       "      <td>0.877778</td>\n",
       "      <td>1.000000</td>\n",
       "      <td>0.792453</td>\n",
       "      <td>0.884211</td>\n",
       "      <td>0.565217</td>\n",
       "      <td>0.565217</td>\n",
       "      <td>1.000000</td>\n",
       "      <td>0.722222</td>\n",
       "    </tr>\n",
       "    <tr>\n",
       "      <th>5</th>\n",
       "      <td>SVM (Linear Kernel)</td>\n",
       "      <td>0.611111</td>\n",
       "      <td>0.602273</td>\n",
       "      <td>1.000000</td>\n",
       "      <td>0.751773</td>\n",
       "      <td>0.565217</td>\n",
       "      <td>0.565217</td>\n",
       "      <td>1.000000</td>\n",
       "      <td>0.722222</td>\n",
       "    </tr>\n",
       "    <tr>\n",
       "      <th>6</th>\n",
       "      <td>SVM (Polinomial Kernel)</td>\n",
       "      <td>0.588889</td>\n",
       "      <td>0.588889</td>\n",
       "      <td>1.000000</td>\n",
       "      <td>0.741259</td>\n",
       "      <td>0.521739</td>\n",
       "      <td>0.545455</td>\n",
       "      <td>0.923077</td>\n",
       "      <td>0.685714</td>\n",
       "    </tr>\n",
       "  </tbody>\n",
       "</table>\n",
       "</div>"
      ],
      "text/plain": [
       "                     Model     Train                                    Test  \\\n",
       "                      Name  Accuracy Precision    Recall        F1  Accuracy   \n",
       "0                   Random  0.544444  0.615385  0.603774  0.609524  0.565217   \n",
       "1                    ZeroR  0.588889  0.588889  1.000000  0.741259  0.565217   \n",
       "2      Logistic Regression  0.622222  0.611765  0.981132  0.753623  0.478261   \n",
       "3      K-Nearest Neighbors  0.900000  0.940000  0.886792  0.912621  0.565217   \n",
       "4            Decision Tree  0.877778  1.000000  0.792453  0.884211  0.565217   \n",
       "5      SVM (Linear Kernel)  0.611111  0.602273  1.000000  0.751773  0.565217   \n",
       "6  SVM (Polinomial Kernel)  0.588889  0.588889  1.000000  0.741259  0.521739   \n",
       "\n",
       "                                 \n",
       "  Precision    Recall        F1  \n",
       "0  0.636364  0.538462  0.583333  \n",
       "1  0.565217  1.000000  0.722222  \n",
       "2  0.523810  0.846154  0.647059  \n",
       "3  0.565217  1.000000  0.722222  \n",
       "4  0.565217  1.000000  0.722222  \n",
       "5  0.565217  1.000000  0.722222  \n",
       "6  0.545455  0.923077  0.685714  "
      ]
     },
     "metadata": {},
     "output_type": "display_data"
    }
   ],
   "source": [
    "def train_and_eval(X_std, Y, X_test_std, Y_test):\n",
    "\n",
    "    # Create a list to store the results of each model\n",
    "    all_results = []\n",
    "    \n",
    "    # Random baseline\n",
    "    baseline_aleatorio = DummyClassifier(strategy = 'uniform', random_state = seed)\n",
    "    model_results = train_and_eval_model('Random', baseline_aleatorio, X_std, Y, X_test_std, Y_test)\n",
    "    all_results.append(model_results)\n",
    "    \n",
    "    # Your code here\n",
    "    #Zeror\n",
    "    baseline_zeror = DummyClassifier(strategy='most_frequent')\n",
    "    model_results = train_and_eval_model('ZeroR', baseline_zeror, X_std, Y, X_test_std, Y_test)\n",
    "    all_results.append(model_results)\n",
    "\n",
    "     # Logistic Regression\n",
    "    model_log = LogisticRegression()\n",
    "    model_results = train_and_eval_model('Logistic Regression', model_log, X_std, Y, X_test_std, Y_test)\n",
    "    all_results.append(model_results)\n",
    "\n",
    "    # K-Nearest Neighbors\n",
    "    model_knn = KNeighborsClassifier(n_neighbors=3)\n",
    "    model_results = train_and_eval_model('K-Nearest Neighbors', model_knn, X_std, Y, X_test_std, Y_test)\n",
    "    all_results.append(model_results)\n",
    "\n",
    "    # Decision Tree\n",
    "    model_tree = DecisionTreeClassifier(random_state=seed, max_depth=2)\n",
    "    model_results = train_and_eval_model('Decision Tree', model_tree, X_std, Y, X_test_std, Y_test)\n",
    "    all_results.append(model_results)\n",
    "\n",
    "    # SVM with linear kernel\n",
    "    model_svm = SVC(kernel='linear')\n",
    "    model_results = train_and_eval_model('SVM (Linear Kernel)', model_svm, X_std, Y, X_test_std, Y_test)\n",
    "    all_results.append(model_results)\n",
    "\n",
    "    # SVM with Ppolinomial kernel\n",
    "    model_svm_poly = SVC(kernel='poly')\n",
    "    model_results = train_and_eval_model('SVM (Polinomial Kernel)', model_svm_poly, X_std, Y, X_test_std, Y_test)\n",
    "    all_results.append(model_results)\n",
    "\n",
    "\n",
    "    # Print the resulting dataframe\n",
    "    multi_index = pd.MultiIndex.from_tuples([ ('Model', 'Name'), ('Train', 'Accuracy'), ('Train', 'Precision'), ('Train', 'Recall'), ('Train', 'F1'), ('Test', 'Accuracy'), ('Test', 'Precision'), ('Test', 'Recall'), ('Test', 'F1') ])    \n",
    "    all_results = pd.DataFrame(all_results, columns = multi_index)\n",
    "    display(all_results)\n",
    "\n",
    "train_and_eval(X_std, Y, X_test_std, Y_test)"
   ]
  },
  {
   "cell_type": "markdown",
   "metadata": {},
   "source": [
    "<div class=\"alert alert-block alert-info\">\n",
    "    <b>Exercise:</b> Which model do you think is the best? Why?\n",
    "</div>"
   ]
  },
  {
   "cell_type": "code",
   "execution_count": null,
   "metadata": {},
   "outputs": [],
   "source": [
    "# Your response here\n",
    "\n",
    "#acuracy and preciosion para binaria\n",
    "#multietiqueta 1,2,3 ... recall y f1\n",
    "#qu clases el modilo se confnude?\n"
   ]
  },
  {
   "cell_type": "markdown",
   "metadata": {},
   "source": [
    "<div class=\"alert alert-block alert-info\">\n",
    "    <b>Exercise:</b> Create a model capable of predicting, based on the 3 sectors of a driver, whether the tire used for the lap is for wet conditions (\"INTERMEDIATE\" or \"WET\") or not. Perform all necessary preprocessing and try all the classification models we have seen so far using the previous function.\n",
    "</div>"
   ]
  },
  {
   "cell_type": "code",
   "execution_count": null,
   "metadata": {},
   "outputs": [],
   "source": [
    "# Your code here\n",
    "\n",
    "#create columns named tire, and if its intermediate or wet put 1 if not 0 and do"
   ]
  },
  {
   "cell_type": "code",
   "execution_count": 101,
   "metadata": {},
   "outputs": [],
   "source": [
    "data_lluvia=data[[\"Sector1Time\", \"Sector2Time\", \"Sector3Time\", \"Compound\"]].copy()\n",
    "\n",
    "data_lluvia[\"Sector1Time\"]=data_lluvia[\"Sector1Time\"].dt.total_seconds()\n",
    "data_lluvia[\"Sector2Time\"]=data_lluvia[\"Sector2Time\"].dt.total_seconds()\n",
    "data_lluvia[\"Sector3Time\"]=data_lluvia[\"Sector3Time\"].dt.total_seconds()\n",
    "\n",
    "data_lluvia[\"Class\"]=data_lluvia[\"Compound\"].apply(lambda x: 1 if (x==\"WET\" or x==\"INTERMEDIATE\") else 0)\n",
    "\n",
    "\n",
    "data_lluvia_train, data_lluvia_test=train_test_split(data_lluvia, test_size=0.2, random_state=seed)\n",
    "\n",
    "X_train = data_lluvia_train[['Sector1Time', 'Sector2Time', 'Sector3Time']]\n",
    "Y_train = data_lluvia_train['Class']"
   ]
  },
  {
   "cell_type": "code",
   "execution_count": 103,
   "metadata": {},
   "outputs": [
    {
     "data": {
      "text/html": [
       "<div>\n",
       "<style scoped>\n",
       "    .dataframe tbody tr th:only-of-type {\n",
       "        vertical-align: middle;\n",
       "    }\n",
       "\n",
       "    .dataframe tbody tr th {\n",
       "        vertical-align: top;\n",
       "    }\n",
       "\n",
       "    .dataframe thead tr th {\n",
       "        text-align: left;\n",
       "    }\n",
       "</style>\n",
       "<table border=\"1\" class=\"dataframe\">\n",
       "  <thead>\n",
       "    <tr>\n",
       "      <th></th>\n",
       "      <th>Model</th>\n",
       "      <th colspan=\"4\" halign=\"left\">Train</th>\n",
       "      <th colspan=\"4\" halign=\"left\">Test</th>\n",
       "    </tr>\n",
       "    <tr>\n",
       "      <th></th>\n",
       "      <th>Name</th>\n",
       "      <th>Accuracy</th>\n",
       "      <th>Precision</th>\n",
       "      <th>Recall</th>\n",
       "      <th>F1</th>\n",
       "      <th>Accuracy</th>\n",
       "      <th>Precision</th>\n",
       "      <th>Recall</th>\n",
       "      <th>F1</th>\n",
       "    </tr>\n",
       "  </thead>\n",
       "  <tbody>\n",
       "    <tr>\n",
       "      <th>0</th>\n",
       "      <td>Random</td>\n",
       "      <td>0.523337</td>\n",
       "      <td>0.263713</td>\n",
       "      <td>0.488281</td>\n",
       "      <td>0.342466</td>\n",
       "      <td>0.472222</td>\n",
       "      <td>0.183206</td>\n",
       "      <td>0.48</td>\n",
       "      <td>0.265193</td>\n",
       "    </tr>\n",
       "    <tr>\n",
       "      <th>1</th>\n",
       "      <td>ZeroR</td>\n",
       "      <td>0.745780</td>\n",
       "      <td>0.000000</td>\n",
       "      <td>0.000000</td>\n",
       "      <td>0.000000</td>\n",
       "      <td>0.801587</td>\n",
       "      <td>0.000000</td>\n",
       "      <td>0.00</td>\n",
       "      <td>0.000000</td>\n",
       "    </tr>\n",
       "    <tr>\n",
       "      <th>2</th>\n",
       "      <td>Logistic Regression</td>\n",
       "      <td>0.956306</td>\n",
       "      <td>0.927419</td>\n",
       "      <td>0.898438</td>\n",
       "      <td>0.912698</td>\n",
       "      <td>0.960317</td>\n",
       "      <td>0.884615</td>\n",
       "      <td>0.92</td>\n",
       "      <td>0.901961</td>\n",
       "    </tr>\n",
       "    <tr>\n",
       "      <th>3</th>\n",
       "      <td>K-Nearest Neighbors</td>\n",
       "      <td>0.991063</td>\n",
       "      <td>0.973180</td>\n",
       "      <td>0.992188</td>\n",
       "      <td>0.982592</td>\n",
       "      <td>0.992063</td>\n",
       "      <td>0.961538</td>\n",
       "      <td>1.00</td>\n",
       "      <td>0.980392</td>\n",
       "    </tr>\n",
       "    <tr>\n",
       "      <th>4</th>\n",
       "      <td>Decision Tree</td>\n",
       "      <td>0.983118</td>\n",
       "      <td>0.937729</td>\n",
       "      <td>1.000000</td>\n",
       "      <td>0.967864</td>\n",
       "      <td>0.976190</td>\n",
       "      <td>0.892857</td>\n",
       "      <td>1.00</td>\n",
       "      <td>0.943396</td>\n",
       "    </tr>\n",
       "    <tr>\n",
       "      <th>5</th>\n",
       "      <td>SVM (Linear Kernel)</td>\n",
       "      <td>0.976167</td>\n",
       "      <td>0.926471</td>\n",
       "      <td>0.984375</td>\n",
       "      <td>0.954545</td>\n",
       "      <td>0.972222</td>\n",
       "      <td>0.890909</td>\n",
       "      <td>0.98</td>\n",
       "      <td>0.933333</td>\n",
       "    </tr>\n",
       "    <tr>\n",
       "      <th>6</th>\n",
       "      <td>SVM (Polinomial Kernel)</td>\n",
       "      <td>0.920556</td>\n",
       "      <td>0.953608</td>\n",
       "      <td>0.722656</td>\n",
       "      <td>0.822222</td>\n",
       "      <td>0.936508</td>\n",
       "      <td>0.925000</td>\n",
       "      <td>0.74</td>\n",
       "      <td>0.822222</td>\n",
       "    </tr>\n",
       "  </tbody>\n",
       "</table>\n",
       "</div>"
      ],
      "text/plain": [
       "                     Model     Train                                    Test  \\\n",
       "                      Name  Accuracy Precision    Recall        F1  Accuracy   \n",
       "0                   Random  0.523337  0.263713  0.488281  0.342466  0.472222   \n",
       "1                    ZeroR  0.745780  0.000000  0.000000  0.000000  0.801587   \n",
       "2      Logistic Regression  0.956306  0.927419  0.898438  0.912698  0.960317   \n",
       "3      K-Nearest Neighbors  0.991063  0.973180  0.992188  0.982592  0.992063   \n",
       "4            Decision Tree  0.983118  0.937729  1.000000  0.967864  0.976190   \n",
       "5      SVM (Linear Kernel)  0.976167  0.926471  0.984375  0.954545  0.972222   \n",
       "6  SVM (Polinomial Kernel)  0.920556  0.953608  0.722656  0.822222  0.936508   \n",
       "\n",
       "                              \n",
       "  Precision Recall        F1  \n",
       "0  0.183206   0.48  0.265193  \n",
       "1  0.000000   0.00  0.000000  \n",
       "2  0.884615   0.92  0.901961  \n",
       "3  0.961538   1.00  0.980392  \n",
       "4  0.892857   1.00  0.943396  \n",
       "5  0.890909   0.98  0.933333  \n",
       "6  0.925000   0.74  0.822222  "
      ]
     },
     "metadata": {},
     "output_type": "display_data"
    }
   ],
   "source": [
    "\n",
    "X_test = data_lluvia_test[['Sector1Time', 'Sector2Time', 'Sector3Time']]\n",
    "Y_test = data_lluvia_test['Class']\n",
    "\n",
    "\n",
    "scaler = StandardScaler()\n",
    "X_train_std = scaler.fit_transform(X_train)\n",
    "X_test_std = scaler.transform(X_test)\n",
    "\n",
    "train_and_eval(X_train_std, Y_train, X_test_std,Y_test)\n"
   ]
  },
  {
   "cell_type": "code",
   "execution_count": null,
   "metadata": {},
   "outputs": [],
   "source": [
    "\n",
    "\n",
    "   "
   ]
  },
  {
   "cell_type": "code",
   "execution_count": null,
   "metadata": {},
   "outputs": [],
   "source": []
  }
 ],
 "metadata": {
  "kernelspec": {
   "display_name": "Python 3",
   "language": "python",
   "name": "python3"
  },
  "language_info": {
   "codemirror_mode": {
    "name": "ipython",
    "version": 3
   },
   "file_extension": ".py",
   "mimetype": "text/x-python",
   "name": "python",
   "nbconvert_exporter": "python",
   "pygments_lexer": "ipython3",
   "version": "3.10.16"
  }
 },
 "nbformat": 4,
 "nbformat_minor": 2
}
